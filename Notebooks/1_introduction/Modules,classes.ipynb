{
 "cells": [
  {
   "cell_type": "markdown",
   "metadata": {},
   "source": [
    "A module is a collection of functions and variables that have been bundled together in a single file. Modules help us:\n",
    "\n",
    "    Organize our code by separating related functions and objects into their own modules.\n",
    "    Gain new functionality by using code written by others without spending a large amount of time diving into how exactly it's implemented.\n"
   ]
  },
  {
   "cell_type": "code",
   "execution_count": 21,
   "metadata": {},
   "outputs": [],
   "source": [
    "import kaka"
   ]
  },
  {
   "cell_type": "code",
   "execution_count": 1,
   "metadata": {},
   "outputs": [
    {
     "name": "stdout",
     "output_type": "stream",
     "text": [
      "csv\n"
     ]
    }
   ],
   "source": [
    "class Dataset:\n",
    "    def __init__(self): #nstantiate the objec\n",
    "        self.type = \"csv\"\n",
    "\n",
    "dataset = Dataset()\n",
    "print(dataset.type)"
   ]
  },
  {
   "cell_type": "markdown",
   "metadata": {},
   "source": [
    "\n",
    "    Add a data parameter to the __init__() method, and set the value to the self.data attribute.\n",
    "    Read the data from nfl.csv and set it to the variable nfl_data.\n",
    "    Make an instance of the class, passing in nfl_data to the __init__() method (when you call Dataset(...)).\n",
    "        Assign th1e result to the variable nfl_dataset.\n",
    "    Use the data attribute to access the underlying data for nfl_dataset and assign the result to the variable dataset_data.\n"
   ]
  },
  {
   "cell_type": "code",
   "execution_count": 6,
   "metadata": {},
   "outputs": [],
   "source": [
    "import csv\n",
    "class Dataset:\n",
    "    def __init__(self, data):\n",
    "        self.data = data\n",
    "\n",
    "f = open(\"/home/kamlesh/AnacondaProjects/Dataquest/Data/nfl.csv\", 'r')\n",
    "csvreader = csv.reader(f)\n",
    "nfl_data = list(csvreader)\n",
    "\n",
    "nfl_dataset = Dataset(nfl_data)\n",
    "dataset_data = nfl_dataset.data"
   ]
  },
  {
   "cell_type": "code",
   "execution_count": 8,
   "metadata": {},
   "outputs": [
    {
     "data": {
      "text/plain": [
       "[['year', 'week', 'winner', 'loser'],\n",
       " ['2009', '1', 'Pittsburgh Steelers', 'Tennessee Titans'],\n",
       " ['2009', '1', 'Minnesota Vikings', 'Cleveland Browns'],\n",
       " ['2009', '1', 'New York Giants', 'Washington Redskins'],\n",
       " ['2009', '1', 'San Francisco 49ers', 'Arizona Cardinals']]"
      ]
     },
     "execution_count": 8,
     "metadata": {},
     "output_type": "execute_result"
    }
   ],
   "source": [
    "dataset_data[0:5]"
   ]
  },
  {
   "cell_type": "markdown",
   "metadata": {},
   "source": [
    "Extract header method can be witten \n",
    "\n",
    "But it can be called by multiple times by a user, taking a row each time\n",
    "\n",
    "So instead of it make it an initilizer method so that you don't havve to call it again and again."
   ]
  },
  {
   "cell_type": "code",
   "execution_count": 9,
   "metadata": {},
   "outputs": [],
   "source": [
    "\n",
    "class Dataset:\n",
    "    def __init__(self, data):\n",
    "        self.header = data[0]\n",
    "        self.data = data[1:]\n",
    "\n",
    "nfl_dataset = Dataset(nfl_data)\n",
    "nfl_header = nfl_dataset.header"
   ]
  },
  {
   "cell_type": "code",
   "execution_count": 10,
   "metadata": {},
   "outputs": [
    {
     "data": {
      "text/plain": [
       "['year', 'week', 'winner', 'loser']"
      ]
     },
     "execution_count": 10,
     "metadata": {},
     "output_type": "execute_result"
    }
   ],
   "source": [
    "nfl_header"
   ]
  },
  {
   "cell_type": "markdown",
   "metadata": {},
   "source": [
    "A great function to help us search the header and extract both the index and label to check is called enumerate(). Here's an example on how it works:\n",
    "\n",
    "for idx, value in enumerate(['foo', 'bar']):\n",
    "\n",
    "    print(idx, value)\n",
    "\n",
    "This will print 0 foo and 1 bar which represents the index and value, respectively."
   ]
  },
  {
   "cell_type": "markdown",
   "metadata": {},
   "source": [
    "instructions\n",
    "\n",
    "    Add a method named column that takes in a label argument, finds the index of the header, and returns a list of the column data.\n",
    "        If the label is not in the header, you should return None.\n",
    "    Create a variable called year_column and set it to the return value of column('year').\n",
    "    Create a variable called player_column and set it to the return value of column('player').\n"
   ]
  },
  {
   "cell_type": "code",
   "execution_count": 14,
   "metadata": {},
   "outputs": [],
   "source": [
    "class Dataset:\n",
    "    def __init__(self, data):\n",
    "        self.header = data[0]\n",
    "        self.data = data[1:]\n",
    "        \n",
    "    def column(self, label):\n",
    "        if label not in self.header:\n",
    "            print(\"Column not in header\")\n",
    "            return None\n",
    "        \n",
    "        index = 0\n",
    "        for idx, value in enumerate(self.header):\n",
    "            if value == label:\n",
    "                index = idx\n",
    "        col_data =[]\n",
    "        for row in self.data:\n",
    "            col_data.append(row[index])\n",
    "        return col_data\n",
    "    \n",
    "nfl_object = Dataset(nfl_data)\n",
    "nfl_header = nfl_object.header    \n",
    "year_column = nfl_object.column('year')    "
   ]
  },
  {
   "cell_type": "code",
   "execution_count": 17,
   "metadata": {},
   "outputs": [
    {
     "data": {
      "text/plain": [
       "['2009', '2009', '2009', '2009', '2009']"
      ]
     },
     "execution_count": 17,
     "metadata": {},
     "output_type": "execute_result"
    }
   ],
   "source": [
    "year_column[0:5]"
   ]
  },
  {
   "cell_type": "markdown",
   "metadata": {},
   "source": [
    "\n",
    "    Add a method to the Dataset class called count_unique() that takes in a label arguments.\n",
    "    Get the unique set of items from the column() method and return the total count.\n",
    "    Use the instance method to assign the number of unique term values of year to total_years.\n"
   ]
  },
  {
   "cell_type": "code",
   "execution_count": 18,
   "metadata": {},
   "outputs": [],
   "source": [
    "nfl_dataset = Dataset(nfl_data)\n",
    "# \n",
    "class Dataset:\n",
    "    def __init__(self, data):\n",
    "        self.header = data[0]\n",
    "        self.data = data[1:]\n",
    "    \n",
    "    def column(self, label):\n",
    "        if label not in self.header:\n",
    "            return None\n",
    "        \n",
    "        index = 0\n",
    "        for idx, element in enumerate(self.header):\n",
    "            if label == element:\n",
    "                index = idx\n",
    "        \n",
    "        column = []\n",
    "        for row in self.data:\n",
    "            column.append(row[index])\n",
    "        return column\n",
    "    \n",
    "    def count_unique(self, label):\n",
    "        unique_results = set(self.column(label)) # see we can access the method of the class internally likeC++\n",
    "        count = len(unique_results)\n",
    "        return count\n",
    "\n",
    "nfl_dataset = Dataset(nfl_data)\n",
    "total_years = nfl_dataset.count_unique('year')"
   ]
  },
  {
   "cell_type": "code",
   "execution_count": 19,
   "metadata": {},
   "outputs": [
    {
     "name": "stdout",
     "output_type": "stream",
     "text": [
      "<__main__.Dataset object at 0x7f3c10651ac8>\n"
     ]
    }
   ],
   "source": [
    "print(nfl_dataset)"
   ]
  },
  {
   "cell_type": "markdown",
   "metadata": {},
   "source": [
    "### Error handling\n"
   ]
  },
  {
   "cell_type": "code",
   "execution_count": 23,
   "metadata": {},
   "outputs": [],
   "source": [
    "import pandas as pd\n",
    "\n",
    "leg = pd.read_csv('/home/kamlesh/AnacondaProjects/Dataquest/Data/legislators.csv')"
   ]
  },
  {
   "cell_type": "code",
   "execution_count": 24,
   "metadata": {},
   "outputs": [
    {
     "data": {
      "text/html": [
       "<div>\n",
       "<style scoped>\n",
       "    .dataframe tbody tr th:only-of-type {\n",
       "        vertical-align: middle;\n",
       "    }\n",
       "\n",
       "    .dataframe tbody tr th {\n",
       "        vertical-align: top;\n",
       "    }\n",
       "\n",
       "    .dataframe thead th {\n",
       "        text-align: right;\n",
       "    }\n",
       "</style>\n",
       "<table border=\"1\" class=\"dataframe\">\n",
       "  <thead>\n",
       "    <tr style=\"text-align: right;\">\n",
       "      <th></th>\n",
       "      <th>last_name</th>\n",
       "      <th>first_name</th>\n",
       "      <th>birthday</th>\n",
       "      <th>gender</th>\n",
       "      <th>type</th>\n",
       "      <th>state</th>\n",
       "      <th>party</th>\n",
       "    </tr>\n",
       "  </thead>\n",
       "  <tbody>\n",
       "    <tr>\n",
       "      <th>0</th>\n",
       "      <td>Bassett</td>\n",
       "      <td>Richard</td>\n",
       "      <td>1745-04-02</td>\n",
       "      <td>M</td>\n",
       "      <td>sen</td>\n",
       "      <td>DE</td>\n",
       "      <td>Anti-Administration</td>\n",
       "    </tr>\n",
       "    <tr>\n",
       "      <th>1</th>\n",
       "      <td>Bland</td>\n",
       "      <td>Theodorick</td>\n",
       "      <td>1742-03-21</td>\n",
       "      <td>NaN</td>\n",
       "      <td>rep</td>\n",
       "      <td>VA</td>\n",
       "      <td>NaN</td>\n",
       "    </tr>\n",
       "    <tr>\n",
       "      <th>2</th>\n",
       "      <td>Burke</td>\n",
       "      <td>Aedanus</td>\n",
       "      <td>1743-06-16</td>\n",
       "      <td>NaN</td>\n",
       "      <td>rep</td>\n",
       "      <td>SC</td>\n",
       "      <td>NaN</td>\n",
       "    </tr>\n",
       "    <tr>\n",
       "      <th>3</th>\n",
       "      <td>Carroll</td>\n",
       "      <td>Daniel</td>\n",
       "      <td>1730-07-22</td>\n",
       "      <td>M</td>\n",
       "      <td>rep</td>\n",
       "      <td>MD</td>\n",
       "      <td>NaN</td>\n",
       "    </tr>\n",
       "    <tr>\n",
       "      <th>4</th>\n",
       "      <td>Clymer</td>\n",
       "      <td>George</td>\n",
       "      <td>1739-03-16</td>\n",
       "      <td>M</td>\n",
       "      <td>rep</td>\n",
       "      <td>PA</td>\n",
       "      <td>NaN</td>\n",
       "    </tr>\n",
       "  </tbody>\n",
       "</table>\n",
       "</div>"
      ],
      "text/plain": [
       "  last_name  first_name    birthday gender type state                party\n",
       "0   Bassett     Richard  1745-04-02      M  sen    DE  Anti-Administration\n",
       "1     Bland  Theodorick  1742-03-21    NaN  rep    VA                  NaN\n",
       "2     Burke     Aedanus  1743-06-16    NaN  rep    SC                  NaN\n",
       "3   Carroll      Daniel  1730-07-22      M  rep    MD                  NaN\n",
       "4    Clymer      George  1739-03-16      M  rep    PA                  NaN"
      ]
     },
     "execution_count": 24,
     "metadata": {},
     "output_type": "execute_result"
    }
   ],
   "source": [
    "leg.head()"
   ]
  },
  {
   "cell_type": "code",
   "execution_count": 27,
   "metadata": {},
   "outputs": [],
   "source": [
    "file = open('/home/kamlesh/AnacondaProjects/Dataquest/Data/legislators.csv')\n",
    "legs_l = list(csv.reader(file))\n"
   ]
  },
  {
   "cell_type": "code",
   "execution_count": 28,
   "metadata": {},
   "outputs": [
    {
     "data": {
      "text/plain": [
       "[['last_name', 'first_name', 'birthday', 'gender', 'type', 'state', 'party'],\n",
       " ['Bassett', 'Richard', '1745-04-02', 'M', 'sen', 'DE', 'Anti-Administration'],\n",
       " ['Bland', 'Theodorick', '1742-03-21', '', 'rep', 'VA', ''],\n",
       " ['Burke', 'Aedanus', '1743-06-16', '', 'rep', 'SC', ''],\n",
       " ['Carroll', 'Daniel', '1730-07-22', 'M', 'rep', 'MD', '']]"
      ]
     },
     "execution_count": 28,
     "metadata": {},
     "output_type": "execute_result"
    }
   ],
   "source": [
    "legs_l[0:5]"
   ]
  },
  {
   "cell_type": "code",
   "execution_count": 29,
   "metadata": {},
   "outputs": [
    {
     "name": "stdout",
     "output_type": "stream",
     "text": [
      "{'', 'F', 'gender', 'M'}\n"
     ]
    }
   ],
   "source": [
    "genders =[]\n",
    "for i in legs_l:\n",
    "    genders.append(i[3])\n",
    "    \n",
    "set_gender = set(genders)\n",
    "print(set_gender)"
   ]
  },
  {
   "cell_type": "markdown",
   "metadata": {},
   "source": [
    "\n",
    "    Extract the party column from legislators and convert it to a set. Assign the result to party.\n",
    "    Print out party and inspect the values.\n",
    "    Print out legislators and inspect the data.\n"
   ]
  },
  {
   "cell_type": "code",
   "execution_count": 31,
   "metadata": {},
   "outputs": [
    {
     "name": "stdout",
     "output_type": "stream",
     "text": [
      "{'', 'Pro-Administration', 'Conservative', 'Progressive Republican', 'Unknown', 'States Rights', 'New Progressive', 'Union Democrat', 'Jackson Republican', 'Crawford Republican', 'Whig', 'party', 'Ind. Democrat', 'Independent Democrat', 'Union Labor', 'Anti-Jacksonian', 'Populist', 'National Greenbacker', 'Democratic and Union Labor', 'Ind. Whig', 'Unionist', 'Federalist', 'Anti-Administration', 'Adams Democrat', 'Ind. Republican', 'Socialist', 'Readjuster Democrat', 'Anti Masonic', 'Democrat', 'Law and Order', 'Free Soil', 'Independent', 'Readjuster', 'Union', 'Constitutional Unionist', 'Progressive', 'American Labor', 'Unconditional Unionist', 'Anti-Lecompton Democrat', 'Anti Jacksonian', 'Adams', 'Conservative Republican', 'Nonpartisan', 'Liberty', 'Prohibitionist', 'Popular Democrat', 'Democratic Republican', 'Jackson', 'Liberal Republican', 'American', 'Ind. Republican-Democrat', 'Silver Republican', 'Free Silver', 'Republican-Conservative', 'Democrat-Liberal', 'Republican', 'Nullifier', 'Jacksonian', 'Farmer-Labor', 'Coalitionist', 'Anti Jackson'}\n"
     ]
    }
   ],
   "source": [
    "party =[]\n",
    "for i in legs_l:\n",
    "    party.append(i[6])\n",
    "    \n",
    "set_party = set(party)\n",
    "print(set_party)"
   ]
  },
  {
   "cell_type": "markdown",
   "metadata": {},
   "source": [
    "You may have noticed that the set representations of the gender and party columns on the previous two screens contained an empty string (''). This indicates that one or more of the rows in the data have missing values in those columns. Missing values are very common in real world data analysis, since the people compiling the datasets often don't have full information.\n",
    "\n",
    "You can use one of the following strategies to address missing data:\n",
    "\n",
    "    Remove any rows that contain missing data.\n",
    "    Populate the empty fields with a specified value.\n",
    "    Populate the empty fields with a calculated value.\n",
    "    Use analysis techniques that work with missing data.\n",
    "\n",
    "We'll work with missing data in more depth later on, but for now, we'll focus on populating empty fields with a specified value.\n",
    "\n",
    "Here's how we could replace any missing values in the party column with the string No Party:\n",
    "\n",
    "rows = [\n",
    "\n",
    "    [\"Bassett\", \"Richard\", \"1745-04-02\", \"M\", \"sen\", \"DE\", \"Anti-Administration\"],\n",
    "\n",
    "    [\"Bland\", \"Theodorick\", \"1742-03-21\", \"\", \"rep\", \"VA\", \"\"]\n",
    "\n",
    "]\n",
    "\n",
    "for row in rows:\n",
    "\n",
    "    if row[6] == \"\":\n",
    "\n",
    "        row[6] = \"No Party\"\n",
    "\n",
    "Step by step, we:\n",
    "\n",
    "    Loop through each row in rows.\n",
    "    Check whether the party column (index 6) has a missing value.\n",
    "    If so, replace it with the string No Party.\n",
    "\n",
    "Next, we'll populate the empty fields in the gender column. Most U.S. legislators have historically been men (although this is changing), so we'll replace any missing values with the string M.\n",
    "instructions\n",
    "\n",
    "    Replace any missing values in the gender column of legislators with the string M.\n",
    "    When you're done, the gender column of legislators should only contain the values F and M.\n",
    "\n",
    "\n"
   ]
  },
  {
   "cell_type": "code",
   "execution_count": 36,
   "metadata": {},
   "outputs": [
    {
     "name": "stdout",
     "output_type": "stream",
     "text": [
      "{'F', 'gender', 'M'}\n"
     ]
    }
   ],
   "source": [
    "clean_gender=[]\n",
    "for i in legs_l:\n",
    "    if i[3] == \"\": #MISSING VALEUES\n",
    "    #genders.append(i[3])\n",
    "        i[3] = 'M'\n",
    "    clean_gender.append(i[3])\n",
    "    \n",
    "set_gender = set(clean_gender)\n",
    "print(set_gender)"
   ]
  },
  {
   "cell_type": "code",
   "execution_count": 37,
   "metadata": {},
   "outputs": [
    {
     "name": "stdout",
     "output_type": "stream",
     "text": [
      "Error converting to float.\n"
     ]
    }
   ],
   "source": [
    "try:\n",
    "    float(\"hello\")\n",
    "except Exception:\n",
    "    print(\"Error converting to float.\")"
   ]
  },
  {
   "cell_type": "markdown",
   "metadata": {},
   "source": [
    "When the Python interpreter generates an exception, it actually creates an instance of the Exception class. This class has certain properties that help us debug the error. We can access the instance of the Exception class in the except statement body:\n",
    "\n",
    "try:\n",
    "\n",
    "    int('')\n",
    "\n",
    "except Exception as exc:\n",
    "\n",
    "    print(type(exc))"
   ]
  },
  {
   "cell_type": "code",
   "execution_count": 38,
   "metadata": {},
   "outputs": [
    {
     "name": "stdout",
     "output_type": "stream",
     "text": [
      "<class 'ValueError'>\n",
      "invalid literal for int() with base 10: ''\n"
     ]
    }
   ],
   "source": [
    "try:\n",
    "    int('')\n",
    "except Exception as exc:\n",
    "    print(type(exc))\n",
    "    print(str(exc))"
   ]
  },
  {
   "cell_type": "markdown",
   "metadata": {},
   "source": [
    "\n",
    "    Loop through each row in legislators.\n",
    "        Parse the birth year from the birthday column.\n",
    "        Convert the birth year to an integer, and assign it to birth_year.\n",
    "        Wrap this code in a try/except block.\n",
    "            If there's an exception, assign 0 to birth_year.\n",
    "        Append birth_year to the row with the append() method.\n",
    "    When finished, legislators should have an extra column for birth year.\n",
    "\n"
   ]
  },
  {
   "cell_type": "code",
   "execution_count": 40,
   "metadata": {},
   "outputs": [],
   "source": [
    "for row in legs_l:\n",
    "    birthday = row[2]\n",
    "    birth_year = birthday.split(\"-\")[0]\n",
    "    try:\n",
    "        birth_year = int(birth_year)\n",
    "    except Exception:\n",
    "        birth_year = 0\n",
    "    row.append(birth_year)"
   ]
  },
  {
   "cell_type": "code",
   "execution_count": 41,
   "metadata": {},
   "outputs": [
    {
     "data": {
      "text/plain": [
       "1963"
      ]
     },
     "execution_count": 41,
     "metadata": {},
     "output_type": "execute_result"
    }
   ],
   "source": [
    "birth_year"
   ]
  },
  {
   "cell_type": "code",
   "execution_count": 45,
   "metadata": {},
   "outputs": [],
   "source": [
    "legs_l = legs_l[1:]"
   ]
  },
  {
   "cell_type": "code",
   "execution_count": 46,
   "metadata": {},
   "outputs": [
    {
     "data": {
      "text/plain": [
       "[['Bassett',\n",
       "  'Richard',\n",
       "  '1745-04-02',\n",
       "  'M',\n",
       "  'sen',\n",
       "  'DE',\n",
       "  'Anti-Administration',\n",
       "  1745],\n",
       " ['Bland', 'Theodorick', '1742-03-21', 'M', 'rep', 'VA', '', 1742],\n",
       " ['Burke', 'Aedanus', '1743-06-16', 'M', 'rep', 'SC', '', 1743],\n",
       " ['Carroll', 'Daniel', '1730-07-22', 'M', 'rep', 'MD', '', 1730],\n",
       " ['Clymer', 'George', '1739-03-16', 'M', 'rep', 'PA', '', 1739]]"
      ]
     },
     "execution_count": 46,
     "metadata": {},
     "output_type": "execute_result"
    }
   ],
   "source": [
    "legs_l[:5]"
   ]
  },
  {
   "cell_type": "markdown",
   "metadata": {},
   "source": [
    "### List compreshions"
   ]
  },
  {
   "cell_type": "code",
   "execution_count": 47,
   "metadata": {},
   "outputs": [
    {
     "name": "stdout",
     "output_type": "stream",
     "text": [
      "Andrea Doria\n",
      "Ford Edsel\n",
      "Titanic\n",
      "Ford Pinto\n",
      "Lusitania\n",
      "Yugo\n"
     ]
    }
   ],
   "source": [
    "ships = [\"Andrea Doria\", \"Titanic\", \"Lusitania\"]\n",
    "cars = [\"Ford Edsel\", \"Ford Pinto\", \"Yugo\"]\n",
    "for i, ship in enumerate(ships):\n",
    "    print(ship)\n",
    "    print(cars[i])"
   ]
  },
  {
   "cell_type": "code",
   "execution_count": 48,
   "metadata": {},
   "outputs": [],
   "source": [
    "animals = [\"Dog\", \"Tiger\", \"SuperLion\", \"Cow\", \"Panda\"]\n",
    "\n",
    "animal_lengths = []\n",
    "for animal in animals:\n",
    "    animal_lengths.append(len(animal))"
   ]
  },
  {
   "cell_type": "code",
   "execution_count": 49,
   "metadata": {},
   "outputs": [],
   "source": [
    "animal_lengths = [len(animal) for animal in animals]"
   ]
  },
  {
   "cell_type": "markdown",
   "metadata": {},
   "source": [
    "#### Above code are same"
   ]
  },
  {
   "cell_type": "code",
   "execution_count": 50,
   "metadata": {},
   "outputs": [
    {
     "data": {
      "text/plain": [
       "[3, 5, 9, 3, 5]"
      ]
     },
     "execution_count": 50,
     "metadata": {},
     "output_type": "execute_result"
    }
   ],
   "source": [
    "animal_lengths"
   ]
  },
  {
   "cell_type": "code",
   "execution_count": 51,
   "metadata": {},
   "outputs": [],
   "source": [
    "values = [-50, -80, -100]\n",
    "max_value = 0\n",
    "for i in values:\n",
    "    if i > max_value:\n",
    "        max_value = i"
   ]
  },
  {
   "cell_type": "markdown",
   "metadata": {},
   "source": [
    "\n",
    "\n",
    "In the above scenario, max_value is 0 when the loop finishes. This is wrong, because 0 isn't in values; it's just a placeholder we used to initialize max_value.\n",
    "\n",
    "We can resolve this kind of issue using the None object, which has a special data type called NoneType.\n",
    "\n",
    "The None object indicates that the variable has no value. Rather than using the normal double equals sign (==) to check whether a value equals None, we use the variable is None syntax.\n",
    "\n",
    "The is comparison operator checks for object equality. Using is instead of == prevents some custom classes from resolving to True when compared with None. We'll explore how to use operators with the None object in greater depth during a later mission. For now, let's see what the variable is None syntax looks like:\n"
   ]
  },
  {
   "cell_type": "code",
   "execution_count": 52,
   "metadata": {},
   "outputs": [],
   "source": [
    "values = [-50, -80, -100]\n",
    "max_value = None\n",
    "for i in values:\n",
    "    if max_value is None or i > max_value:\n",
    "        max_value = i"
   ]
  },
  {
   "cell_type": "markdown",
   "metadata": {},
   "source": [
    "### Iterating dictionaly"
   ]
  },
  {
   "cell_type": "raw",
   "metadata": {},
   "source": [
    "fruits = {\n",
    "        \"apple\": 2,\n",
    "        \"orange\": 5,\n",
    "        \"melon\": 10\n",
    "    }\n",
    "\n",
    "for fruit in fruits:\n",
    "    rating = fruits[fruit]"
   ]
  },
  {
   "cell_type": "markdown",
   "metadata": {},
   "source": [
    "#### Using  item"
   ]
  },
  {
   "cell_type": "code",
   "execution_count": 53,
   "metadata": {},
   "outputs": [
    {
     "name": "stdout",
     "output_type": "stream",
     "text": [
      "cedar\n",
      "tree\n",
      "orchid\n",
      "flower\n",
      "maple\n",
      "tree\n"
     ]
    }
   ],
   "source": [
    "plant_types = {\"orchid\": \"flower\", \"cedar\": \"tree\", \"maple\": \"tree\"}\n",
    "for k,v in plant_types.items():\n",
    "    print(k)\n",
    "    print(v)"
   ]
  },
  {
   "cell_type": "markdown",
   "metadata": {},
   "source": [
    "Local scopes aren't just isolated from the global scope - they're also isolated from every other local scope. Our code creates a local scope when it calls a function, and destroys it when the function finishes running. Calling the same function twice will create two separate local scopes. This ensures that any variables our code creates inside the function disappear when the function finishes running, and don't affect the rest of the program.\n",
    "\n",
    "Here's an example:\n",
    "\n"
   ]
  },
  {
   "cell_type": "code",
   "execution_count": 55,
   "metadata": {},
   "outputs": [
    {
     "name": "stdout",
     "output_type": "stream",
     "text": [
      "6\n",
      "-4\n"
     ]
    }
   ],
   "source": [
    "def add(a,b):\n",
    "\n",
    "    total = a + b\n",
    "\n",
    "    return total\n",
    "\n",
    "\n",
    "\n",
    "def subtract(a,b):\n",
    "\n",
    "    total = a - b\n",
    "\n",
    "    return total\n",
    "\n",
    "\n",
    "\n",
    "print(add(1,5))\n",
    "\n",
    "print(subtract(1,5))"
   ]
  },
  {
   "cell_type": "code",
   "execution_count": 56,
   "metadata": {},
   "outputs": [],
   "source": [
    "a = 2\n",
    "def alter_a():\n",
    "    a = a * 2\n",
    "    return a"
   ]
  },
  {
   "cell_type": "code",
   "execution_count": 58,
   "metadata": {},
   "outputs": [
    {
     "ename": "UnboundLocalError",
     "evalue": "local variable 'a' referenced before assignment",
     "output_type": "error",
     "traceback": [
      "\u001b[0;31m---------------------------------------------------------------------------\u001b[0m",
      "\u001b[0;31mUnboundLocalError\u001b[0m                         Traceback (most recent call last)",
      "\u001b[0;32m<ipython-input-58-57136416c458>\u001b[0m in \u001b[0;36m<module>\u001b[0;34m()\u001b[0m\n\u001b[0;32m----> 1\u001b[0;31m \u001b[0mx\u001b[0m \u001b[0;34m=\u001b[0m \u001b[0malter_a\u001b[0m\u001b[0;34m(\u001b[0m\u001b[0;34m)\u001b[0m\u001b[0;34m\u001b[0m\u001b[0m\n\u001b[0m",
      "\u001b[0;32m<ipython-input-56-e2857149f4ec>\u001b[0m in \u001b[0;36malter_a\u001b[0;34m()\u001b[0m\n\u001b[1;32m      1\u001b[0m \u001b[0ma\u001b[0m \u001b[0;34m=\u001b[0m \u001b[0;36m2\u001b[0m\u001b[0;34m\u001b[0m\u001b[0m\n\u001b[1;32m      2\u001b[0m \u001b[0;32mdef\u001b[0m \u001b[0malter_a\u001b[0m\u001b[0;34m(\u001b[0m\u001b[0;34m)\u001b[0m\u001b[0;34m:\u001b[0m\u001b[0;34m\u001b[0m\u001b[0m\n\u001b[0;32m----> 3\u001b[0;31m     \u001b[0ma\u001b[0m \u001b[0;34m=\u001b[0m \u001b[0ma\u001b[0m \u001b[0;34m*\u001b[0m \u001b[0;36m2\u001b[0m\u001b[0;34m\u001b[0m\u001b[0m\n\u001b[0m\u001b[1;32m      4\u001b[0m     \u001b[0;32mreturn\u001b[0m \u001b[0ma\u001b[0m\u001b[0;34m\u001b[0m\u001b[0m\n",
      "\u001b[0;31mUnboundLocalError\u001b[0m: local variable 'a' referenced before assignment"
     ]
    }
   ],
   "source": [
    "x = alter_a()"
   ]
  },
  {
   "cell_type": "code",
   "execution_count": null,
   "metadata": {},
   "outputs": [],
   "source": []
  }
 ],
 "metadata": {
  "kernelspec": {
   "display_name": "Python 3",
   "language": "python",
   "name": "python3"
  },
  "language_info": {
   "codemirror_mode": {
    "name": "ipython",
    "version": 3
   },
   "file_extension": ".py",
   "mimetype": "text/x-python",
   "name": "python",
   "nbconvert_exporter": "python",
   "pygments_lexer": "ipython3",
   "version": "3.5.6"
  }
 },
 "nbformat": 4,
 "nbformat_minor": 2
}
