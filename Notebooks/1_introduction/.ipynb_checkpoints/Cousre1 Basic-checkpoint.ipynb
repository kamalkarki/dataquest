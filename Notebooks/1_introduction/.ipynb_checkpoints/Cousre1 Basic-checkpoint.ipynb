{
 "cells": [
  {
   "cell_type": "code",
   "execution_count": 5,
   "metadata": {},
   "outputs": [
    {
     "name": "stdout",
     "output_type": "stream",
     "text": [
      "5\n",
      "string\n"
     ]
    }
   ],
   "source": [
    "kamlesh = 5\n",
    "print(kamlesh)\n",
    "kamlesh=\"string\"\n",
    "print(kamlesh)"
   ]
  },
  {
   "cell_type": "code",
   "execution_count": 6,
   "metadata": {},
   "outputs": [
    {
     "data": {
      "text/plain": [
       "[1, 'kamlesh']"
      ]
     },
     "execution_count": 6,
     "metadata": {},
     "output_type": "execute_result"
    }
   ],
   "source": [
    "list_1 = []\n",
    "list_1.append(1)\n",
    "list_1.append('kamlesh')\n",
    "list_1"
   ]
  },
  {
   "cell_type": "markdown",
   "metadata": {},
   "source": [
    "#### Debugging errors\n"
   ]
  },
  {
   "cell_type": "code",
   "execution_count": 8,
   "metadata": {},
   "outputs": [
    {
     "ename": "IndentationError",
     "evalue": "expected an indented block (<ipython-input-8-7b838ec1b5a8>, line 2)",
     "output_type": "error",
     "traceback": [
      "\u001b[0;36m  File \u001b[0;32m\"<ipython-input-8-7b838ec1b5a8>\"\u001b[0;36m, line \u001b[0;32m2\u001b[0m\n\u001b[0;31m    elts = []\u001b[0m\n\u001b[0m       ^\u001b[0m\n\u001b[0;31mIndentationError\u001b[0m\u001b[0;31m:\u001b[0m expected an indented block\n"
     ]
    }
   ],
   "source": [
    "def first_elts (input_lst):\n",
    "elts = []\n",
    "    for each in input_lst:\n",
    "        elts.append(each0)\n",
    "    retern elts\n",
    "\n",
    "animals = [[\"dog\",\"cat\",\"rabbit\"],[\"turtle\",\"snake\"],[\"sloth\",\"penguin\",\"bird\"]]\n",
    "first_animal = first_elts(animals)\n",
    "print(first_animal)\n"
   ]
  },
  {
   "cell_type": "markdown",
   "metadata": {},
   "source": [
    "### Check the various errors in the above code, syntax and runtime"
   ]
  },
  {
   "cell_type": "markdown",
   "metadata": {},
   "source": [
    "### Project 1"
   ]
  },
  {
   "cell_type": "code",
   "execution_count": 53,
   "metadata": {},
   "outputs": [],
   "source": [
    "import pandas as pd\n"
   ]
  },
  {
   "cell_type": "code",
   "execution_count": 63,
   "metadata": {},
   "outputs": [],
   "source": [
    "file=open(\"/home/kamlesh/AnacondaProjects/Dataquest/Data/US_births_1994-2003_CDC_NCHS.csv\", 'r')"
   ]
  },
  {
   "cell_type": "code",
   "execution_count": 84,
   "metadata": {},
   "outputs": [],
   "source": [
    "#file reading\n",
    "birth = file.read()\n",
    "#birth"
   ]
  },
  {
   "cell_type": "code",
   "execution_count": 65,
   "metadata": {},
   "outputs": [],
   "source": [
    "birth_ = birth.split('\\n')\n",
    "birth_ = birth_[1:]"
   ]
  },
  {
   "cell_type": "code",
   "execution_count": 72,
   "metadata": {},
   "outputs": [
    {
     "data": {
      "text/plain": [
       "['1994,1,2,7,7772', '1994,1,3,1,10142', '1994,1,4,2,11248', '1994,1,5,3,11053']"
      ]
     },
     "execution_count": 72,
     "metadata": {},
     "output_type": "execute_result"
    }
   ],
   "source": [
    "birth_[1:5]"
   ]
  },
  {
   "cell_type": "code",
   "execution_count": 76,
   "metadata": {},
   "outputs": [],
   "source": [
    "final_list=[]\n",
    "for row in birth_:\n",
    "    #print(row)\n",
    "    int_fields=[]\n",
    "    string_list=[]\n",
    "    string_fields = row.split(',')\n",
    "    for s in string_fields:\n",
    "        int_fields.append(int(s))\n",
    "        final_list.append(int_fields)\n",
    "            \n",
    "            "
   ]
  },
  {
   "cell_type": "code",
   "execution_count": 78,
   "metadata": {},
   "outputs": [
    {
     "data": {
      "text/plain": [
       "[[1994, 1, 1, 6, 8096],\n",
       " [1994, 1, 1, 6, 8096],\n",
       " [1994, 1, 1, 6, 8096],\n",
       " [1994, 1, 1, 6, 8096],\n",
       " [1994, 1, 1, 6, 8096]]"
      ]
     },
     "execution_count": 78,
     "metadata": {},
     "output_type": "execute_result"
    }
   ],
   "source": [
    "final_list[0:5]"
   ]
  },
  {
   "cell_type": "code",
   "execution_count": 79,
   "metadata": {},
   "outputs": [
    {
     "data": {
      "text/plain": [
       "{1: 6180,\n",
       " 2: 5630,\n",
       " 3: 6240,\n",
       " 4: 5985,\n",
       " 5: 6185,\n",
       " 6: 6030,\n",
       " 7: 6165,\n",
       " 8: 6230,\n",
       " 9: 5990,\n",
       " 10: 6175,\n",
       " 11: 6035,\n",
       " 12: 6190}"
      ]
     },
     "execution_count": 79,
     "metadata": {},
     "output_type": "execute_result"
    }
   ],
   "source": [
    "def month_births(final_list):\n",
    "    birth_per_month={}\n",
    "    for row in final_list:\n",
    "        month = row[1]\n",
    "        birth = row[3]\n",
    "        if month in birth_per_month:\n",
    "            birth_per_month[month] += birth\n",
    "        else:\n",
    "            birth_per_month[month] = birth\n",
    "    return birth_per_month    \n",
    "birth_per_month = month_births(final_list) \n",
    "\n",
    "birth_per_month"
   ]
  },
  {
   "cell_type": "code",
   "execution_count": 82,
   "metadata": {},
   "outputs": [],
   "source": [
    "def dow_births(final_list):\n",
    "    birth_per_weekday={}\n",
    "    for row in final_list:\n",
    "        week = row[3]\n",
    "        birth = row[4]\n",
    "        if week in birth_per_weekday:\n",
    "            birth_per_weekday[week] += birth\n",
    "        else:\n",
    "            birth_per_weekday[week] = birth\n",
    "    return birth_per_weekday    \n",
    "cdc_day_birth = dow_births(final_list)"
   ]
  },
  {
   "cell_type": "code",
   "execution_count": 83,
   "metadata": {},
   "outputs": [
    {
     "data": {
      "text/plain": [
       "{1: 28945830,\n",
       " 2: 32230980,\n",
       " 3: 31614275,\n",
       " 4: 31442145,\n",
       " 5: 31168285,\n",
       " 6: 22810555,\n",
       " 7: 20398615}"
      ]
     },
     "execution_count": 83,
     "metadata": {},
     "output_type": "execute_result"
    }
   ],
   "source": [
    "cdc_day_birth"
   ]
  },
  {
   "cell_type": "code",
   "execution_count": 85,
   "metadata": {},
   "outputs": [
    {
     "name": "stdout",
     "output_type": "stream",
     "text": [
      "32230980\n"
     ]
    }
   ],
   "source": [
    "# iternate dictinay\n",
    "max_0 = 0\n",
    "for key,value in cdc_day_birth.items():\n",
    "    if value > max_0:\n",
    "        max_0 = value\n",
    "print(max_0)        \n",
    "        \n",
    "    "
   ]
  },
  {
   "cell_type": "code",
   "execution_count": null,
   "metadata": {},
   "outputs": [],
   "source": []
  }
 ],
 "metadata": {
  "kernelspec": {
   "display_name": "Python 3",
   "language": "python",
   "name": "python3"
  },
  "language_info": {
   "codemirror_mode": {
    "name": "ipython",
    "version": 3
   },
   "file_extension": ".py",
   "mimetype": "text/x-python",
   "name": "python",
   "nbconvert_exporter": "python",
   "pygments_lexer": "ipython3",
   "version": "3.5.6"
  }
 },
 "nbformat": 4,
 "nbformat_minor": 2
}
