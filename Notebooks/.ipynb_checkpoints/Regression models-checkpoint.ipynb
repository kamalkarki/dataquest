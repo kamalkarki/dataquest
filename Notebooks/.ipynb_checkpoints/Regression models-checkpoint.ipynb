{
 "cells": [
  {
   "cell_type": "code",
   "execution_count": 2,
   "metadata": {},
   "outputs": [
    {
     "data": {
      "text/html": [
       "<div>\n",
       "<style scoped>\n",
       "    .dataframe tbody tr th:only-of-type {\n",
       "        vertical-align: middle;\n",
       "    }\n",
       "\n",
       "    .dataframe tbody tr th {\n",
       "        vertical-align: top;\n",
       "    }\n",
       "\n",
       "    .dataframe thead th {\n",
       "        text-align: right;\n",
       "    }\n",
       "</style>\n",
       "<table border=\"1\" class=\"dataframe\">\n",
       "  <thead>\n",
       "    <tr style=\"text-align: right;\">\n",
       "      <th></th>\n",
       "      <th>Order</th>\n",
       "      <th>PID</th>\n",
       "      <th>MS SubClass</th>\n",
       "      <th>MS Zoning</th>\n",
       "      <th>Lot Frontage</th>\n",
       "      <th>Lot Area</th>\n",
       "      <th>Street</th>\n",
       "      <th>Alley</th>\n",
       "      <th>Lot Shape</th>\n",
       "      <th>Land Contour</th>\n",
       "      <th>...</th>\n",
       "      <th>Pool Area</th>\n",
       "      <th>Pool QC</th>\n",
       "      <th>Fence</th>\n",
       "      <th>Misc Feature</th>\n",
       "      <th>Misc Val</th>\n",
       "      <th>Mo Sold</th>\n",
       "      <th>Yr Sold</th>\n",
       "      <th>Sale Type</th>\n",
       "      <th>Sale Condition</th>\n",
       "      <th>SalePrice</th>\n",
       "    </tr>\n",
       "  </thead>\n",
       "  <tbody>\n",
       "    <tr>\n",
       "      <th>0</th>\n",
       "      <td>1</td>\n",
       "      <td>526301100</td>\n",
       "      <td>20</td>\n",
       "      <td>RL</td>\n",
       "      <td>141.0</td>\n",
       "      <td>31770</td>\n",
       "      <td>Pave</td>\n",
       "      <td>NaN</td>\n",
       "      <td>IR1</td>\n",
       "      <td>Lvl</td>\n",
       "      <td>...</td>\n",
       "      <td>0</td>\n",
       "      <td>NaN</td>\n",
       "      <td>NaN</td>\n",
       "      <td>NaN</td>\n",
       "      <td>0</td>\n",
       "      <td>5</td>\n",
       "      <td>2010</td>\n",
       "      <td>WD</td>\n",
       "      <td>Normal</td>\n",
       "      <td>215000</td>\n",
       "    </tr>\n",
       "    <tr>\n",
       "      <th>1</th>\n",
       "      <td>2</td>\n",
       "      <td>526350040</td>\n",
       "      <td>20</td>\n",
       "      <td>RH</td>\n",
       "      <td>80.0</td>\n",
       "      <td>11622</td>\n",
       "      <td>Pave</td>\n",
       "      <td>NaN</td>\n",
       "      <td>Reg</td>\n",
       "      <td>Lvl</td>\n",
       "      <td>...</td>\n",
       "      <td>0</td>\n",
       "      <td>NaN</td>\n",
       "      <td>MnPrv</td>\n",
       "      <td>NaN</td>\n",
       "      <td>0</td>\n",
       "      <td>6</td>\n",
       "      <td>2010</td>\n",
       "      <td>WD</td>\n",
       "      <td>Normal</td>\n",
       "      <td>105000</td>\n",
       "    </tr>\n",
       "    <tr>\n",
       "      <th>2</th>\n",
       "      <td>3</td>\n",
       "      <td>526351010</td>\n",
       "      <td>20</td>\n",
       "      <td>RL</td>\n",
       "      <td>81.0</td>\n",
       "      <td>14267</td>\n",
       "      <td>Pave</td>\n",
       "      <td>NaN</td>\n",
       "      <td>IR1</td>\n",
       "      <td>Lvl</td>\n",
       "      <td>...</td>\n",
       "      <td>0</td>\n",
       "      <td>NaN</td>\n",
       "      <td>NaN</td>\n",
       "      <td>Gar2</td>\n",
       "      <td>12500</td>\n",
       "      <td>6</td>\n",
       "      <td>2010</td>\n",
       "      <td>WD</td>\n",
       "      <td>Normal</td>\n",
       "      <td>172000</td>\n",
       "    </tr>\n",
       "    <tr>\n",
       "      <th>3</th>\n",
       "      <td>4</td>\n",
       "      <td>526353030</td>\n",
       "      <td>20</td>\n",
       "      <td>RL</td>\n",
       "      <td>93.0</td>\n",
       "      <td>11160</td>\n",
       "      <td>Pave</td>\n",
       "      <td>NaN</td>\n",
       "      <td>Reg</td>\n",
       "      <td>Lvl</td>\n",
       "      <td>...</td>\n",
       "      <td>0</td>\n",
       "      <td>NaN</td>\n",
       "      <td>NaN</td>\n",
       "      <td>NaN</td>\n",
       "      <td>0</td>\n",
       "      <td>4</td>\n",
       "      <td>2010</td>\n",
       "      <td>WD</td>\n",
       "      <td>Normal</td>\n",
       "      <td>244000</td>\n",
       "    </tr>\n",
       "    <tr>\n",
       "      <th>4</th>\n",
       "      <td>5</td>\n",
       "      <td>527105010</td>\n",
       "      <td>60</td>\n",
       "      <td>RL</td>\n",
       "      <td>74.0</td>\n",
       "      <td>13830</td>\n",
       "      <td>Pave</td>\n",
       "      <td>NaN</td>\n",
       "      <td>IR1</td>\n",
       "      <td>Lvl</td>\n",
       "      <td>...</td>\n",
       "      <td>0</td>\n",
       "      <td>NaN</td>\n",
       "      <td>MnPrv</td>\n",
       "      <td>NaN</td>\n",
       "      <td>0</td>\n",
       "      <td>3</td>\n",
       "      <td>2010</td>\n",
       "      <td>WD</td>\n",
       "      <td>Normal</td>\n",
       "      <td>189900</td>\n",
       "    </tr>\n",
       "  </tbody>\n",
       "</table>\n",
       "<p>5 rows × 82 columns</p>\n",
       "</div>"
      ],
      "text/plain": [
       "   Order        PID  MS SubClass MS Zoning  Lot Frontage  Lot Area Street  \\\n",
       "0      1  526301100           20        RL         141.0     31770   Pave   \n",
       "1      2  526350040           20        RH          80.0     11622   Pave   \n",
       "2      3  526351010           20        RL          81.0     14267   Pave   \n",
       "3      4  526353030           20        RL          93.0     11160   Pave   \n",
       "4      5  527105010           60        RL          74.0     13830   Pave   \n",
       "\n",
       "  Alley Lot Shape Land Contour    ...     Pool Area Pool QC  Fence  \\\n",
       "0   NaN       IR1          Lvl    ...             0     NaN    NaN   \n",
       "1   NaN       Reg          Lvl    ...             0     NaN  MnPrv   \n",
       "2   NaN       IR1          Lvl    ...             0     NaN    NaN   \n",
       "3   NaN       Reg          Lvl    ...             0     NaN    NaN   \n",
       "4   NaN       IR1          Lvl    ...             0     NaN  MnPrv   \n",
       "\n",
       "  Misc Feature Misc Val Mo Sold Yr Sold Sale Type  Sale Condition  SalePrice  \n",
       "0          NaN        0       5    2010       WD           Normal     215000  \n",
       "1          NaN        0       6    2010       WD           Normal     105000  \n",
       "2         Gar2    12500       6    2010       WD           Normal     172000  \n",
       "3          NaN        0       4    2010       WD           Normal     244000  \n",
       "4          NaN        0       3    2010       WD           Normal     189900  \n",
       "\n",
       "[5 rows x 82 columns]"
      ]
     },
     "execution_count": 2,
     "metadata": {},
     "output_type": "execute_result"
    }
   ],
   "source": [
    "import pandas as pd \n",
    "data = pd.read_csv('/home/kamlesh/AnacondaProjects/Dataquest/Data/AmesHousing.txt',delimiter='\\t')\n",
    "data.head()"
   ]
  },
  {
   "cell_type": "code",
   "execution_count": 3,
   "metadata": {},
   "outputs": [],
   "source": [
    "train = data[:1460]\n",
    "test = data[1460:]\n",
    "target ='SalePrice'"
   ]
  },
  {
   "cell_type": "code",
   "execution_count": 5,
   "metadata": {},
   "outputs": [],
   "source": [
    "\n",
    "train = data[:1461]\n",
    "test = data[1461:]\n",
    "target ='SalePrice'"
   ]
  },
  {
   "cell_type": "code",
   "execution_count": 4,
   "metadata": {},
   "outputs": [],
   "source": [
    "import matplotlib.pyplot as plt\n",
    "# For prettier plots.\n",
    "import seaborn"
   ]
  },
  {
   "cell_type": "code",
   "execution_count": 5,
   "metadata": {},
   "outputs": [
    {
     "data": {
      "text/plain": [
       "['Solarize_Light2',\n",
       " 'fivethirtyeight',\n",
       " 'seaborn',\n",
       " '_classic_test',\n",
       " 'seaborn-notebook',\n",
       " 'seaborn-whitegrid',\n",
       " 'seaborn-dark-palette',\n",
       " 'seaborn-paper',\n",
       " 'seaborn-poster',\n",
       " 'seaborn-pastel',\n",
       " 'grayscale',\n",
       " 'ggplot',\n",
       " 'seaborn-colorblind',\n",
       " 'fast',\n",
       " 'seaborn-white',\n",
       " 'seaborn-ticks',\n",
       " 'seaborn-talk',\n",
       " 'classic',\n",
       " 'seaborn-bright',\n",
       " 'seaborn-darkgrid',\n",
       " 'bmh',\n",
       " 'dark_background',\n",
       " 'seaborn-deep',\n",
       " 'seaborn-muted',\n",
       " 'seaborn-dark']"
      ]
     },
     "execution_count": 5,
     "metadata": {},
     "output_type": "execute_result"
    }
   ],
   "source": [
    "#import matplotlib.pyplot as plt\n",
    "\n",
    "# Check the available styles\n",
    "plt.style.available\n"
   ]
  },
  {
   "cell_type": "code",
   "execution_count": 8,
   "metadata": {},
   "outputs": [
    {
     "data": {
      "image/png": "[encoded data removed]",
      "text/plain": [
       "<matplotlib.figure.Figure at 0x7f2544981be0>"
      ]
     },
     "metadata": {},
     "output_type": "display_data"
    }
   ],
   "source": [
    "import matplotlib.pyplot as plt\n",
    "import seaborn as sns\n",
    "\n",
    "# Reset default params\n",
    "sns.set()\n",
    "\n",
    "# Set context to `\"paper\"`\n",
    "sns.set_context(\"notebook\")\n",
    "\n",
    "# Load iris data\n",
    "iris = sns.load_dataset(\"iris\")\n",
    "\n",
    "# Construct iris plot\n",
    "sns.swarmplot(x=\"species\", y=\"petal_length\", data=iris)\n",
    "\n",
    "# Show plot\n",
    "#The four predefined contexts are \"paper\", \"notebook\", \"talk\" and \"poster\".\n",
    "plt.show()"
   ]
  },
  {
   "cell_type": "code",
   "execution_count": 9,
   "metadata": {},
   "outputs": [
    {
     "data": {
      "image/png": "[encoded data removed]",
      "text/plain": [
       "<matplotlib.figure.Figure at 0x7fbf4a338630>"
      ]
     },
     "metadata": {},
     "output_type": "display_data"
    }
   ],
   "source": [
    "\n",
    "# For prettier plots.\n",
    "#import seaborn\n",
    "fig = plt.figure(figsize=(7,15))\n",
    "\n",
    "ax1 = fig.add_subplot(3, 1, 1)\n",
    "ax2 = fig.add_subplot(3, 1, 2)\n",
    "ax3 = fig.add_subplot(3, 1, 3)\n",
    "\n",
    "train.plot(x=\"Garage Area\", y=\"SalePrice\", ax=ax1, kind=\"scatter\")\n",
    "train.plot(x=\"Gr Liv Area\", y=\"SalePrice\", ax=ax2, kind=\"scatter\")\n",
    "train.plot(x=\"Overall Cond\", y=\"SalePrice\", ax=ax3, kind=\"scatter\")\n",
    "\n",
    "plt.show()"
   ]
  },
  {
   "cell_type": "code",
   "execution_count": 11,
   "metadata": {},
   "outputs": [
    {
     "data": {
      "text/html": [
       "<div>\n",
       "<style scoped>\n",
       "    .dataframe tbody tr th:only-of-type {\n",
       "        vertical-align: middle;\n",
       "    }\n",
       "\n",
       "    .dataframe tbody tr th {\n",
       "        vertical-align: top;\n",
       "    }\n",
       "\n",
       "    .dataframe thead th {\n",
       "        text-align: right;\n",
       "    }\n",
       "</style>\n",
       "<table border=\"1\" class=\"dataframe\">\n",
       "  <thead>\n",
       "    <tr style=\"text-align: right;\">\n",
       "      <th></th>\n",
       "      <th>Garage Area</th>\n",
       "      <th>Gr Liv Area</th>\n",
       "      <th>Overall Cond</th>\n",
       "      <th>SalePrice</th>\n",
       "    </tr>\n",
       "  </thead>\n",
       "  <tbody>\n",
       "    <tr>\n",
       "      <th>Garage Area</th>\n",
       "      <td>1.000000</td>\n",
       "      <td>0.465781</td>\n",
       "      <td>-0.132742</td>\n",
       "      <td>0.662727</td>\n",
       "    </tr>\n",
       "    <tr>\n",
       "      <th>Gr Liv Area</th>\n",
       "      <td>0.465781</td>\n",
       "      <td>1.000000</td>\n",
       "      <td>-0.133996</td>\n",
       "      <td>0.699218</td>\n",
       "    </tr>\n",
       "    <tr>\n",
       "      <th>Overall Cond</th>\n",
       "      <td>-0.132742</td>\n",
       "      <td>-0.133996</td>\n",
       "      <td>1.000000</td>\n",
       "      <td>-0.099760</td>\n",
       "    </tr>\n",
       "    <tr>\n",
       "      <th>SalePrice</th>\n",
       "      <td>0.662727</td>\n",
       "      <td>0.699218</td>\n",
       "      <td>-0.099760</td>\n",
       "      <td>1.000000</td>\n",
       "    </tr>\n",
       "  </tbody>\n",
       "</table>\n",
       "</div>"
      ],
      "text/plain": [
       "              Garage Area  Gr Liv Area  Overall Cond  SalePrice\n",
       "Garage Area      1.000000     0.465781     -0.132742   0.662727\n",
       "Gr Liv Area      0.465781     1.000000     -0.133996   0.699218\n",
       "Overall Cond    -0.132742    -0.133996      1.000000  -0.099760\n",
       "SalePrice        0.662727     0.699218     -0.099760   1.000000"
      ]
     },
     "execution_count": 11,
     "metadata": {},
     "output_type": "execute_result"
    }
   ],
   "source": [
    "train[['Garage Area', 'Gr Liv Area', 'Overall Cond', 'SalePrice']].corr()\n",
    "# try to write your own co relation function here"
   ]
  },
  {
   "cell_type": "markdown",
   "metadata": {},
   "source": [
    "## Let's now use scikit-learn to find the optimal parameter values for our model. The scikit-learn library was designed to easily swap and try different models. Because we're familiar with the scikit-learn workflow for k-nearest neighbors, switching to using linear regression is straightforward.\n",
    "\n",
    "Instead of working with the sklearn.neighbors.KNeighborsRegressors class, we work with the sklearn.linear_model.LinearRegression class. The LinearRegression class also has it's own fit() method. Specific to this model, however, is the coef_ and intercept_ attributes, which return a1\n",
    "(a1 to an if it were a multivariate regression model) and a0 accordingly"
   ]
  },
  {
   "cell_type": "code",
   "execution_count": 12,
   "metadata": {},
   "outputs": [
    {
     "name": "stdout",
     "output_type": "stream",
     "text": [
      "[ 116.86624683]\n",
      "5366.82171006\n"
     ]
    }
   ],
   "source": [
    "#from sklearn.linear_model import LinearRegression\n",
    "\n",
    "from sklearn import linear_model\n",
    "lr = linear_model.LinearRegression()\n",
    "lr.fit(train[['Gr Liv Area']], train['SalePrice'])\n",
    "print(lr.coef_)\n",
    "print(lr.intercept_)\n",
    "\n",
    "a0 = lr.intercept_\n",
    "a1 = lr.coef_"
   ]
  },
  {
   "cell_type": "code",
   "execution_count": 13,
   "metadata": {},
   "outputs": [
    {
     "name": "stdout",
     "output_type": "stream",
     "text": [
      "[ 116.86624683]\n",
      "5366.82171006\n"
     ]
    }
   ],
   "source": [
    "from sklearn.linear_model import LinearRegression\n",
    "lr = LinearRegression()\n",
    "lr.fit(train[['Gr Liv Area']], train['SalePrice'])\n",
    "print(lr.coef_)\n",
    "print(lr.intercept_)\n",
    "\n",
    "a0 = lr.intercept_\n",
    "a1 = lr.coef_"
   ]
  },
  {
   "cell_type": "code",
   "execution_count": 14,
   "metadata": {},
   "outputs": [
    {
     "name": "stdout",
     "output_type": "stream",
     "text": [
      "56034.3620014\n",
      "57088.2516126\n"
     ]
    }
   ],
   "source": [
    "import numpy as np\n",
    "\n",
    "lr = LinearRegression()\n",
    "lr.fit(train[['Gr Liv Area']], train['SalePrice'])\n",
    "from sklearn.metrics import mean_squared_error\n",
    "\n",
    "train_predictions = lr.predict(train[['Gr Liv Area']])\n",
    "test_predictions = lr.predict(test[['Gr Liv Area']])\n",
    "\n",
    "train_mse = mean_squared_error(train_predictions, train['SalePrice'])\n",
    "test_mse = mean_squared_error(test_predictions, test['SalePrice'])\n",
    "\n",
    "train_rmse = np.sqrt(train_mse)\n",
    "test_rmse = np.sqrt(test_mse)\n",
    "\n",
    "print(train_rmse)\n",
    "print(test_rmse)"
   ]
  },
  {
   "cell_type": "code",
   "execution_count": 15,
   "metadata": {},
   "outputs": [
    {
     "name": "stdout",
     "output_type": "stream",
     "text": [
      "56032.3980153\n",
      "57066.9077945\n"
     ]
    }
   ],
   "source": [
    "cols = ['Overall Cond', 'Gr Liv Area']\n",
    "lr.fit(train[cols], train['SalePrice'])\n",
    "train_predictions = lr.predict(train[cols])\n",
    "test_predictions = lr.predict(test[cols])\n",
    "\n",
    "train_rmse_2 = np.sqrt(mean_squared_error(train_predictions, train['SalePrice']))\n",
    "test_rmse_2 = np.sqrt(mean_squared_error(test_predictions, test['SalePrice']))\n",
    "\n",
    "print(train_rmse_2)\n",
    "print(test_rmse_2)"
   ]
  },
  {
   "cell_type": "markdown",
   "metadata": {},
   "source": [
    "In the machine learning workflow, once we've selected the model we want to use, selecting the appropriate features for that model is the next important step. In this mission, we'll explore how to use correlation between features and the target column, correlation between features, and variance of features to select features. We'll continue working with the same housing dataset from the last mission.\n",
    "\n",
    "We'll specifically focus on selecting from feature columns that don't have any missing values or don't need to be transformed to be useful (e.g. columns like Year Built and Year Remod/Add). We'll explore how to deal with both of these in a later mission in this course.\n",
    "\n",
    "To start, let's look at which columns fall into either of these two categories.\n",
    "instructions\n",
    "\n",
    "    Drop the following columns from numerical_train:\n",
    "        PID (place ID isn't useful for modeling)\n",
    "        Year Built\n",
    "        Year Remod/Add\n",
    "        Garage Yr Blt\n",
    "        Mo Sold\n",
    "        Yr Sold\n",
    "    Calculate the number of missing values from each column in numerical_train. Create a Series object where the index is made up of column names and the associated values are the number of missing values:\n",
    "\n",
    "Order                0\n",
    "PID                  0\n",
    "MS SubClass          0\n",
    "MS Zoning            0\n",
    "...\n",
    "\n",
    "    Assign this Series object to null_series. Select the subset of null_series to keep only the columns with no missing values, and assign the resulting Series object to full_cols_series.\n",
    "    Display full_cols_series using the print() function.\n"
   ]
  },
  {
   "cell_type": "code",
   "execution_count": 16,
   "metadata": {},
   "outputs": [
    {
     "name": "stdout",
     "output_type": "stream",
     "text": [
      "Order              0\n",
      "MS SubClass        0\n",
      "Lot Area           0\n",
      "Overall Qual       0\n",
      "Overall Cond       0\n",
      "1st Flr SF         0\n",
      "2nd Flr SF         0\n",
      "Low Qual Fin SF    0\n",
      "Gr Liv Area        0\n",
      "Full Bath          0\n",
      "Half Bath          0\n",
      "Bedroom AbvGr      0\n",
      "Kitchen AbvGr      0\n",
      "TotRms AbvGrd      0\n",
      "Fireplaces         0\n",
      "Garage Cars        0\n",
      "Garage Area        0\n",
      "Wood Deck SF       0\n",
      "Open Porch SF      0\n",
      "Enclosed Porch     0\n",
      "3Ssn Porch         0\n",
      "Screen Porch       0\n",
      "Pool Area          0\n",
      "Misc Val           0\n",
      "SalePrice          0\n",
      "dtype: int64\n"
     ]
    }
   ],
   "source": [
    "#import pandas as pd\n",
    "#data = pd.read_csv('AmesHousing.txt', delimiter=\"\\t\")\n",
    "#train = data[0:1460]\n",
    "#test = data[1460:]\n",
    "# Default code\n",
    "#import pandas as pd\n",
    "#data = pd.read_csv('AmesHousing.txt', delimiter=\"\\t\")\n",
    "#train = data[0:1460]\n",
    "#test = data[1460:]\n",
    "\n",
    "# Solution code\n",
    "numerical_train = train.select_dtypes(include=['int', 'float'])\n",
    "numerical_train = numerical_train.drop(['PID', 'Year Built', 'Year Remod/Add', 'Garage Yr Blt', 'Mo Sold', 'Yr Sold'], axis=1)\n",
    "null_series = numerical_train.isnull().sum()\n",
    "full_cols_series = null_series[null_series == 0]\n",
    "print(full_cols_series)"
   ]
  },
  {
   "cell_type": "markdown",
   "metadata": {},
   "source": [
    "## Correlating Feature Columns With Target Column"
   ]
  },
  {
   "cell_type": "markdown",
   "metadata": {},
   "source": [
    "In the last mission, we selected the feature for the simple linear regression model by comparing how some of the features correlate with the target column. If you recall, we focused on 4 features in particular and used the pandas.DataFrame.corr() method to return the correlation coefficients between each pairs of columns. This means that the correlation matrix for 4 columns results in 16 correlation values:\n",
    "\n",
    "train[['GarageArea', 'GrLivArea', 'OverallCond', 'SalePrice']].corr()\n",
    "\n",
    "                 GarageArea  GrLivArea  OverallCond  SalePrice\n",
    "\n",
    "    GarageArea     1.000000   0.468997    -0.151521   0.623431\n",
    "\n",
    "    GrLivArea      0.468997   1.000000    -0.079686   0.708624\n",
    "\n",
    "    OverallCond   -0.151521  -0.079686     1.000000  -0.077856\n",
    "\n",
    "    SalePrice      0.623431   0.708624    -0.077856   1.000000\n",
    "\n",
    "The subset of features we want to focus on, full_cols_series, contains 27 columns:\n",
    "\n",
    "     len(full_cols_series)\n",
    "\n",
    "        27\n",
    "\n",
    "The resulting correlation matrix will contain 27 * 27 or 729 correlation values. Comparing and contrasting this many values is incredibly difficult. Let's instead focus on just how the feature columns correlate with the target column (SalePrice) instead."
   ]
  },
  {
   "cell_type": "code",
   "execution_count": 17,
   "metadata": {},
   "outputs": [
    {
     "data": {
      "text/plain": [
       "Order              0\n",
       "MS SubClass        0\n",
       "Lot Area           0\n",
       "Overall Qual       0\n",
       "Overall Cond       0\n",
       "1st Flr SF         0\n",
       "2nd Flr SF         0\n",
       "Low Qual Fin SF    0\n",
       "Gr Liv Area        0\n",
       "Full Bath          0\n",
       "Half Bath          0\n",
       "Bedroom AbvGr      0\n",
       "Kitchen AbvGr      0\n",
       "TotRms AbvGrd      0\n",
       "Fireplaces         0\n",
       "Garage Cars        0\n",
       "Garage Area        0\n",
       "Wood Deck SF       0\n",
       "Open Porch SF      0\n",
       "Enclosed Porch     0\n",
       "3Ssn Porch         0\n",
       "Screen Porch       0\n",
       "Pool Area          0\n",
       "Misc Val           0\n",
       "SalePrice          0\n",
       "dtype: int64"
      ]
     },
     "execution_count": 17,
     "metadata": {},
     "output_type": "execute_result"
    }
   ],
   "source": [
    "#train_subset = train[full_cols_series.index]\n",
    "full_cols_series\n"
   ]
  },
  {
   "cell_type": "code",
   "execution_count": 21,
   "metadata": {},
   "outputs": [
    {
     "name": "stdout",
     "output_type": "stream",
     "text": [
      "Index(['Order', 'MS SubClass', 'Lot Area', 'Overall Qual', 'Overall Cond',\n",
      "       '1st Flr SF', '2nd Flr SF', 'Low Qual Fin SF', 'Gr Liv Area',\n",
      "       'Full Bath', 'Half Bath', 'Bedroom AbvGr', 'Kitchen AbvGr',\n",
      "       'TotRms AbvGrd', 'Fireplaces', 'Garage Cars', 'Garage Area',\n",
      "       'Wood Deck SF', 'Open Porch SF', 'Enclosed Porch', '3Ssn Porch',\n",
      "       'Screen Porch', 'Pool Area', 'Misc Val', 'SalePrice'],\n",
      "      dtype='object')\n"
     ]
    }
   ],
   "source": [
    "print( full_cols_series.index)"
   ]
  },
  {
   "cell_type": "code",
   "execution_count": 74,
   "metadata": {},
   "outputs": [
    {
     "name": "stdout",
     "output_type": "stream",
     "text": [
      "<class 'pandas.core.series.Series'>\n"
     ]
    }
   ],
   "source": [
    "numerical_train.head(2)\n",
    "# selecting the desired numeric and non null columns\n",
    "# It contains all the (around 20) variables. Is everyone useful\n",
    "# FInd the Correlation matrix with strongest correlation with sale price\n",
    "\n",
    "#selecting the desired columns\n",
    "train_subset = numerical_train[full_cols_series.index]\n",
    "\n",
    "# now check for correlation\n",
    "corr_matrix = train_subset.corr()\n",
    "\n",
    "# sns heatmap for correlation can be done, but still we have a lot of values, get rid of them\n",
    "# we can do that by index as the matirx returned by corr methods contains indexed also\n",
    "#so select index having correlation coefficient values greater than 6 \n",
    "# CHECK what corr returned, althoug it returs a data frame , but  no column name it can be inserted \n",
    "# But we can do something to extract the columns with corr value > 0.6\n",
    "Sale_series = corr_matrix['SalePrice']\n",
    "column = Sale_series.abs().sort_values()\n",
    "print( type(column) )\n",
    "#print(column)\n"
   ]
  },
  {
   "cell_type": "code",
   "execution_count": 88,
   "metadata": {},
   "outputs": [
    {
     "data": {
      "image/png": "[encoded data removed]",
      "text/plain": [
       "<matplotlib.figure.Figure at 0x7fbf400a3898>"
      ]
     },
     "metadata": {},
     "output_type": "display_data"
    }
   ],
   "source": [
    "# now get the desired columns name from the index of the series\n",
    "features = column[column > 0.6].index\n",
    "#now the for heat map \n",
    "import seaborn as sns\n",
    "Strong_corr_df = train_subset[features]\n",
    "strong_corr_m = Strong_corr_df.corr()\n",
    "sns.heatmap(strong_corr_m ,cmap=\"YlGnBu\")\n",
    "plt.show()\n"
   ]
  },
  {
   "cell_type": "markdown",
   "metadata": {},
   "source": [
    "## Task 2\n",
    "    Compute the pairwise correlation coefficients between all of the columns in train_subset.\n",
    "    Select just the SalePrice column from the resulting data frame, compute the absolute value of each term, sort the resulting Series by the correlation values, and assign to sorted_corrs.\n"
   ]
  },
  {
   "cell_type": "code",
   "execution_count": 25,
   "metadata": {},
   "outputs": [],
   "source": [
    "train_subset = train[full_cols_series.index]\n",
    "corrmat = train_subset.corr()\n",
    "\n",
    "x = corrmat['SalePrice'].values\n",
    "sorted_values = abs(x)\n",
    "sorted_values = x.sort()"
   ]
  },
  {
   "cell_type": "code",
   "execution_count": 26,
   "metadata": {},
   "outputs": [
    {
     "name": "stdout",
     "output_type": "stream",
     "text": [
      "Misc Val           0.009988\n",
      "3Ssn Porch         0.038588\n",
      "Low Qual Fin SF    0.060401\n",
      "Order              0.066650\n",
      "MS SubClass        0.088398\n",
      "Overall Cond       0.099760\n",
      "Screen Porch       0.099836\n",
      "Bedroom AbvGr      0.107043\n",
      "Kitchen AbvGr      0.130960\n",
      "Pool Area          0.145380\n",
      "Enclosed Porch     0.166090\n",
      "2nd Flr SF         0.202709\n",
      "Half Bath          0.273595\n",
      "Lot Area           0.274576\n",
      "Wood Deck SF       0.319417\n",
      "Open Porch SF      0.344962\n",
      "TotRms AbvGrd      0.483749\n",
      "Fireplaces         0.485892\n",
      "Full Bath          0.518481\n",
      "1st Flr SF         0.657192\n",
      "Garage Area        0.662727\n",
      "Garage Cars        0.663897\n",
      "Gr Liv Area        0.699218\n",
      "Overall Qual       0.804695\n",
      "SalePrice          1.000000\n",
      "Name: SalePrice, dtype: float64\n"
     ]
    }
   ],
   "source": [
    "train_subset = train[full_cols_series.index]\n",
    "corrmat = train_subset.corr()\n",
    "\n",
    "#sorted_corrs = corrmat['SalePrice'].values\n",
    "sorted_corrs = corrmat['SalePrice'].abs().sort_values()\n",
    "#sorted_corrs = abs( sorted_corrs )\n",
    "#sorted_corrs = sort( sorted_corrs )\n",
    "print( sorted_corrs )"
   ]
  },
  {
   "cell_type": "code",
   "execution_count": 27,
   "metadata": {},
   "outputs": [
    {
     "data": {
      "text/plain": [
       "pandas.core.series.Series"
      ]
     },
     "execution_count": 27,
     "metadata": {},
     "output_type": "execute_result"
    }
   ],
   "source": [
    "type( sorted_corrs)"
   ]
  },
  {
   "cell_type": "markdown",
   "metadata": {},
   "source": [
    "# Task 2    \n",
    "    Select only the columns in sorted_corrs with a correlation above 0.3 and assign to strong_corrs.\n",
    "    Use the seaborn.heatmap() function to generate a correlation matrix heatmap for the columns in strong_corrs.\n"
   ]
  },
  {
   "cell_type": "code",
   "execution_count": 28,
   "metadata": {},
   "outputs": [
    {
     "data": {
      "image/png": "[encoded data removed]",
      "text/plain": [
       "<matplotlib.figure.Figure at 0x7f253bf12710>"
      ]
     },
     "metadata": {},
     "output_type": "display_data"
    }
   ],
   "source": [
    "import seaborn as sns\n",
    "criteria = sorted_corrs > 0.3\n",
    "strong_corrs= sorted_corrs[criteria]\n",
    "corr_matrix = train_subset[strong_corrs.index].corr()\n",
    "sns.heatmap(corr_matrix)\n",
    "plt.show()"
   ]
  },
  {
   "cell_type": "code",
   "execution_count": 29,
   "metadata": {},
   "outputs": [
    {
     "data": {
      "image/png": "[encoded data removed]",
      "text/plain": [
       "<matplotlib.figure.Figure at 0x7f2530f254a8>"
      ]
     },
     "metadata": {},
     "output_type": "display_data"
    }
   ],
   "source": [
    "# another way\n",
    "import seaborn as sns\n",
    "import matplotlib.pyplot as plt\n",
    "strong_corrs = sorted_corrs[sorted_corrs > 0.3]\n",
    "corrmat = train_subset[strong_corrs.index].corr()\n",
    "sns.heatmap(corrmat)\n",
    "plt.show()"
   ]
  },
  {
   "cell_type": "markdown",
   "metadata": {},
   "source": [
    "## Observation \n",
    "Based on the correlation matrix heatmap, we can tell that the following pairs of columns are strongly correlated:\n",
    "\n",
    "    Gr Liv Area and TotRms AbvGrd\n",
    "    Garage Area and Garage Cars\n",
    "\n",
    "If we read the descriptions of these columns from the data documentation, we can tell that each pair of column reflects very similar information. Because Gr Liv Area and Garage Area are continuous variables that capture more nuance, let's drop the TotRms AbvGrd and Garage Cars.\n",
    "\n",
    "The last thing we'll need to do is confirm that the test set contains no missing values for these columns:"
   ]
  },
  {
   "cell_type": "markdown",
   "metadata": {},
   "source": [
    "# Task4\n",
    "    Filter the test data frame so it only contains the columns from final_corr_cols.index. Then, drop the row containing missing values and assign the result to clean_test.\n",
    "    \n",
    "    1.Build a linear regression model using the features in features.\n",
    "    2.Calculate the RMSE on the test and train sets.\n",
    "    3.Assign the train RMSE to train_rmse and the test RMSE to test_rmse.\n"
   ]
  },
  {
   "cell_type": "code",
   "execution_count": 118,
   "metadata": {},
   "outputs": [
    {
     "name": "stdout",
     "output_type": "stream",
     "text": [
      "<class 'pandas.core.frame.DataFrame'>\n"
     ]
    }
   ],
   "source": [
    "\n",
    "final_corrs_df = Strong_corr_df.drop(['Garage Cars'], axis = 1)\n",
    "#final_corrs_df.info()\n",
    "# creating the training data , by removing the target column ie is SalePrice\n",
    "train_df = final_corrs_df.drop(['SalePrice'], axis = 1)\n",
    "train_target = final_corrs_df['SalePrice']\n",
    "\n",
    "\n",
    "print( type(train_df) )\n",
    "train_df.head()\n",
    "from sklearn.linear_model import LinearRegression\n",
    "from sklearn.metrics import mean_squared_error\n",
    "import numpy as np\n",
    "\n",
    "\n",
    "lr= LinearRegression(train_df, train_target) \n",
    "#training the model\n",
    "#lr.fit( train_df,train_target)"
   ]
  },
  {
   "cell_type": "code",
   "execution_count": 119,
   "metadata": {},
   "outputs": [
    {
     "ename": "ValueError",
     "evalue": "shapes (1460,6) and (4,) not aligned: 6 (dim 1) != 4 (dim 0)",
     "output_type": "error",
     "traceback": [
      "\u001b[0;31m---------------------------------------------------------------------------\u001b[0m",
      "\u001b[0;31mValueError\u001b[0m                                Traceback (most recent call last)",
      "\u001b[0;32m<ipython-input-119-9b05237b3af1>\u001b[0m in \u001b[0;36m<module>\u001b[0;34m()\u001b[0m\n\u001b[1;32m      9\u001b[0m \u001b[0;31m#lr.fit(train[features],train['SalePrice'])\u001b[0m\u001b[0;34m\u001b[0m\u001b[0;34m\u001b[0m\u001b[0m\n\u001b[1;32m     10\u001b[0m \u001b[0;31m# and now predections\u001b[0m\u001b[0;34m\u001b[0m\u001b[0;34m\u001b[0m\u001b[0m\n\u001b[0;32m---> 11\u001b[0;31m \u001b[0mtrain_predictions\u001b[0m \u001b[0;34m=\u001b[0m \u001b[0mlr\u001b[0m\u001b[0;34m.\u001b[0m\u001b[0mpredict\u001b[0m\u001b[0;34m(\u001b[0m  \u001b[0mtrain\u001b[0m\u001b[0;34m[\u001b[0m\u001b[0mfeatures\u001b[0m\u001b[0;34m]\u001b[0m\u001b[0;34m)\u001b[0m\u001b[0;34m\u001b[0m\u001b[0m\n\u001b[0m\u001b[1;32m     12\u001b[0m \u001b[0mtest_predictions\u001b[0m \u001b[0;34m=\u001b[0m \u001b[0mlr\u001b[0m\u001b[0;34m.\u001b[0m\u001b[0mpredict\u001b[0m\u001b[0;34m(\u001b[0m \u001b[0mclean_test\u001b[0m\u001b[0;34m[\u001b[0m\u001b[0mfeatures\u001b[0m\u001b[0;34m]\u001b[0m \u001b[0;34m)\u001b[0m\u001b[0;34m\u001b[0m\u001b[0m\n\u001b[1;32m     13\u001b[0m \u001b[0;34m\u001b[0m\u001b[0m\n",
      "\u001b[0;32m~/anaconda3/lib/python3.6/site-packages/sklearn/linear_model/base.py\u001b[0m in \u001b[0;36mpredict\u001b[0;34m(self, X)\u001b[0m\n\u001b[1;32m    254\u001b[0m             \u001b[0mReturns\u001b[0m \u001b[0mpredicted\u001b[0m \u001b[0mvalues\u001b[0m\u001b[0;34m.\u001b[0m\u001b[0;34m\u001b[0m\u001b[0m\n\u001b[1;32m    255\u001b[0m         \"\"\"\n\u001b[0;32m--> 256\u001b[0;31m         \u001b[0;32mreturn\u001b[0m \u001b[0mself\u001b[0m\u001b[0;34m.\u001b[0m\u001b[0m_decision_function\u001b[0m\u001b[0;34m(\u001b[0m\u001b[0mX\u001b[0m\u001b[0;34m)\u001b[0m\u001b[0;34m\u001b[0m\u001b[0m\n\u001b[0m\u001b[1;32m    257\u001b[0m \u001b[0;34m\u001b[0m\u001b[0m\n\u001b[1;32m    258\u001b[0m     \u001b[0m_preprocess_data\u001b[0m \u001b[0;34m=\u001b[0m \u001b[0mstaticmethod\u001b[0m\u001b[0;34m(\u001b[0m\u001b[0m_preprocess_data\u001b[0m\u001b[0;34m)\u001b[0m\u001b[0;34m\u001b[0m\u001b[0m\n",
      "\u001b[0;32m~/anaconda3/lib/python3.6/site-packages/sklearn/linear_model/base.py\u001b[0m in \u001b[0;36m_decision_function\u001b[0;34m(self, X)\u001b[0m\n\u001b[1;32m    239\u001b[0m         \u001b[0mX\u001b[0m \u001b[0;34m=\u001b[0m \u001b[0mcheck_array\u001b[0m\u001b[0;34m(\u001b[0m\u001b[0mX\u001b[0m\u001b[0;34m,\u001b[0m \u001b[0maccept_sparse\u001b[0m\u001b[0;34m=\u001b[0m\u001b[0;34m[\u001b[0m\u001b[0;34m'csr'\u001b[0m\u001b[0;34m,\u001b[0m \u001b[0;34m'csc'\u001b[0m\u001b[0;34m,\u001b[0m \u001b[0;34m'coo'\u001b[0m\u001b[0;34m]\u001b[0m\u001b[0;34m)\u001b[0m\u001b[0;34m\u001b[0m\u001b[0m\n\u001b[1;32m    240\u001b[0m         return safe_sparse_dot(X, self.coef_.T,\n\u001b[0;32m--> 241\u001b[0;31m                                dense_output=True) + self.intercept_\n\u001b[0m\u001b[1;32m    242\u001b[0m \u001b[0;34m\u001b[0m\u001b[0m\n\u001b[1;32m    243\u001b[0m     \u001b[0;32mdef\u001b[0m \u001b[0mpredict\u001b[0m\u001b[0;34m(\u001b[0m\u001b[0mself\u001b[0m\u001b[0;34m,\u001b[0m \u001b[0mX\u001b[0m\u001b[0;34m)\u001b[0m\u001b[0;34m:\u001b[0m\u001b[0;34m\u001b[0m\u001b[0m\n",
      "\u001b[0;32m~/anaconda3/lib/python3.6/site-packages/sklearn/utils/extmath.py\u001b[0m in \u001b[0;36msafe_sparse_dot\u001b[0;34m(a, b, dense_output)\u001b[0m\n\u001b[1;32m    138\u001b[0m         \u001b[0;32mreturn\u001b[0m \u001b[0mret\u001b[0m\u001b[0;34m\u001b[0m\u001b[0m\n\u001b[1;32m    139\u001b[0m     \u001b[0;32melse\u001b[0m\u001b[0;34m:\u001b[0m\u001b[0;34m\u001b[0m\u001b[0m\n\u001b[0;32m--> 140\u001b[0;31m         \u001b[0;32mreturn\u001b[0m \u001b[0mnp\u001b[0m\u001b[0;34m.\u001b[0m\u001b[0mdot\u001b[0m\u001b[0;34m(\u001b[0m\u001b[0ma\u001b[0m\u001b[0;34m,\u001b[0m \u001b[0mb\u001b[0m\u001b[0;34m)\u001b[0m\u001b[0;34m\u001b[0m\u001b[0m\n\u001b[0m\u001b[1;32m    141\u001b[0m \u001b[0;34m\u001b[0m\u001b[0m\n\u001b[1;32m    142\u001b[0m \u001b[0;34m\u001b[0m\u001b[0m\n",
      "\u001b[0;31mValueError\u001b[0m: shapes (1460,6) and (4,) not aligned: 6 (dim 1) != 4 (dim 0)"
     ]
    }
   ],
   "source": [
    "from sklearn.linear_model import LinearRegression\n",
    "from sklearn.metrics import mean_squared_error\n",
    "import numpy as np\n",
    "\n",
    "\n",
    "lr= LinearRegression() \n",
    "#training the model\n",
    "lr.fit( train_df,train_target)\n",
    "#lr.fit(train[features],train['SalePrice'])\n",
    "# and now predections\n",
    "train_predictions = lr.predict(  train[features])\n",
    "test_predictions = lr.predict( clean_test[features] )\n",
    "\n",
    "# finding the error\n",
    "train_mse = mean_squared_error( train_predictions,train['SalePrice'])\n",
    "test_mse = mean_squared_error( test_predictions,clean_test['SalePrice'])\n",
    "\n",
    "\n",
    "#train_rmse = train_mse.sqrt()\n",
    "#test_rmse = test_mse.sqrt()\n",
    "#print( train_mse )\n",
    "#print( test_mse )\n",
    "\n",
    "train_rmse = np.sqrt(train_mse)\n",
    "test_rmse = np.sqrt(test_mse)\n",
    "\n",
    "print(train_rmse)\n",
    "print(test_rmse)\n",
    "\n",
    "\n",
    "\n",
    "\n"
   ]
  },
  {
   "cell_type": "code",
   "execution_count": 32,
   "metadata": {},
   "outputs": [
    {
     "name": "stdout",
     "output_type": "stream",
     "text": [
      "34169.2655389\n",
      "41040.6328101\n"
     ]
    }
   ],
   "source": [
    "from sklearn.linear_model import LinearRegression\n",
    "from sklearn.metrics import mean_squared_error\n",
    "import numpy as np\n",
    "\n",
    "final_corr_cols = strong_corrs.drop(['Garage Cars', 'TotRms AbvGrd'])\n",
    "features = final_corr_cols.drop(['SalePrice']).index\n",
    "target = 'SalePrice'\n",
    "clean_test = test[final_corr_cols.index].dropna()\n",
    "\n",
    "lr = LinearRegression()\n",
    "lr.fit(train[features], train['SalePrice'])\n",
    "\n",
    "train_predictions = lr.predict(train[features])\n",
    "test_predictions = lr.predict(clean_test[features])\n",
    "\n",
    "train_mse = mean_squared_error(train_predictions, train[target])\n",
    "test_mse = mean_squared_error(test_predictions, clean_test[target])\n",
    "\n",
    "train_rmse = np.sqrt(train_mse)\n",
    "test_rmse = np.sqrt(test_mse)\n",
    "\n",
    "print(train_rmse)\n",
    "print(test_rmse)\n"
   ]
  },
  {
   "cell_type": "markdown",
   "metadata": {},
   "source": [
    "## Task 5\n",
    "The last technique we'll explore is removing features with low variance. When the values in a feature column have low variance, they don't meaningfully contribute to the model's predictive capability. On the extreme end, let's imagine a column with a variance of 0. This would mean that all of the values in that column were exactly the same. This means that the column isn't informative and isn't going to help the model make better predictions.\n",
    "\n",
    "To make apples to apples comparisons between columns, we need to rescale all of the columns to vary between 0 and 1. Then, we can set a cutoff value for variance and remove features that have less than that variance amount. This is known as min-max scaling or as rescaling. Here's the formula for rescaling:\n",
    "\n",
    "x−min(x)/max(x)−min(x)\n",
    "\n",
    "Where\n",
    "x\n",
    "is an individual value\n",
    "min(x)\n",
    "is the minimum value for the column x\n",
    "belongs to\n",
    "max(x)\n",
    "is the maximum value for the column x belongs to"
   ]
  },
  {
   "cell_type": "code",
   "execution_count": 33,
   "metadata": {},
   "outputs": [
    {
     "name": "stdout",
     "output_type": "stream",
     "text": [
      "Wood Deck SF     0.0\n",
      "Open Porch SF    0.0\n",
      "Fireplaces       0.0\n",
      "Full Bath        0.0\n",
      "1st Flr SF       0.0\n",
      "Garage Area      0.0\n",
      "Gr Liv Area      0.0\n",
      "Overall Qual     0.0\n",
      "dtype: float64\n",
      "Wood Deck SF     1.0\n",
      "Open Porch SF    1.0\n",
      "Fireplaces       1.0\n",
      "Full Bath        1.0\n",
      "1st Flr SF       1.0\n",
      "Garage Area      1.0\n",
      "Gr Liv Area      1.0\n",
      "Overall Qual     1.0\n",
      "dtype: float64\n",
      "Open Porch SF    0.013939\n",
      "Full Bath        0.018616\n",
      "Garage Area      0.020352\n",
      "Gr Liv Area      0.023078\n",
      "Overall Qual     0.024550\n",
      "1st Flr SF       0.025802\n",
      "Wood Deck SF     0.033051\n",
      "Fireplaces       0.046570\n",
      "dtype: float64\n"
     ]
    }
   ],
   "source": [
    "unit_train = (train[features] - train[features].min())/(train[features].max() - train[features].min())\n",
    "print(unit_train.min())\n",
    "print(unit_train.max())\n",
    "# Confirmed: the min and max values are 0.0 and 1.0 respectively\n",
    "\n",
    "sorted_vars = unit_train.var().sort_values()\n",
    "print(sorted_vars)"
   ]
  },
  {
   "cell_type": "code",
   "execution_count": 34,
   "metadata": {},
   "outputs": [
    {
     "name": "stdout",
     "output_type": "stream",
     "text": [
      "[150]\n",
      "21\n",
      "120.164052695\n"
     ]
    }
   ],
   "source": [
    "def derivative(a1, xi_list, yi_list):\n",
    "    # Modify this function.\n",
    "    len_data = len(xi_list)\n",
    "    error = 0\n",
    "    for i in range( 0,len_data):\n",
    "        error = error + xi_list[i]* ( a1 * xi_list[i] - yi_list[i] )\n",
    "    deriv = 2 * error/len_data\n",
    "    return deriv\n",
    "\n",
    "def gradient_descent(xi_list, yi_list, max_iterations, alpha, a1_initial):\n",
    "    \n",
    "    \n",
    "    a1_list = [a1_initial]\n",
    "    print( a1_list )\n",
    "    for i in range(0, max_iterations):\n",
    "        a1 = a1_list[i]\n",
    "        deriv = derivative(a1, xi_list, yi_list)\n",
    "        a1_new = a1 - alpha*deriv\n",
    "        a1_list.append(a1_new)\n",
    "    return(a1_list)\n",
    "\n",
    "# Uncomment when ready.\n",
    "param_iterations = gradient_descent(train['Gr Liv Area'], train['SalePrice'], 20, .0000003, 150)\n",
    "final_param = param_iterations[-1]\n",
    "x = len(param_iterations)\n",
    "print (x )\n",
    "print( final_param)"
   ]
  },
  {
   "cell_type": "markdown",
   "metadata": {},
   "source": [
    "# instructions\n",
    "\n",
    "    Implement the a0_derivative() function, which implements the gradient for a0\n",
    "\n",
    "        Even though we're working on the multiparameter case, let's keep this function name consistent with the \n",
    "        previous   one we implemented (a1_derivative()).\n",
    "        You'll notice that we added the a0 parameter to the function parameters. This is because we need both\n",
    "        parameters     for the individual parameter updates (verify this by looking at the math we explored in this \n",
    "        screen).\n"
   ]
  },
  {
   "cell_type": "code",
   "execution_count": 36,
   "metadata": {},
   "outputs": [],
   "source": [
    "def a1_derivative(a0, a1, xi_list, yi_list):\n",
    "    len_data = len(xi_list)\n",
    "    error = 0\n",
    "    for i in range(0, len_data):\n",
    "        error += xi_list[i]*(a0 + a1*xi_list[i] - yi_list[i])\n",
    "    deriv = 2*error/len_data\n",
    "    return deriv\n",
    "\n",
    "def a0_derivative(a0, a1, xi_list, yi_list):\n",
    "    len_data = len(xi_list)\n",
    "    error = 0\n",
    "    for i in range(0,len_data):\n",
    "        error = error + (a0 + a1*xi_list[i] - yi_list[i])\n",
    "    deriv = 2 *error /len_data    \n",
    "    return deriv\n",
    "\n",
    "def gradient_descent(xi_list, yi_list, max_iterations, alpha, a1_initial, a0_initial):\n",
    "    a1_list = [a1_initial]\n",
    "    a0_list = [a0_initial]\n",
    "\n",
    "    for i in range(0, max_iterations):\n",
    "        a1 = a1_list[i]\n",
    "        a0 = a0_list[i]\n",
    "        \n",
    "        a1_deriv = a1_derivative(a0, a1, xi_list, yi_list)\n",
    "        a0_deriv = a0_derivative(a0, a1, xi_list, yi_list)\n",
    "        \n",
    "        a1_new = a1 - alpha*a1_deriv\n",
    "        a0_new = a0 - alpha*a0_deriv\n",
    "        \n",
    "        a1_list.append(a1_new)\n",
    "        a0_list.append(a0_new)\n",
    "    return(a0_list, a1_list)\n",
    "\n",
    "# Uncomment when ready.\n",
    "#a0_params, a1_params = gradient_descent(train['Gr Liv Area'], train['SalePrice'], 2000, .3, 100, 1000)\n",
    "#print (a0_params[-1])\n",
    "#print(a1_params[-1])"
   ]
  },
  {
   "cell_type": "code",
   "execution_count": null,
   "metadata": {},
   "outputs": [],
   "source": []
  },
  {
   "cell_type": "code",
   "execution_count": null,
   "metadata": {},
   "outputs": [],
   "source": []
  }
 ],
 "metadata": {
  "kernelspec": {
   "display_name": "Python 3",
   "language": "python",
   "name": "python3"
  },
  "language_info": {
   "codemirror_mode": {
    "name": "ipython",
    "version": 3
   },
   "file_extension": ".py",
   "mimetype": "text/x-python",
   "name": "python",
   "nbconvert_exporter": "python",
   "pygments_lexer": "ipython3",
   "version": "3.6.3"
  }
 },
 "nbformat": 4,
 "nbformat_minor": 2
}
