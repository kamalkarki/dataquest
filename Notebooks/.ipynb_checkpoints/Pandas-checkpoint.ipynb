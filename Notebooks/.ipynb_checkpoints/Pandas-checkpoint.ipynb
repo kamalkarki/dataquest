{
 "cells": [
  {
   "cell_type": "code",
   "execution_count": 4,
   "metadata": {},
   "outputs": [],
   "source": [
    "import pandas as pd\n",
    "\n",
    "f500 = pd.read_csv('/home/kamlesh/AnacondaProjects/Dataquest/Data/f500.csv', index_col = 0)\n",
    "f500.index.name = None"
   ]
  },
  {
   "cell_type": "code",
   "execution_count": 7,
   "metadata": {},
   "outputs": [
    {
     "data": {
      "text/plain": [
       "rank                          int64\n",
       "revenues                      int64\n",
       "revenue_change              float64\n",
       "profits                     float64\n",
       "assets                        int64\n",
       "profit_change               float64\n",
       "ceo                          object\n",
       "industry                     object\n",
       "sector                       object\n",
       "previous_rank                 int64\n",
       "country                      object\n",
       "hq_location                  object\n",
       "website                      object\n",
       "years_on_global_500_list      int64\n",
       "employees                     int64\n",
       "total_stockholder_equity      int64\n",
       "dtype: object"
      ]
     },
     "execution_count": 7,
     "metadata": {},
     "output_type": "execute_result"
    }
   ],
   "source": [
    "f500.dtypes"
   ]
  },
  {
   "cell_type": "code",
   "execution_count": 8,
   "metadata": {},
   "outputs": [
    {
     "name": "stdout",
     "output_type": "stream",
     "text": [
      "<class 'pandas.core.frame.DataFrame'>\n",
      "Index: 500 entries, Walmart to AutoNation\n",
      "Data columns (total 16 columns):\n",
      "rank                        500 non-null int64\n",
      "revenues                    500 non-null int64\n",
      "revenue_change              498 non-null float64\n",
      "profits                     499 non-null float64\n",
      "assets                      500 non-null int64\n",
      "profit_change               436 non-null float64\n",
      "ceo                         500 non-null object\n",
      "industry                    500 non-null object\n",
      "sector                      500 non-null object\n",
      "previous_rank               500 non-null int64\n",
      "country                     500 non-null object\n",
      "hq_location                 500 non-null object\n",
      "website                     500 non-null object\n",
      "years_on_global_500_list    500 non-null int64\n",
      "employees                   500 non-null int64\n",
      "total_stockholder_equity    500 non-null int64\n",
      "dtypes: float64(3), int64(7), object(6)\n",
      "memory usage: 86.4+ KB\n"
     ]
    }
   ],
   "source": [
    "f500.info()"
   ]
  },
  {
   "cell_type": "code",
   "execution_count": 10,
   "metadata": {},
   "outputs": [],
   "source": [
    "f500_head = f500.head(6)\n",
    "f500_tail = f500.tail(8)\n",
    "\n",
    "#f500.info()"
   ]
  },
  {
   "cell_type": "code",
   "execution_count": 11,
   "metadata": {},
   "outputs": [
    {
     "data": {
      "text/html": [
       "<div>\n",
       "<style scoped>\n",
       "    .dataframe tbody tr th:only-of-type {\n",
       "        vertical-align: middle;\n",
       "    }\n",
       "\n",
       "    .dataframe tbody tr th {\n",
       "        vertical-align: top;\n",
       "    }\n",
       "\n",
       "    .dataframe thead th {\n",
       "        text-align: right;\n",
       "    }\n",
       "</style>\n",
       "<table border=\"1\" class=\"dataframe\">\n",
       "  <thead>\n",
       "    <tr style=\"text-align: right;\">\n",
       "      <th></th>\n",
       "      <th>rank</th>\n",
       "      <th>revenues</th>\n",
       "      <th>revenue_change</th>\n",
       "      <th>profits</th>\n",
       "      <th>assets</th>\n",
       "      <th>profit_change</th>\n",
       "      <th>ceo</th>\n",
       "      <th>industry</th>\n",
       "      <th>sector</th>\n",
       "      <th>previous_rank</th>\n",
       "      <th>country</th>\n",
       "      <th>hq_location</th>\n",
       "      <th>website</th>\n",
       "      <th>years_on_global_500_list</th>\n",
       "      <th>employees</th>\n",
       "      <th>total_stockholder_equity</th>\n",
       "    </tr>\n",
       "  </thead>\n",
       "  <tbody>\n",
       "    <tr>\n",
       "      <th>Walmart</th>\n",
       "      <td>1</td>\n",
       "      <td>485873</td>\n",
       "      <td>0.8</td>\n",
       "      <td>13643.0</td>\n",
       "      <td>198825</td>\n",
       "      <td>-7.2</td>\n",
       "      <td>C. Douglas McMillon</td>\n",
       "      <td>General Merchandisers</td>\n",
       "      <td>Retailing</td>\n",
       "      <td>1</td>\n",
       "      <td>USA</td>\n",
       "      <td>Bentonville, AR</td>\n",
       "      <td>http://www.walmart.com</td>\n",
       "      <td>23</td>\n",
       "      <td>2300000</td>\n",
       "      <td>77798</td>\n",
       "    </tr>\n",
       "    <tr>\n",
       "      <th>State Grid</th>\n",
       "      <td>2</td>\n",
       "      <td>315199</td>\n",
       "      <td>-4.4</td>\n",
       "      <td>9571.3</td>\n",
       "      <td>489838</td>\n",
       "      <td>-6.2</td>\n",
       "      <td>Kou Wei</td>\n",
       "      <td>Utilities</td>\n",
       "      <td>Energy</td>\n",
       "      <td>2</td>\n",
       "      <td>China</td>\n",
       "      <td>Beijing, China</td>\n",
       "      <td>http://www.sgcc.com.cn</td>\n",
       "      <td>17</td>\n",
       "      <td>926067</td>\n",
       "      <td>209456</td>\n",
       "    </tr>\n",
       "    <tr>\n",
       "      <th>Sinopec Group</th>\n",
       "      <td>3</td>\n",
       "      <td>267518</td>\n",
       "      <td>-9.1</td>\n",
       "      <td>1257.9</td>\n",
       "      <td>310726</td>\n",
       "      <td>-65.0</td>\n",
       "      <td>Wang Yupu</td>\n",
       "      <td>Petroleum Refining</td>\n",
       "      <td>Energy</td>\n",
       "      <td>4</td>\n",
       "      <td>China</td>\n",
       "      <td>Beijing, China</td>\n",
       "      <td>http://www.sinopec.com</td>\n",
       "      <td>19</td>\n",
       "      <td>713288</td>\n",
       "      <td>106523</td>\n",
       "    </tr>\n",
       "    <tr>\n",
       "      <th>China National Petroleum</th>\n",
       "      <td>4</td>\n",
       "      <td>262573</td>\n",
       "      <td>-12.3</td>\n",
       "      <td>1867.5</td>\n",
       "      <td>585619</td>\n",
       "      <td>-73.7</td>\n",
       "      <td>Zhang Jianhua</td>\n",
       "      <td>Petroleum Refining</td>\n",
       "      <td>Energy</td>\n",
       "      <td>3</td>\n",
       "      <td>China</td>\n",
       "      <td>Beijing, China</td>\n",
       "      <td>http://www.cnpc.com.cn</td>\n",
       "      <td>17</td>\n",
       "      <td>1512048</td>\n",
       "      <td>301893</td>\n",
       "    </tr>\n",
       "    <tr>\n",
       "      <th>Toyota Motor</th>\n",
       "      <td>5</td>\n",
       "      <td>254694</td>\n",
       "      <td>7.7</td>\n",
       "      <td>16899.3</td>\n",
       "      <td>437575</td>\n",
       "      <td>-12.3</td>\n",
       "      <td>Akio Toyoda</td>\n",
       "      <td>Motor Vehicles and Parts</td>\n",
       "      <td>Motor Vehicles &amp; Parts</td>\n",
       "      <td>8</td>\n",
       "      <td>Japan</td>\n",
       "      <td>Toyota, Japan</td>\n",
       "      <td>http://www.toyota-global.com</td>\n",
       "      <td>23</td>\n",
       "      <td>364445</td>\n",
       "      <td>157210</td>\n",
       "    </tr>\n",
       "    <tr>\n",
       "      <th>Volkswagen</th>\n",
       "      <td>6</td>\n",
       "      <td>240264</td>\n",
       "      <td>1.5</td>\n",
       "      <td>5937.3</td>\n",
       "      <td>432116</td>\n",
       "      <td>NaN</td>\n",
       "      <td>Matthias Muller</td>\n",
       "      <td>Motor Vehicles and Parts</td>\n",
       "      <td>Motor Vehicles &amp; Parts</td>\n",
       "      <td>7</td>\n",
       "      <td>Germany</td>\n",
       "      <td>Wolfsburg, Germany</td>\n",
       "      <td>http://www.volkswagen.com</td>\n",
       "      <td>23</td>\n",
       "      <td>626715</td>\n",
       "      <td>97753</td>\n",
       "    </tr>\n",
       "  </tbody>\n",
       "</table>\n",
       "</div>"
      ],
      "text/plain": [
       "                          rank  revenues  revenue_change  profits  assets  \\\n",
       "Walmart                      1    485873             0.8  13643.0  198825   \n",
       "State Grid                   2    315199            -4.4   9571.3  489838   \n",
       "Sinopec Group                3    267518            -9.1   1257.9  310726   \n",
       "China National Petroleum     4    262573           -12.3   1867.5  585619   \n",
       "Toyota Motor                 5    254694             7.7  16899.3  437575   \n",
       "Volkswagen                   6    240264             1.5   5937.3  432116   \n",
       "\n",
       "                          profit_change                  ceo  \\\n",
       "Walmart                            -7.2  C. Douglas McMillon   \n",
       "State Grid                         -6.2              Kou Wei   \n",
       "Sinopec Group                     -65.0            Wang Yupu   \n",
       "China National Petroleum          -73.7        Zhang Jianhua   \n",
       "Toyota Motor                      -12.3          Akio Toyoda   \n",
       "Volkswagen                          NaN      Matthias Muller   \n",
       "\n",
       "                                          industry                  sector  \\\n",
       "Walmart                      General Merchandisers               Retailing   \n",
       "State Grid                               Utilities                  Energy   \n",
       "Sinopec Group                   Petroleum Refining                  Energy   \n",
       "China National Petroleum        Petroleum Refining                  Energy   \n",
       "Toyota Motor              Motor Vehicles and Parts  Motor Vehicles & Parts   \n",
       "Volkswagen                Motor Vehicles and Parts  Motor Vehicles & Parts   \n",
       "\n",
       "                          previous_rank  country         hq_location  \\\n",
       "Walmart                               1      USA     Bentonville, AR   \n",
       "State Grid                            2    China      Beijing, China   \n",
       "Sinopec Group                         4    China      Beijing, China   \n",
       "China National Petroleum              3    China      Beijing, China   \n",
       "Toyota Motor                          8    Japan       Toyota, Japan   \n",
       "Volkswagen                            7  Germany  Wolfsburg, Germany   \n",
       "\n",
       "                                               website  \\\n",
       "Walmart                         http://www.walmart.com   \n",
       "State Grid                      http://www.sgcc.com.cn   \n",
       "Sinopec Group                   http://www.sinopec.com   \n",
       "China National Petroleum        http://www.cnpc.com.cn   \n",
       "Toyota Motor              http://www.toyota-global.com   \n",
       "Volkswagen                   http://www.volkswagen.com   \n",
       "\n",
       "                          years_on_global_500_list  employees  \\\n",
       "Walmart                                         23    2300000   \n",
       "State Grid                                      17     926067   \n",
       "Sinopec Group                                   19     713288   \n",
       "China National Petroleum                        17    1512048   \n",
       "Toyota Motor                                    23     364445   \n",
       "Volkswagen                                      23     626715   \n",
       "\n",
       "                          total_stockholder_equity  \n",
       "Walmart                                      77798  \n",
       "State Grid                                  209456  \n",
       "Sinopec Group                               106523  \n",
       "China National Petroleum                    301893  \n",
       "Toyota Motor                                157210  \n",
       "Volkswagen                                   97753  "
      ]
     },
     "execution_count": 11,
     "metadata": {},
     "output_type": "execute_result"
    }
   ],
   "source": [
    "f500_head"
   ]
  },
  {
   "cell_type": "markdown",
   "metadata": {},
   "source": [
    "instructions\n",
    "\n",
    "    Select the industry column, and assign the result to the variable name industries.\n",
    "    Select the rank, previous_rank and years_on_global_500_list columns, in order, and assign the result to the variable name previous.\n",
    "    Select all columns from revenues up to and including profit_change, in order, and assign the result to the variable name financial_data.\n"
   ]
  },
  {
   "cell_type": "code",
   "execution_count": 13,
   "metadata": {},
   "outputs": [],
   "source": [
    "industries = f500.loc[:,'industry']\n",
    "previous = f500.loc[:,[\"rank\",\"previous_rank\",\"years_on_global_500_list\"]]\n",
    "financial_data = f500.loc[:, \"revenues\":\"profit_change\"]\n",
    "#financial_data = f500.loc[;, \"revenues\":\"profit_change\"]"
   ]
  },
  {
   "cell_type": "markdown",
   "metadata": {},
   "source": [
    "instructions\n",
    "\n",
    "    Select the country column, and assign the result to the variable name countries.\n",
    "    Select the revenues and years_on_global_500_list columns, in order, and assign the result to the variable name revenues_years.\n",
    "    Select all columns from ceo up to and including sector, in order, and assign the result to the variable name ceo_to_sector.\n"
   ]
  },
  {
   "cell_type": "code",
   "execution_count": 14,
   "metadata": {},
   "outputs": [],
   "source": [
    "countries = f500[\"country\"]\n",
    "revenues_years = f500[[\"revenues\", \"years_on_global_500_list\"]]\n",
    "ceo_to_sector = f500.loc[:, \"ceo\":\"sector\"]"
   ]
  },
  {
   "cell_type": "code",
   "execution_count": 16,
   "metadata": {},
   "outputs": [
    {
     "name": "stdout",
     "output_type": "stream",
     "text": [
      "<class 'pandas.core.frame.DataFrame'>\n"
     ]
    }
   ],
   "source": [
    "print( type(f500.head(1)))"
   ]
  },
  {
   "cell_type": "code",
   "execution_count": 17,
   "metadata": {},
   "outputs": [],
   "source": [
    "x = f500.head(1)"
   ]
  },
  {
   "cell_type": "code",
   "execution_count": 18,
   "metadata": {},
   "outputs": [
    {
     "name": "stdout",
     "output_type": "stream",
     "text": [
      "<class 'pandas.core.frame.DataFrame'>\n"
     ]
    }
   ],
   "source": [
    "print( type(x))"
   ]
  },
  {
   "cell_type": "code",
   "execution_count": 19,
   "metadata": {},
   "outputs": [
    {
     "data": {
      "text/html": [
       "<div>\n",
       "<style scoped>\n",
       "    .dataframe tbody tr th:only-of-type {\n",
       "        vertical-align: middle;\n",
       "    }\n",
       "\n",
       "    .dataframe tbody tr th {\n",
       "        vertical-align: top;\n",
       "    }\n",
       "\n",
       "    .dataframe thead th {\n",
       "        text-align: right;\n",
       "    }\n",
       "</style>\n",
       "<table border=\"1\" class=\"dataframe\">\n",
       "  <thead>\n",
       "    <tr style=\"text-align: right;\">\n",
       "      <th></th>\n",
       "      <th>rank</th>\n",
       "      <th>revenues</th>\n",
       "      <th>revenue_change</th>\n",
       "      <th>profits</th>\n",
       "      <th>assets</th>\n",
       "      <th>profit_change</th>\n",
       "      <th>ceo</th>\n",
       "      <th>industry</th>\n",
       "      <th>sector</th>\n",
       "      <th>previous_rank</th>\n",
       "      <th>country</th>\n",
       "      <th>hq_location</th>\n",
       "      <th>website</th>\n",
       "      <th>years_on_global_500_list</th>\n",
       "      <th>employees</th>\n",
       "      <th>total_stockholder_equity</th>\n",
       "    </tr>\n",
       "  </thead>\n",
       "  <tbody>\n",
       "    <tr>\n",
       "      <th>Walmart</th>\n",
       "      <td>1</td>\n",
       "      <td>485873</td>\n",
       "      <td>0.8</td>\n",
       "      <td>13643.0</td>\n",
       "      <td>198825</td>\n",
       "      <td>-7.2</td>\n",
       "      <td>C. Douglas McMillon</td>\n",
       "      <td>General Merchandisers</td>\n",
       "      <td>Retailing</td>\n",
       "      <td>1</td>\n",
       "      <td>USA</td>\n",
       "      <td>Bentonville, AR</td>\n",
       "      <td>http://www.walmart.com</td>\n",
       "      <td>23</td>\n",
       "      <td>2300000</td>\n",
       "      <td>77798</td>\n",
       "    </tr>\n",
       "  </tbody>\n",
       "</table>\n",
       "</div>"
      ],
      "text/plain": [
       "         rank  revenues  revenue_change  profits  assets  profit_change  \\\n",
       "Walmart     1    485873             0.8  13643.0  198825           -7.2   \n",
       "\n",
       "                         ceo               industry     sector  previous_rank  \\\n",
       "Walmart  C. Douglas McMillon  General Merchandisers  Retailing              1   \n",
       "\n",
       "        country      hq_location                 website  \\\n",
       "Walmart     USA  Bentonville, AR  http://www.walmart.com   \n",
       "\n",
       "         years_on_global_500_list  employees  total_stockholder_equity  \n",
       "Walmart                        23    2300000                     77798  "
      ]
     },
     "execution_count": 19,
     "metadata": {},
     "output_type": "execute_result"
    }
   ],
   "source": [
    "x"
   ]
  },
  {
   "cell_type": "code",
   "execution_count": 20,
   "metadata": {},
   "outputs": [],
   "source": [
    "ceos = f500[\"ceo\"]"
   ]
  },
  {
   "cell_type": "code",
   "execution_count": 21,
   "metadata": {},
   "outputs": [
    {
     "data": {
      "text/plain": [
       "Walmart                                                       C. Douglas McMillon\n",
       "State Grid                                                                Kou Wei\n",
       "Sinopec Group                                                           Wang Yupu\n",
       "China National Petroleum                                            Zhang Jianhua\n",
       "Toyota Motor                                                          Akio Toyoda\n",
       "Volkswagen                                                        Matthias Muller\n",
       "Royal Dutch Shell                                                 Ben van Beurden\n",
       "Berkshire Hathaway                                              Warren E. Buffett\n",
       "Apple                                                             Timothy D. Cook\n",
       "Exxon Mobil                                                       Darren W. Woods\n",
       "McKesson                                                       John H. Hammergren\n",
       "BP                                                               Robert W. Dudley\n",
       "UnitedHealth Group                                             Stephen J. Hemsley\n",
       "CVS Health                                                         Larry J. Merlo\n",
       "Samsung Electronics                                                  Oh-Hyun Kwon\n",
       "Glencore                                                          Ivan Glasenberg\n",
       "Daimler                                                            Dieter Zetsche\n",
       "General Motors                                                      Mary T. Barra\n",
       "AT&T                                                        Randall L. Stephenson\n",
       "EXOR Group                                                            John Elkann\n",
       "Ford Motor                                                       James P. Hackett\n",
       "Industrial & Commercial Bank of China                                      Gu Shu\n",
       "AmerisourceBergen                                                Steven H. Collis\n",
       "China State Construction Engineering                                    Guan Qing\n",
       "AXA                                                                 Thomas Buberl\n",
       "Amazon.com                                                       Jeffrey P. Bezos\n",
       "Hon Hai Precision Industry                                              Terry Gou\n",
       "China Construction Bank                                            Wang Hongzhang\n",
       "Honda Motor                                                      Takahiro Hachigo\n",
       "Total                                                            Patrick Pouyanne\n",
       "                                                              ...                \n",
       "Amgen                                                           Robert A. Bradway\n",
       "Rabobank Group                                                      Wiebe Draijer\n",
       "Altice                                                              Michel Combes\n",
       "Onex                                                           Gerald W. Schwartz\n",
       "US Foods Holding                                                  Pietro Satriano\n",
       "Shanxi Jincheng Anthracite Coal Mining Group                           He Tiancai\n",
       "Randstad Holding                                            Jacques van den Broek\n",
       "Tencent Holdings                                                          Pony Ma\n",
       "LG Display                                                          Sang-Beom Han\n",
       "Emirates Group                                  Sheikh Ahmed bin Saeed Al Maktoum\n",
       "U.S. Bancorp                                                     Andrew J. Cecere\n",
       "H & M Hennes & Mauritz                                         Karl-Johan Persson\n",
       "Aflac                                                              Daniel P. Amos\n",
       "Sodexo                                                              Michel Landel\n",
       "Suning Commerce Group                                                     Ren Jun\n",
       "GS Caltex                                                             Jin-Soo Huh\n",
       "Ultrapar Holdings                                                 Thilo Mannhardt\n",
       "Xiamen C&D                                                          Huang Wenzhou\n",
       "Sears Holdings                                                  Edward S. Lampert\n",
       "China General Technology                                              Xu Xianping\n",
       "National Grid                                                      John Pettigrew\n",
       "Dollar General                                                      Todd J. Vasos\n",
       "Telecom Italia                                                    Flavio Cattaneo\n",
       "Xiamen ITG Holding Group                                                Xu Xiaoxi\n",
       "Xinjiang Guanghui Industry Investment                               Shang Jiqiang\n",
       "Teva Pharmaceutical Industries                                  Yitzhak Peterburg\n",
       "New China Life Insurance                                                 Wan Feng\n",
       "Wm. Morrison Supermarkets                                          David T. Potts\n",
       "TUI                                                             Friedrich Joussen\n",
       "AutoNation                                                     Michael J. Jackson\n",
       "Name: ceo, Length: 500, dtype: object"
      ]
     },
     "execution_count": 21,
     "metadata": {},
     "output_type": "execute_result"
    }
   ],
   "source": [
    "ceos"
   ]
  },
  {
   "cell_type": "markdown",
   "metadata": {},
   "source": [
    "From the pandas series ceos:\n",
    "\n",
    "    Select the item at index label Walmart and assign the result to the variable name walmart.\n",
    "    Select the items from index label Apple up to and including index label Samsung Electronics and assign the result to the variable name apple_to_samsung.\n",
    "    Select the items with index labels Exxon Mobil, BP, and Chevron, in order, and assign the result to the variable name oil_companies.\n"
   ]
  },
  {
   "cell_type": "code",
   "execution_count": 23,
   "metadata": {},
   "outputs": [],
   "source": [
    "ceos = f500[\"ceo\"]\n",
    "\n",
    "walmart = ceos.loc['Walmart']\n",
    "\n",
    "apple_to_samsung = ceos.loc[\"Apple\":\"Samsung Electronics\"]\n",
    "\n",
    "oil_companies = ceos.loc[[\"Exxon Mobil\",\"BP\",\"Chevron\"]]"
   ]
  },
  {
   "cell_type": "code",
   "execution_count": 25,
   "metadata": {},
   "outputs": [
    {
     "name": "stdout",
     "output_type": "stream",
     "text": [
      "<class 'pandas.core.series.Series'>\n",
      "rank                                             3\n",
      "revenues                                    267518\n",
      "revenue_change                                -9.1\n",
      "profits                                     1257.9\n",
      "assets                                      310726\n",
      "profit_change                                  -65\n",
      "ceo                                      Wang Yupu\n",
      "industry                        Petroleum Refining\n",
      "sector                                      Energy\n",
      "previous_rank                                    4\n",
      "country                                      China\n",
      "hq_location                         Beijing, China\n",
      "website                     http://www.sinopec.com\n",
      "years_on_global_500_list                        19\n",
      "employees                                   713288\n",
      "total_stockholder_equity                    106523\n",
      "Name: Sinopec Group, dtype: object\n"
     ]
    }
   ],
   "source": [
    "single_row = f500.loc[\"Sinopec Group\"]\n",
    "print(type(single_row))\n",
    "print(single_row)"
   ]
  },
  {
   "cell_type": "markdown",
   "metadata": {},
   "source": [
    "instructions\n",
    "\n",
    "    By selecting data from f500:\n",
    "        Create a new variable, drink_companies, with:\n",
    "            Rows with indicies Anheuser-Busch InBev, Coca-Cola, and Heineken Holding, in that order.\n",
    "            All columns.\n",
    "        Create a new variable big_movers, with:\n",
    "            Rows with indicies Aviva, HP, JD.com, and BHP Billiton, in that order.\n",
    "            The rank and previous_rank columns, in that order.\n",
    "        Create a new variable, middle_companies with:\n",
    "            All rows with indicies from Tata Motorsto Nationwide, inclusive.\n",
    "            All columns from rank to country, inclusive.\n"
   ]
  },
  {
   "cell_type": "code",
   "execution_count": 26,
   "metadata": {},
   "outputs": [],
   "source": [
    "drink_companies = f500.loc[[\"Anheuser-Busch InBev\",\"Coca-Cola\",\"Heineken Holding\"]]\n",
    "\n",
    "big_movers = f500.loc[[\"Aviva\",\"HP\",\"JD.com\",\"BHP Billiton\"],[\"rank\",\"previous_rank\"] ]\n",
    "\n",
    "\n",
    "middle_companies = f500.loc[\"Tata Motors\":\"Nationwide\",\"rank\":\"country\"]"
   ]
  },
  {
   "cell_type": "markdown",
   "metadata": {},
   "source": [
    "instructions\n",
    "\n",
    "    Use the appropriate describe() method to:\n",
    "        Return a series of descriptive statistics for the profits column, and assign the result to profits_desc.\n",
    "        Return a dataframe of descriptive statistics for the revenues and employees columns, in order, and assign the result to revenue_and_employees_desc.\n",
    "        Return a dataframe of descriptive statistics for every column in the f500 dataframe, by checking the documentation for the correct value for the include parameter, and assign the result to all_desc"
   ]
  },
  {
   "cell_type": "code",
   "execution_count": 32,
   "metadata": {},
   "outputs": [],
   "source": [
    "profits_desc = f500['profits'].describe()\n",
    "\n",
    "revenue_and_employees_desc = f500[[\"revenues\",\"employees\"]].describe()\n",
    "\n",
    "all_desc = f500.describe(include = 'all')"
   ]
  },
  {
   "cell_type": "code",
   "execution_count": 33,
   "metadata": {},
   "outputs": [],
   "source": [
    "top5_countries = f500[\"country\"].value_counts(5)"
   ]
  },
  {
   "cell_type": "code",
   "execution_count": 34,
   "metadata": {},
   "outputs": [],
   "source": [
    "top5_countries = f500[\"country\"].value_counts().head(5)\n"
   ]
  },
  {
   "cell_type": "code",
   "execution_count": 37,
   "metadata": {},
   "outputs": [
    {
     "data": {
      "text/plain": [
       "rank                            500.0\n",
       "revenues                     485873.0\n",
       "revenue_change                  442.3\n",
       "profits                       45687.0\n",
       "assets                      3473238.0\n",
       "profit_change                  8909.5\n",
       "previous_rank                   500.0\n",
       "years_on_global_500_list         23.0\n",
       "employees                   2300000.0\n",
       "total_stockholder_equity     301893.0\n",
       "dtype: float64"
      ]
     },
     "execution_count": 37,
     "metadata": {},
     "output_type": "execute_result"
    }
   ],
   "source": [
    "\n",
    "max_f500 = f500.max(numeric_only= 1)\n",
    "max_f500"
   ]
  },
  {
   "cell_type": "code",
   "execution_count": 38,
   "metadata": {},
   "outputs": [],
   "source": [
    "top5_countries = f500[\"country\"].value_counts().head(5)\n",
    "\n",
    "top5_previous_rank = f500['previous_rank'].value_counts().head()\n",
    "\n",
    "max_f500 = f500.max(axis = 0,numeric_only= 1)"
   ]
  },
  {
   "cell_type": "code",
   "execution_count": 39,
   "metadata": {},
   "outputs": [
    {
     "name": "stdout",
     "output_type": "stream",
     "text": [
      "Walmart                                           1\n",
      "State Grid                                        2\n",
      "Sinopec Group                                     4\n",
      "China National Petroleum                          3\n",
      "Toyota Motor                                      8\n",
      "Volkswagen                                        7\n",
      "Royal Dutch Shell                                 5\n",
      "Berkshire Hathaway                               11\n",
      "Apple                                             9\n",
      "Exxon Mobil                                       6\n",
      "McKesson                                         12\n",
      "BP                                               10\n",
      "UnitedHealth Group                               17\n",
      "CVS Health                                       18\n",
      "Samsung Electronics                              13\n",
      "Glencore                                         14\n",
      "Daimler                                          16\n",
      "General Motors                                   20\n",
      "AT&T                                             23\n",
      "EXOR Group                                       19\n",
      "Ford Motor                                       21\n",
      "Industrial & Commercial Bank of China            15\n",
      "AmerisourceBergen                                28\n",
      "China State Construction Engineering             27\n",
      "AXA                                              33\n",
      "Amazon.com                                       44\n",
      "Hon Hai Precision Industry                       25\n",
      "China Construction Bank                          22\n",
      "Honda Motor                                      36\n",
      "Total                                            24\n",
      "                                               ... \n",
      "Amgen                                           487\n",
      "Rabobank Group                                  445\n",
      "Altice                                            0\n",
      "Onex                                            483\n",
      "US Foods Holding                                461\n",
      "Shanxi Jincheng Anthracite Coal Mining Group    384\n",
      "Randstad Holding                                494\n",
      "Tencent Holdings                                  0\n",
      "LG Display                                      429\n",
      "Emirates Group                                  472\n",
      "U.S. Bancorp                                    490\n",
      "H & M Hennes & Mauritz                          488\n",
      "Aflac                                             0\n",
      "Sodexo                                          466\n",
      "Suning Commerce Group                             0\n",
      "GS Caltex                                       431\n",
      "Ultrapar Holdings                               474\n",
      "Xiamen C&D                                        0\n",
      "Sears Holdings                                  425\n",
      "China General Technology                        383\n",
      "National Grid                                   471\n",
      "Dollar General                                    0\n",
      "Telecom Italia                                  404\n",
      "Xiamen ITG Holding Group                          0\n",
      "Xinjiang Guanghui Industry Investment             0\n",
      "Teva Pharmaceutical Industries                    0\n",
      "New China Life Insurance                        427\n",
      "Wm. Morrison Supermarkets                       437\n",
      "TUI                                             467\n",
      "AutoNation                                        0\n",
      "Name: previous_rank, Length: 500, dtype: int64\n"
     ]
    }
   ],
   "source": [
    "print( f500[\"previous_rank\"])"
   ]
  },
  {
   "cell_type": "markdown",
   "metadata": {},
   "source": [
    "\n",
    "    Add a new column, revenues_b to the f500 dataframe by using vectorized division to divide the values in the existing revenues column by 1000 (converting them from millions to billions).\n",
    "    The company 'Dow Chemical' have named a new CEO. Update the value where the index label is Dow Chemical and for the ceo column to Jim Fitterling.\n",
    "m"
   ]
  },
  {
   "cell_type": "code",
   "execution_count": 41,
   "metadata": {},
   "outputs": [],
   "source": [
    "f500['revenues_b'] = f500['revenues'] / 1000\n",
    "\n",
    "f500.loc['Dow Chemical', 'ceo'] = \"Jim Fitterling\""
   ]
  },
  {
   "cell_type": "markdown",
   "metadata": {},
   "source": [
    "\n",
    "    Use boolean indexing to update values in the previous_rank column of the f500 dataframe:\n",
    "        Where previous there was a value of 0, there should now be a value of np.nan.\n",
    "        It is up to you whether you assign the boolean series to its own variable first, or whether you complete the operation in one line.\n",
    "    Create a new pandas series, prev_rank_after, using the same syntax that was used to create the prev_rank_before series.\n",
    "    After you have run your code, use the variable inspector to compare prev_rank_before and prev_rank_after.\n"
   ]
  },
  {
   "cell_type": "code",
   "execution_count": 42,
   "metadata": {},
   "outputs": [],
   "source": [
    "import numpy as np\n",
    "prev_rank_before = f500[\"previous_rank\"].value_counts(dropna=False).head()\n",
    "\n",
    "#first create boolean for the target\n",
    "boolean_1 = f500['previous_rank'] == 0\n",
    "\n",
    "f500.loc[ boolean_1,\"previous_rank\"] = np.nan \n",
    "\n",
    "prev_rank_after = f500[\"previous_rank\"].value_counts( dropna = False ).head()"
   ]
  },
  {
   "cell_type": "code",
   "execution_count": 71,
   "metadata": {},
   "outputs": [
    {
     "data": {
      "text/html": [
       "<div>\n",
       "<style scoped>\n",
       "    .dataframe tbody tr th:only-of-type {\n",
       "        vertical-align: middle;\n",
       "    }\n",
       "\n",
       "    .dataframe tbody tr th {\n",
       "        vertical-align: top;\n",
       "    }\n",
       "\n",
       "    .dataframe thead th {\n",
       "        text-align: right;\n",
       "    }\n",
       "</style>\n",
       "<table border=\"1\" class=\"dataframe\">\n",
       "  <thead>\n",
       "    <tr style=\"text-align: right;\">\n",
       "      <th></th>\n",
       "      <th>company</th>\n",
       "      <th>rank</th>\n",
       "      <th>revenues</th>\n",
       "      <th>revenue_change</th>\n",
       "      <th>profits</th>\n",
       "      <th>assets</th>\n",
       "      <th>profit_change</th>\n",
       "      <th>ceo</th>\n",
       "      <th>industry</th>\n",
       "      <th>sector</th>\n",
       "      <th>previous_rank</th>\n",
       "      <th>country</th>\n",
       "      <th>hq_location</th>\n",
       "      <th>website</th>\n",
       "      <th>years_on_global_500_list</th>\n",
       "      <th>employees</th>\n",
       "      <th>total_stockholder_equity</th>\n",
       "    </tr>\n",
       "  </thead>\n",
       "  <tbody>\n",
       "    <tr>\n",
       "      <th>0</th>\n",
       "      <td>Walmart</td>\n",
       "      <td>1</td>\n",
       "      <td>485873</td>\n",
       "      <td>0.8</td>\n",
       "      <td>13643.0</td>\n",
       "      <td>198825</td>\n",
       "      <td>-7.2</td>\n",
       "      <td>C. Douglas McMillon</td>\n",
       "      <td>General Merchandisers</td>\n",
       "      <td>Retailing</td>\n",
       "      <td>1.0</td>\n",
       "      <td>USA</td>\n",
       "      <td>Bentonville, AR</td>\n",
       "      <td>http://www.walmart.com</td>\n",
       "      <td>23</td>\n",
       "      <td>2300000</td>\n",
       "      <td>77798</td>\n",
       "    </tr>\n",
       "    <tr>\n",
       "      <th>1</th>\n",
       "      <td>State Grid</td>\n",
       "      <td>2</td>\n",
       "      <td>315199</td>\n",
       "      <td>-4.4</td>\n",
       "      <td>9571.3</td>\n",
       "      <td>489838</td>\n",
       "      <td>-6.2</td>\n",
       "      <td>Kou Wei</td>\n",
       "      <td>Utilities</td>\n",
       "      <td>Energy</td>\n",
       "      <td>2.0</td>\n",
       "      <td>China</td>\n",
       "      <td>Beijing, China</td>\n",
       "      <td>http://www.sgcc.com.cn</td>\n",
       "      <td>17</td>\n",
       "      <td>926067</td>\n",
       "      <td>209456</td>\n",
       "    </tr>\n",
       "    <tr>\n",
       "      <th>2</th>\n",
       "      <td>Sinopec Group</td>\n",
       "      <td>3</td>\n",
       "      <td>267518</td>\n",
       "      <td>-9.1</td>\n",
       "      <td>1257.9</td>\n",
       "      <td>310726</td>\n",
       "      <td>-65.0</td>\n",
       "      <td>Wang Yupu</td>\n",
       "      <td>Petroleum Refining</td>\n",
       "      <td>Energy</td>\n",
       "      <td>4.0</td>\n",
       "      <td>China</td>\n",
       "      <td>Beijing, China</td>\n",
       "      <td>http://www.sinopec.com</td>\n",
       "      <td>19</td>\n",
       "      <td>713288</td>\n",
       "      <td>106523</td>\n",
       "    </tr>\n",
       "    <tr>\n",
       "      <th>3</th>\n",
       "      <td>China National Petroleum</td>\n",
       "      <td>4</td>\n",
       "      <td>262573</td>\n",
       "      <td>-12.3</td>\n",
       "      <td>1867.5</td>\n",
       "      <td>585619</td>\n",
       "      <td>-73.7</td>\n",
       "      <td>Zhang Jianhua</td>\n",
       "      <td>Petroleum Refining</td>\n",
       "      <td>Energy</td>\n",
       "      <td>3.0</td>\n",
       "      <td>China</td>\n",
       "      <td>Beijing, China</td>\n",
       "      <td>http://www.cnpc.com.cn</td>\n",
       "      <td>17</td>\n",
       "      <td>1512048</td>\n",
       "      <td>301893</td>\n",
       "    </tr>\n",
       "    <tr>\n",
       "      <th>4</th>\n",
       "      <td>Toyota Motor</td>\n",
       "      <td>5</td>\n",
       "      <td>254694</td>\n",
       "      <td>7.7</td>\n",
       "      <td>16899.3</td>\n",
       "      <td>437575</td>\n",
       "      <td>-12.3</td>\n",
       "      <td>Akio Toyoda</td>\n",
       "      <td>Motor Vehicles and Parts</td>\n",
       "      <td>Motor Vehicles &amp; Parts</td>\n",
       "      <td>8.0</td>\n",
       "      <td>Japan</td>\n",
       "      <td>Toyota, Japan</td>\n",
       "      <td>http://www.toyota-global.com</td>\n",
       "      <td>23</td>\n",
       "      <td>364445</td>\n",
       "      <td>157210</td>\n",
       "    </tr>\n",
       "    <tr>\n",
       "      <th>5</th>\n",
       "      <td>Volkswagen</td>\n",
       "      <td>6</td>\n",
       "      <td>240264</td>\n",
       "      <td>1.5</td>\n",
       "      <td>5937.3</td>\n",
       "      <td>432116</td>\n",
       "      <td>NaN</td>\n",
       "      <td>Matthias Muller</td>\n",
       "      <td>Motor Vehicles and Parts</td>\n",
       "      <td>Motor Vehicles &amp; Parts</td>\n",
       "      <td>7.0</td>\n",
       "      <td>Germany</td>\n",
       "      <td>Wolfsburg, Germany</td>\n",
       "      <td>http://www.volkswagen.com</td>\n",
       "      <td>23</td>\n",
       "      <td>626715</td>\n",
       "      <td>97753</td>\n",
       "    </tr>\n",
       "    <tr>\n",
       "      <th>6</th>\n",
       "      <td>Royal Dutch Shell</td>\n",
       "      <td>7</td>\n",
       "      <td>240033</td>\n",
       "      <td>-11.8</td>\n",
       "      <td>4575.0</td>\n",
       "      <td>411275</td>\n",
       "      <td>135.9</td>\n",
       "      <td>Ben van Beurden</td>\n",
       "      <td>Petroleum Refining</td>\n",
       "      <td>Energy</td>\n",
       "      <td>5.0</td>\n",
       "      <td>Netherlands</td>\n",
       "      <td>The Hague, Netherlands</td>\n",
       "      <td>http://www.shell.com</td>\n",
       "      <td>23</td>\n",
       "      <td>89000</td>\n",
       "      <td>186646</td>\n",
       "    </tr>\n",
       "    <tr>\n",
       "      <th>7</th>\n",
       "      <td>Berkshire Hathaway</td>\n",
       "      <td>8</td>\n",
       "      <td>223604</td>\n",
       "      <td>6.1</td>\n",
       "      <td>24074.0</td>\n",
       "      <td>620854</td>\n",
       "      <td>NaN</td>\n",
       "      <td>Warren E. Buffett</td>\n",
       "      <td>Insurance: Property and Casualty (Stock)</td>\n",
       "      <td>Financials</td>\n",
       "      <td>11.0</td>\n",
       "      <td>USA</td>\n",
       "      <td>Omaha, NE</td>\n",
       "      <td>http://www.berkshirehathaway.com</td>\n",
       "      <td>21</td>\n",
       "      <td>367700</td>\n",
       "      <td>283001</td>\n",
       "    </tr>\n",
       "    <tr>\n",
       "      <th>8</th>\n",
       "      <td>Apple</td>\n",
       "      <td>9</td>\n",
       "      <td>215639</td>\n",
       "      <td>-7.7</td>\n",
       "      <td>45687.0</td>\n",
       "      <td>321686</td>\n",
       "      <td>-14.4</td>\n",
       "      <td>Timothy D. Cook</td>\n",
       "      <td>Computers, Office Equipment</td>\n",
       "      <td>Technology</td>\n",
       "      <td>9.0</td>\n",
       "      <td>USA</td>\n",
       "      <td>Cupertino, CA</td>\n",
       "      <td>http://www.apple.com</td>\n",
       "      <td>15</td>\n",
       "      <td>116000</td>\n",
       "      <td>128249</td>\n",
       "    </tr>\n",
       "    <tr>\n",
       "      <th>9</th>\n",
       "      <td>Exxon Mobil</td>\n",
       "      <td>10</td>\n",
       "      <td>205004</td>\n",
       "      <td>-16.7</td>\n",
       "      <td>7840.0</td>\n",
       "      <td>330314</td>\n",
       "      <td>-51.5</td>\n",
       "      <td>Darren W. Woods</td>\n",
       "      <td>Petroleum Refining</td>\n",
       "      <td>Energy</td>\n",
       "      <td>6.0</td>\n",
       "      <td>USA</td>\n",
       "      <td>Irving, TX</td>\n",
       "      <td>http://www.exxonmobil.com</td>\n",
       "      <td>23</td>\n",
       "      <td>72700</td>\n",
       "      <td>167325</td>\n",
       "    </tr>\n",
       "  </tbody>\n",
       "</table>\n",
       "</div>"
      ],
      "text/plain": [
       "                    company  rank  revenues  revenue_change  profits  assets  \\\n",
       "0                   Walmart     1    485873             0.8  13643.0  198825   \n",
       "1                State Grid     2    315199            -4.4   9571.3  489838   \n",
       "2             Sinopec Group     3    267518            -9.1   1257.9  310726   \n",
       "3  China National Petroleum     4    262573           -12.3   1867.5  585619   \n",
       "4              Toyota Motor     5    254694             7.7  16899.3  437575   \n",
       "5                Volkswagen     6    240264             1.5   5937.3  432116   \n",
       "6         Royal Dutch Shell     7    240033           -11.8   4575.0  411275   \n",
       "7        Berkshire Hathaway     8    223604             6.1  24074.0  620854   \n",
       "8                     Apple     9    215639            -7.7  45687.0  321686   \n",
       "9               Exxon Mobil    10    205004           -16.7   7840.0  330314   \n",
       "\n",
       "   profit_change                  ceo  \\\n",
       "0           -7.2  C. Douglas McMillon   \n",
       "1           -6.2              Kou Wei   \n",
       "2          -65.0            Wang Yupu   \n",
       "3          -73.7        Zhang Jianhua   \n",
       "4          -12.3          Akio Toyoda   \n",
       "5            NaN      Matthias Muller   \n",
       "6          135.9      Ben van Beurden   \n",
       "7            NaN    Warren E. Buffett   \n",
       "8          -14.4      Timothy D. Cook   \n",
       "9          -51.5      Darren W. Woods   \n",
       "\n",
       "                                   industry                  sector  \\\n",
       "0                     General Merchandisers               Retailing   \n",
       "1                                 Utilities                  Energy   \n",
       "2                        Petroleum Refining                  Energy   \n",
       "3                        Petroleum Refining                  Energy   \n",
       "4                  Motor Vehicles and Parts  Motor Vehicles & Parts   \n",
       "5                  Motor Vehicles and Parts  Motor Vehicles & Parts   \n",
       "6                        Petroleum Refining                  Energy   \n",
       "7  Insurance: Property and Casualty (Stock)              Financials   \n",
       "8               Computers, Office Equipment              Technology   \n",
       "9                        Petroleum Refining                  Energy   \n",
       "\n",
       "   previous_rank      country             hq_location  \\\n",
       "0            1.0          USA         Bentonville, AR   \n",
       "1            2.0        China          Beijing, China   \n",
       "2            4.0        China          Beijing, China   \n",
       "3            3.0        China          Beijing, China   \n",
       "4            8.0        Japan           Toyota, Japan   \n",
       "5            7.0      Germany      Wolfsburg, Germany   \n",
       "6            5.0  Netherlands  The Hague, Netherlands   \n",
       "7           11.0          USA               Omaha, NE   \n",
       "8            9.0          USA           Cupertino, CA   \n",
       "9            6.0          USA              Irving, TX   \n",
       "\n",
       "                            website  years_on_global_500_list  employees  \\\n",
       "0            http://www.walmart.com                        23    2300000   \n",
       "1            http://www.sgcc.com.cn                        17     926067   \n",
       "2            http://www.sinopec.com                        19     713288   \n",
       "3            http://www.cnpc.com.cn                        17    1512048   \n",
       "4      http://www.toyota-global.com                        23     364445   \n",
       "5         http://www.volkswagen.com                        23     626715   \n",
       "6              http://www.shell.com                        23      89000   \n",
       "7  http://www.berkshirehathaway.com                        21     367700   \n",
       "8              http://www.apple.com                        15     116000   \n",
       "9         http://www.exxonmobil.com                        23      72700   \n",
       "\n",
       "   total_stockholder_equity  \n",
       "0                     77798  \n",
       "1                    209456  \n",
       "2                    106523  \n",
       "3                    301893  \n",
       "4                    157210  \n",
       "5                     97753  \n",
       "6                    186646  \n",
       "7                    283001  \n",
       "8                    128249  \n",
       "9                    167325  "
      ]
     },
     "execution_count": 71,
     "metadata": {},
     "output_type": "execute_result"
    }
   ],
   "source": [
    "f500.head(10)"
   ]
  },
  {
   "cell_type": "markdown",
   "metadata": {},
   "source": [
    "instructions\n",
    "\n",
    "    Create a series, cities_usa, containing counts of the five most common Headquarter Location cities for companies headquartered in the USA.\n",
    "    Create a series, sector_china, containing counts of the five most common sectors for companies headquartered in the China.\n",
    "    Create float object, mean_employees_japan, containing the mean average number of employees for companies headquartered in Japan\n"
   ]
  },
  {
   "cell_type": "code",
   "execution_count": 57,
   "metadata": {},
   "outputs": [],
   "source": [
    "top_3_countries = f500[\"country\"].value_counts().head(3)\n",
    "\n",
    "cities_usa_filter = f500[\"country\"] == \"USA\"\n",
    "china_filter = f500[\"country\"] == \"China\"\n",
    "Japan_filter = f500[\"country\"] == \"Japan\"\n",
    "\n",
    "cities_usa = f500.loc[ cities_usa_filter,\"hq_location\"].value_counts( ).head(5)\n",
    "sector_china = f500.loc[ china_filter,\"sector\"].value_counts().head(5)\n",
    "mean_employees_japan = f500.loc[ Japan_filter,\"employees\"].mean()\n",
    "sector_china = f500.sector[f500[\"country\"] == \"China\"].value_counts().head()"
   ]
  },
  {
   "cell_type": "markdown",
   "metadata": {},
   "source": [
    "### Exploring Data with pandas"
   ]
  },
  {
   "cell_type": "markdown",
   "metadata": {},
   "source": [
    "\n",
    "    With loc[], the ending slice is included.\n",
    "    With iloc[], the ending slice is not included.\n"
   ]
  },
  {
   "cell_type": "markdown",
   "metadata": {},
   "source": [
    "\n",
    "    With loc[], the ending slice is included.\n",
    "    With iloc[], the ending slice is not included.\n",
    "\n",
    "    The table below summarizes how we can use DataFrame.iloc[] and Series.iloc[] to select by integer position:\n",
    "    Select by integer position         Explicit Syntax \tShorthand Convention\n",
    "    Single column from dataframe \t   df.iloc[:,3] \t\n",
    "    List of columns from dataframe \t   iloc[:,3,5,6]] \t\n",
    "    Slice of columns from dataframe    df.iloc[:,3:7]] \t\n",
    "    Single row from dataframe \t       df.iloc[20] \t\n",
    "    List of rows from dataframe \t   df.iloc[[0,3,8]] \t\n",
    "    Slice of rows from dataframe \t   df.iloc[3:5] \t        df[3:5]\n",
    "    Single items from series \t       s.iloc[8] \t            s[8]\n",
    "    List of item from series \t       s.iloc[[2,8,1\"]] \t    s[[2,8,1]]\n",
    "    Slice of items from series \t       s.iloc[5:10] \t            s[5:10]"
   ]
  },
  {
   "cell_type": "markdown",
   "metadata": {},
   "source": [
    "Select just the fifth row of the f500 dataframe, assigning the result to fifth_row.\n",
    "\n",
    "Select the first three columns of the f500 dataframe, assigning the result to first_three_rows.\n",
    "\n",
    "Select the first and seventh rows and the first 5 columns of the f500 dataframe, assigning the result to \n",
    "first_seventh_row_slice\n",
    "\n",
    "\n",
    "After you have run your code, use the variable inspector to examine each of the objects you created"
   ]
  },
  {
   "cell_type": "code",
   "execution_count": 58,
   "metadata": {},
   "outputs": [],
   "source": [
    "fifth_row = f500.iloc[4]\n",
    "\n",
    "first_three_rows = f500.iloc[0:3,]\n",
    "\n",
    "first_seventh_row_slice = f500.iloc[[1,7],:5]"
   ]
  },
  {
   "cell_type": "code",
   "execution_count": 59,
   "metadata": {},
   "outputs": [],
   "source": [
    "f500 = pd.read_csv('/home/kamlesh/AnacondaProjects/Dataquest/Data/f500.csv')\n",
    "\n",
    "f500.loc[f500[\"previous_rank\"] == 0, \"previous_rank\"] = np.nan\n"
   ]
  },
  {
   "cell_type": "markdown",
   "metadata": {},
   "source": [
    "In the script.py code box for this screen, we have used the DataFrame.sort_values() method to sort the rows in the f500 dataframe by the employees column from most to least employees, and have assigned the resulting dataframe to sorted_emp.\n",
    "\n",
    "    Assign the first five rows of the sorted_emp dataframe to the variable top5, by choosing the correct method out of either loc[] or iloc[].\n"
   ]
  },
  {
   "cell_type": "code",
   "execution_count": 60,
   "metadata": {},
   "outputs": [],
   "source": [
    "sorted_emp = f500.sort_values(\"employees\", ascending=False)\n",
    "\n",
    "top5_emp = sorted_emp.iloc[0:5]"
   ]
  },
  {
   "cell_type": "markdown",
   "metadata": {},
   "source": [
    "\n",
    "    Use the Series.notnull() method to select all rows from f500 that have a non-null value for the previous_rank column, and assign the result to previously_ranked\n",
    "    From the previously_ranked dataframe, subtract the previous_rank column from the rank column, and assign the result to rank_change.\n"
   ]
  },
  {
   "cell_type": "markdown",
   "metadata": {},
   "source": [
    "\n",
    "    Use the Series.notnull() method to select all rows from f500 that have a non-null value for the previous_rank column, and assign the result to previously_ranked\n",
    "    From the previously_ranked dataframe, subtract the previous_rank column from the rank column, and assign the result to rank_change.\n"
   ]
  },
  {
   "cell_type": "code",
   "execution_count": 70,
   "metadata": {},
   "outputs": [],
   "source": [
    "previous_rank_bool =f500[\"previous_rank\"].notnull()\n",
    "\n",
    "# reward thea you getattr\n",
    "previously_ranked = f500[previous_rank_bool]\n",
    "# below line do that in one go\n",
    "#previously_ranked = f500[f500[\"previous_rank\"].notnull()]\n",
    "\n",
    "rank_change = previously_ranked[\"previous_rank\"] - previously_ranked[\"rank\"]"
   ]
  },
  {
   "cell_type": "markdown",
   "metadata": {},
   "source": [
    "### Multiple boolean conditions\n"
   ]
  },
  {
   "cell_type": "code",
   "execution_count": 73,
   "metadata": {},
   "outputs": [],
   "source": [
    "cols = [\"company\", \"revenues\", \"country\"]\n",
    "final_cols = [\"company\", \"revenues\"]\n",
    "\n",
    "f500_sel = f500[cols].head()\n",
    "over_265 = f500_sel[\"revenues\"] > 265000\n",
    "china = f500_sel[\"country\"] == \"China\"\n",
    "combined = over_265 & china\n",
    "result = f500_sel.loc[combined,final_cols]\n",
    "#below is online solution\n",
    "result = f500_sel.loc[(f500_sel[\"revenues\"] > 265000) & (f500_sel[\"country\"] == \"China\"), final_cols]"
   ]
  },
  {
   "cell_type": "markdown",
   "metadata": {},
   "source": [
    "Select from the f500 dataframe:\n",
    "\n",
    "    Companies with revenues over 100 billion and negative profits, assigning the result to big_rev_neg_profit.\n",
    "    Companies in the Technology sector that are not headquartered in the USA, assigning the result to tech_outside_usa.\n"
   ]
  },
  {
   "cell_type": "code",
   "execution_count": 74,
   "metadata": {},
   "outputs": [],
   "source": [
    "big_rev_neg_profit =  f500.loc[ (f500[\"revenues\"] > 100) & (f500[\"profits\"] < 0 ) ].head(2)\n",
    "\n",
    "\n",
    "tech_outside_usa = f500.loc[( f500[\"sector\"] ==\"Technology\" ) & (f500[\"country\"] != \"USA\" ) ].head(5)"
   ]
  },
  {
   "cell_type": "markdown",
   "metadata": {},
   "source": [
    "###  Looping pandas data frame \n"
   ]
  },
  {
   "cell_type": "code",
   "execution_count": 77,
   "metadata": {},
   "outputs": [],
   "source": [
    "# Create an empty dictionary to store the results\n",
    "avg_rev_by_country = {}\n",
    "\n",
    "# Create an array of unique countries\n",
    "countries = f500[\"country\"].unique()\n",
    "\n",
    "# creating dictionay\n",
    "country = {}\n",
    "# Use a for loop to iterate over the countries\n",
    "for c in countries:\n",
    "    # Use boolean comparison to select only rows that\n",
    "    # correspond to a specific country\n",
    "    selected_rows = f500[f500[\"country\"] == c]\n",
    "    # Calculate the mean average revenue for just those rows\n",
    "    mean = selected_rows[\"revenues\"].mean()\n",
    "    # Assign the mean value to the dictionary, using the\n",
    "    # country name as the key\n",
    "    country[c] = mean"
   ]
  },
  {
   "cell_type": "code",
   "execution_count": 78,
   "metadata": {},
   "outputs": [
    {
     "data": {
      "text/plain": [
       "{'Australia': 33688.71428571428,\n",
       " 'Belgium': 45905.0,\n",
       " 'Brazil': 52024.57142857143,\n",
       " 'Britain': 51588.708333333336,\n",
       " 'Canada': 31848.0,\n",
       " 'China': 55397.880733944956,\n",
       " 'Denmark': 35464.0,\n",
       " 'Finland': 26113.0,\n",
       " 'France': 55231.793103448275,\n",
       " 'Germany': 63915.0,\n",
       " 'India': 39993.0,\n",
       " 'Indonesia': 36487.0,\n",
       " 'Ireland': 32819.5,\n",
       " 'Israel': 21903.0,\n",
       " 'Italy': 51899.57142857143,\n",
       " 'Japan': 53164.03921568627,\n",
       " 'Luxembourg': 56791.0,\n",
       " 'Malaysia': 49479.0,\n",
       " 'Mexico': 54987.5,\n",
       " 'Netherlands': 61708.92857142857,\n",
       " 'Norway': 45873.0,\n",
       " 'Russia': 65247.75,\n",
       " 'Saudi Arabia': 35421.0,\n",
       " 'Singapore': 54454.333333333336,\n",
       " 'South Korea': 49725.6,\n",
       " 'Spain': 40600.666666666664,\n",
       " 'Sweden': 27963.666666666668,\n",
       " 'Switzerland': 51353.57142857143,\n",
       " 'Taiwan': 46364.666666666664,\n",
       " 'Thailand': 48719.0,\n",
       " 'Turkey': 23456.0,\n",
       " 'U.A.E': 22799.0,\n",
       " 'USA': 64218.371212121216,\n",
       " 'Venezuela': 24403.0}"
      ]
     },
     "execution_count": 78,
     "metadata": {},
     "output_type": "execute_result"
    }
   ],
   "source": [
    "country"
   ]
  },
  {
   "cell_type": "markdown",
   "metadata": {},
   "source": [
    "\n",
    "    Read the documentation for the DataFrame.sort_values() method to familiarize yourself with the syntax. You will need to use only the by and ascending parameters to complete this exercise.\n",
    "    Create an empty dictionary, top_employer_by_country to store the results of the exercise.\n",
    "    Use the Series.unique() method to create an array of unique values from the country column.\n",
    "    Use a for loop to iterate over the array unique countries, and in each iteration:\n",
    "        Select only the rows that have a country name equal to the current iteration.\n",
    "        Use DataFrame.sort_values() to sort those rows by the employees column in descending order.\n",
    "        Select the first row from the sorted dataframe.\n",
    "        Extract the company name from the index label company from the first row.\n",
    "        Assign the results to the top_employer_by_country dictionary, using the country name as the key, and the company name as the value.\n",
    "    When you have run your code, use the variable inspector to view the top employer for each country.\n"
   ]
  },
  {
   "cell_type": "code",
   "execution_count": 103,
   "metadata": {},
   "outputs": [],
   "source": [
    "top_employer_by_country = {}\n",
    "countries = f500[\"country\"].unique()\n",
    "\n",
    "\n",
    "for c in countries:\n",
    "    \n",
    "    # selected_rows\n",
    "    selected_rows_df = f500[f500[\"country\"] == c]\n",
    "    country = selected_rows_df.sort_values( by = \"employees\",axis = 0,ascending = False).head(1)\n",
    "    #print(country)\n",
    "    top_name = country[\"company\"]\n",
    "    top_employer_by_country[c] = top_name    \n",
    "    \n"
   ]
  },
  {
   "cell_type": "code",
   "execution_count": 104,
   "metadata": {},
   "outputs": [
    {
     "data": {
      "text/plain": [
       "{'Australia': 197    Wesfarmers\n",
       " Name: company, dtype: object, 'Belgium': 205    Anheuser-Busch InBev\n",
       " Name: company, dtype: object, 'Brazil': 190    JBS\n",
       " Name: company, dtype: object, 'Britain': 386    Compass Group\n",
       " Name: company, dtype: object, 'Canada': 292    George Weston\n",
       " Name: company, dtype: object, 'China': 3    China National Petroleum\n",
       " Name: company, dtype: object, 'Denmark': 297    Maersk Group\n",
       " Name: company, dtype: object, 'Finland': 414    Nokia\n",
       " Name: company, dtype: object, 'France': 483    Sodexo\n",
       " Name: company, dtype: object, 'Germany': 5    Volkswagen\n",
       " Name: company, dtype: object, 'India': 216    State Bank of India\n",
       " Name: company, dtype: object, 'Indonesia': 288    Pertamina\n",
       " Name: company, dtype: object, 'Ireland': 304    Accenture\n",
       " Name: company, dtype: object, 'Israel': 495    Teva Pharmaceutical Industries\n",
       " Name: company, dtype: object, 'Italy': 284    Poste Italiane\n",
       " Name: company, dtype: object, 'Japan': 4    Toyota Motor\n",
       " Name: company, dtype: object, 'Luxembourg': 155    ArcelorMittal\n",
       " Name: company, dtype: object, 'Malaysia': 183    Petronas\n",
       " Name: company, dtype: object, 'Mexico': 175    America Movil\n",
       " Name: company, dtype: object, 'Netherlands': 19    EXOR Group\n",
       " Name: company, dtype: object, 'Norway': 206    Statoil\n",
       " Name: company, dtype: object, 'Russia': 62    Gazprom\n",
       " Name: company, dtype: object, 'Saudi Arabia': 298    SABIC\n",
       " Name: company, dtype: object, 'Singapore': 454    Flex\n",
       " Name: company, dtype: object, 'South Korea': 14    Samsung Electronics\n",
       " Name: company, dtype: object, 'Spain': 72    Banco Santander\n",
       " Name: company, dtype: object, 'Sweden': 481    H & M Hennes & Mauritz\n",
       " Name: company, dtype: object, 'Switzerland': 63    Nestle\n",
       " Name: company, dtype: object, 'Taiwan': 26    Hon Hai Precision Industry\n",
       " Name: company, dtype: object, 'Thailand': 191    PTT\n",
       " Name: company, dtype: object, 'Turkey': 462    Koc Holding\n",
       " Name: company, dtype: object, 'U.A.E': 479    Emirates Group\n",
       " Name: company, dtype: object, 'USA': 0    Walmart\n",
       " Name: company, dtype: object, 'Venezuela': 441    Mercantil Servicios Financieros\n",
       " Name: company, dtype: object}"
      ]
     },
     "execution_count": 104,
     "metadata": {},
     "output_type": "execute_result"
    }
   ],
   "source": [
    "top_employer_by_country"
   ]
  },
  {
   "cell_type": "code",
   "execution_count": 105,
   "metadata": {},
   "outputs": [],
   "source": [
    "top_employer_by_country = {}\n",
    "countries = f500[\"country\"].unique()\n",
    "for c in countries:\n",
    "    selected_rows = f500[f500[\"country\"] == c]\n",
    "    sorted_rows = selected_rows.sort_values(\"employees\", ascending=False)\n",
    "    top_employer = sorted_rows.iloc[0]\n",
    "    employer_name = top_employer[\"company\"]\n",
    "    top_employer_by_country[c] = employer_name\n",
    "\n"
   ]
  },
  {
   "cell_type": "code",
   "execution_count": 106,
   "metadata": {},
   "outputs": [
    {
     "data": {
      "text/plain": [
       "{'Australia': 'Wesfarmers',\n",
       " 'Belgium': 'Anheuser-Busch InBev',\n",
       " 'Brazil': 'JBS',\n",
       " 'Britain': 'Compass Group',\n",
       " 'Canada': 'George Weston',\n",
       " 'China': 'China National Petroleum',\n",
       " 'Denmark': 'Maersk Group',\n",
       " 'Finland': 'Nokia',\n",
       " 'France': 'Sodexo',\n",
       " 'Germany': 'Volkswagen',\n",
       " 'India': 'State Bank of India',\n",
       " 'Indonesia': 'Pertamina',\n",
       " 'Ireland': 'Accenture',\n",
       " 'Israel': 'Teva Pharmaceutical Industries',\n",
       " 'Italy': 'Poste Italiane',\n",
       " 'Japan': 'Toyota Motor',\n",
       " 'Luxembourg': 'ArcelorMittal',\n",
       " 'Malaysia': 'Petronas',\n",
       " 'Mexico': 'America Movil',\n",
       " 'Netherlands': 'EXOR Group',\n",
       " 'Norway': 'Statoil',\n",
       " 'Russia': 'Gazprom',\n",
       " 'Saudi Arabia': 'SABIC',\n",
       " 'Singapore': 'Flex',\n",
       " 'South Korea': 'Samsung Electronics',\n",
       " 'Spain': 'Banco Santander',\n",
       " 'Sweden': 'H & M Hennes & Mauritz',\n",
       " 'Switzerland': 'Nestle',\n",
       " 'Taiwan': 'Hon Hai Precision Industry',\n",
       " 'Thailand': 'PTT',\n",
       " 'Turkey': 'Koc Holding',\n",
       " 'U.A.E': 'Emirates Group',\n",
       " 'USA': 'Walmart',\n",
       " 'Venezuela': 'Mercantil Servicios Financieros'}"
      ]
     },
     "execution_count": 106,
     "metadata": {},
     "output_type": "execute_result"
    }
   ],
   "source": [
    "top_employer_by_country"
   ]
  },
  {
   "cell_type": "markdown",
   "metadata": {},
   "source": [
    "Task\n",
    "\n",
    "    Create a new column roa in the f500 dataframe, containing the return on assets metric for each company.\n",
    "    Aggregate the data by the sector column, and create a dictionary top_roa_by_sector, with:\n",
    "        Dictionary keys with the sector name.\n",
    "        Dictionary values with the company name with the highest ROA value from that sector.\n"
   ]
  },
  {
   "cell_type": "code",
   "execution_count": 132,
   "metadata": {},
   "outputs": [],
   "source": [
    "f500[\"roa\"] = f500[\"profits\"]/ f500[\"assets\"]\n",
    "sectors = f500[\"sector\"].unique()\n",
    "top_roa_by_sector = {}\n",
    "\n",
    "for sector in sectors:\n",
    "    sector_companies = f500[f500[\"sector\"] == sector]\n",
    "    #sector_companies\n",
    "    #sort_values = sector_companies.sort_values(\"roa\",ascending = False).head(1)\n",
    "    sort_values = sector_companies.sort_values(\"roa\",ascending = False)\n",
    "    top_roa = sort_values.iloc[0]\n",
    "    #top_roa = sort_values[\"company\"]\n",
    "    top_roa_name = top_roa[\"company\"]\n",
    "    top_roa_by_sector[ sector]= top_roa_name\n",
    "  "
   ]
  },
  {
   "cell_type": "code",
   "execution_count": 133,
   "metadata": {},
   "outputs": [
    {
     "data": {
      "text/plain": [
       "{'Aerospace & Defense': 'Lockheed Martin',\n",
       " 'Apparel': 'Nike',\n",
       " 'Business Services': 'Adecco Group',\n",
       " 'Chemicals': 'LyondellBasell Industries',\n",
       " 'Energy': 'National Grid',\n",
       " 'Engineering & Construction': 'Pacific Construction Group',\n",
       " 'Financials': 'Berkshire Hathaway',\n",
       " 'Food & Drug Stores': 'Publix Super Markets',\n",
       " 'Food, Beverages & Tobacco': 'Philip Morris International',\n",
       " 'Health Care': 'Gilead Sciences',\n",
       " 'Hotels, Restaurants & Leisure': 'McDonald’s',\n",
       " 'Household Products': 'Unilever',\n",
       " 'Industrials': '3M',\n",
       " 'Materials': 'CRH',\n",
       " 'Media': 'Disney',\n",
       " 'Motor Vehicles & Parts': 'Subaru',\n",
       " 'Retailing': 'H & M Hennes & Mauritz',\n",
       " 'Technology': 'Accenture',\n",
       " 'Telecommunications': 'KDDI',\n",
       " 'Transportation': 'Delta Air Lines',\n",
       " 'Wholesalers': 'McKesson'}"
      ]
     },
     "execution_count": 133,
     "metadata": {},
     "output_type": "execute_result"
    }
   ],
   "source": [
    "top_roa_by_sector"
   ]
  },
  {
   "cell_type": "code",
   "execution_count": null,
   "metadata": {},
   "outputs": [],
   "source": []
  }
 ],
 "metadata": {
  "kernelspec": {
   "display_name": "Python 3",
   "language": "python",
   "name": "python3"
  },
  "language_info": {
   "codemirror_mode": {
    "name": "ipython",
    "version": 3
   },
   "file_extension": ".py",
   "mimetype": "text/x-python",
   "name": "python",
   "nbconvert_exporter": "python",
   "pygments_lexer": "ipython3",
   "version": "3.5.4"
  }
 },
 "nbformat": 4,
 "nbformat_minor": 2
}
