{
 "cells": [
  {
   "cell_type": "markdown",
   "metadata": {},
   "source": [
    "### Statistics Intermediate: Averages and Variability"
   ]
  },
  {
   "cell_type": "markdown",
   "metadata": {},
   "source": [
    "http://www.socialresearchmethods.net/kb/measlevl.htm"
   ]
  },
  {
   "cell_type": "code",
   "execution_count": 1,
   "metadata": {},
   "outputs": [],
   "source": [
    "from numpy.random import randint, seed"
   ]
  },
  {
   "cell_type": "code",
   "execution_count": 2,
   "metadata": {},
   "outputs": [
    {
     "name": "stdout",
     "output_type": "stream",
     "text": [
      "Help on built-in function randint:\n",
      "\n",
      "randint(...) method of mtrand.RandomState instance\n",
      "    randint(low, high=None, size=None, dtype='l')\n",
      "    \n",
      "    Return random integers from `low` (inclusive) to `high` (exclusive).\n",
      "    \n",
      "    Return random integers from the \"discrete uniform\" distribution of\n",
      "    the specified dtype in the \"half-open\" interval [`low`, `high`). If\n",
      "    `high` is None (the default), then results are from [0, `low`).\n",
      "    \n",
      "    Parameters\n",
      "    ----------\n",
      "    low : int\n",
      "        Lowest (signed) integer to be drawn from the distribution (unless\n",
      "        ``high=None``, in which case this parameter is one above the\n",
      "        *highest* such integer).\n",
      "    high : int, optional\n",
      "        If provided, one above the largest (signed) integer to be drawn\n",
      "        from the distribution (see above for behavior if ``high=None``).\n",
      "    size : int or tuple of ints, optional\n",
      "        Output shape.  If the given shape is, e.g., ``(m, n, k)``, then\n",
      "        ``m * n * k`` samples are drawn.  Default is None, in which case a\n",
      "        single value is returned.\n",
      "    dtype : dtype, optional\n",
      "        Desired dtype of the result. All dtypes are determined by their\n",
      "        name, i.e., 'int64', 'int', etc, so byteorder is not available\n",
      "        and a specific precision may have different C types depending\n",
      "        on the platform. The default value is 'np.int'.\n",
      "    \n",
      "        .. versionadded:: 1.11.0\n",
      "    \n",
      "    Returns\n",
      "    -------\n",
      "    out : int or ndarray of ints\n",
      "        `size`-shaped array of random integers from the appropriate\n",
      "        distribution, or a single such random int if `size` not provided.\n",
      "    \n",
      "    See Also\n",
      "    --------\n",
      "    random.random_integers : similar to `randint`, only for the closed\n",
      "        interval [`low`, `high`], and 1 is the lowest value if `high` is\n",
      "        omitted. In particular, this other one is the one to use to generate\n",
      "        uniformly distributed discrete non-integers.\n",
      "    \n",
      "    Examples\n",
      "    --------\n",
      "    >>> np.random.randint(2, size=10)\n",
      "    array([1, 0, 0, 0, 1, 1, 0, 0, 1, 0])\n",
      "    >>> np.random.randint(1, size=10)\n",
      "    array([0, 0, 0, 0, 0, 0, 0, 0, 0, 0])\n",
      "    \n",
      "    Generate a 2 x 4 array of ints between 0 and 4, inclusive:\n",
      "    \n",
      "    >>> np.random.randint(5, size=(2, 4))\n",
      "    array([[4, 0, 2, 1],\n",
      "           [3, 2, 2, 0]])\n",
      "\n"
     ]
    }
   ],
   "source": [
    "help(randint)"
   ]
  },
  {
   "cell_type": "code",
   "execution_count": 2,
   "metadata": {},
   "outputs": [
    {
     "name": "stdout",
     "output_type": "stream",
     "text": [
      "0\n"
     ]
    }
   ],
   "source": [
    "from numpy.random import randint, seed\n",
    "\n",
    "import numpy as np\n",
    "equal_distance =0\n",
    "for i in range(0,5000):\n",
    "    seed=i\n",
    "    numbers = randint(0,1000,10)\n",
    "    mean = numbers.mean()\n",
    "    #above = lambda:x\n",
    "    #mult3 = [x for x in [1, 2, 3, 4, 5, 6, 7, 8, 9] if x % 3 == 0]\n",
    "    above = len([x for x in numbers if x >mean])\n",
    "    below = len([x for x in numbers if x < mean])\n",
    "    if above == below:\n",
    "        equal_distance += equal_distance\n",
    "print(equal_distance)         # why not giving correct anser"
   ]
  },
  {
   "cell_type": "code",
   "execution_count": 3,
   "metadata": {},
   "outputs": [
    {
     "name": "stdout",
     "output_type": "stream",
     "text": [
      "5000\n"
     ]
    }
   ],
   "source": [
    "from numpy.random import randint, seed\n",
    "equal_distances = 0\n",
    "\n",
    "for i in range(5000):\n",
    "    seed(i)\n",
    "    distribution = randint(0,1000,10)\n",
    "    mean = sum(distribution) / len(distribution)\n",
    "    \n",
    "    above = []\n",
    "    below = []\n",
    "    for value in distribution:\n",
    "        if value == mean:\n",
    "            continue # continue with the next iteration because the distance is 0\n",
    "        if value < mean:\n",
    "            below.append(mean - value)\n",
    "        if value > mean:\n",
    "            above.append(value - mean)\n",
    "    \n",
    "    sum_above = round(sum(above),1)\n",
    "    sum_below = round(sum(below),1)\n",
    "    if (sum_above == sum_below):\n",
    "        equal_distances += 1\n",
    "print(equal_distances)        "
   ]
  },
  {
   "cell_type": "code",
   "execution_count": 41,
   "metadata": {},
   "outputs": [],
   "source": [
    "from numpy.random import randint, seed\n",
    "equal_distances = 0\n",
    "\n",
    "for i in range(5000):\n",
    "    seed(i)\n",
    "    distribution = randint(0,1000,10)\n",
    "    mean = sum(distribution) / len(distribution)\n",
    "    \n",
    "    above = []\n",
    "    below = []\n",
    "    for value in distribution:\n",
    "        if value == mean:\n",
    "            continue # continue with the next iteration because the distance is 0\n",
    "        if value < mean:\n",
    "            below.append(mean - value)\n",
    "        if value > mean:\n",
    "            above.append(value - mean)\n",
    "    \n",
    "    sum_above = round(sum(above),1)\n",
    "    sum_below = round(sum(below),1)\n",
    "    if (sum_above == sum_below):\n",
    "        equal_distances += 1"
   ]
  },
  {
   "cell_type": "code",
   "execution_count": 42,
   "metadata": {},
   "outputs": [
    {
     "data": {
      "text/plain": [
       "5000"
      ]
     },
     "execution_count": 42,
     "metadata": {},
     "output_type": "execute_result"
    }
   ],
   "source": [
    "equal_distances"
   ]
  },
  {
   "cell_type": "code",
   "execution_count": 48,
   "metadata": {},
   "outputs": [],
   "source": [
    "import pandas as pd\n"
   ]
  },
  {
   "cell_type": "markdown",
   "metadata": {},
   "source": [
    "When a statistic is on average equal to the parameter it estimates, we call that statistic an unbiased estimator. In our case, the sample mean is an unbiased estimator for the population mean ."
   ]
  },
  {
   "cell_type": "code",
   "execution_count": 4,
   "metadata": {},
   "outputs": [],
   "source": [
    "distribution1 = [23, 24, 22, '20 years or lower,', 23, 42, 35]\n",
    "distribution2 = [55, 38, 123, 40, 71]\n",
    "distribution3 = [45, 22, 7, '5 books or lower', 32, 65, '100 books or more']"
   ]
  },
  {
   "cell_type": "code",
   "execution_count": 5,
   "metadata": {},
   "outputs": [],
   "source": [
    "distribution2.sort()"
   ]
  },
  {
   "cell_type": "code",
   "execution_count": 6,
   "metadata": {},
   "outputs": [
    {
     "data": {
      "text/plain": [
       "[38, 40, 55, 71, 123]"
      ]
     },
     "execution_count": 6,
     "metadata": {},
     "output_type": "execute_result"
    }
   ],
   "source": [
    "distribution2"
   ]
  },
  {
   "cell_type": "markdown",
   "metadata": {},
   "source": [
    "https://ww2.amstat.org/publications/jse/v13n2/vonhippel.html"
   ]
  },
  {
   "cell_type": "code",
   "execution_count": 7,
   "metadata": {},
   "outputs": [],
   "source": [
    "import pandas as pd\n",
    "houses = pd.read_table('/home/kamlesh/AnacondaProjects/Dataquest/Data/AmesHousing.txt')"
   ]
  },
  {
   "cell_type": "code",
   "execution_count": 8,
   "metadata": {},
   "outputs": [
    {
     "data": {
      "text/html": [
       "<div>\n",
       "<style scoped>\n",
       "    .dataframe tbody tr th:only-of-type {\n",
       "        vertical-align: middle;\n",
       "    }\n",
       "\n",
       "    .dataframe tbody tr th {\n",
       "        vertical-align: top;\n",
       "    }\n",
       "\n",
       "    .dataframe thead th {\n",
       "        text-align: right;\n",
       "    }\n",
       "</style>\n",
       "<table border=\"1\" class=\"dataframe\">\n",
       "  <thead>\n",
       "    <tr style=\"text-align: right;\">\n",
       "      <th></th>\n",
       "      <th>Order</th>\n",
       "      <th>PID</th>\n",
       "      <th>MS SubClass</th>\n",
       "      <th>MS Zoning</th>\n",
       "      <th>Lot Frontage</th>\n",
       "      <th>Lot Area</th>\n",
       "      <th>Street</th>\n",
       "      <th>Alley</th>\n",
       "      <th>Lot Shape</th>\n",
       "      <th>Land Contour</th>\n",
       "      <th>...</th>\n",
       "      <th>Pool Area</th>\n",
       "      <th>Pool QC</th>\n",
       "      <th>Fence</th>\n",
       "      <th>Misc Feature</th>\n",
       "      <th>Misc Val</th>\n",
       "      <th>Mo Sold</th>\n",
       "      <th>Yr Sold</th>\n",
       "      <th>Sale Type</th>\n",
       "      <th>Sale Condition</th>\n",
       "      <th>SalePrice</th>\n",
       "    </tr>\n",
       "  </thead>\n",
       "  <tbody>\n",
       "    <tr>\n",
       "      <th>0</th>\n",
       "      <td>1</td>\n",
       "      <td>526301100</td>\n",
       "      <td>20</td>\n",
       "      <td>RL</td>\n",
       "      <td>141.0</td>\n",
       "      <td>31770</td>\n",
       "      <td>Pave</td>\n",
       "      <td>NaN</td>\n",
       "      <td>IR1</td>\n",
       "      <td>Lvl</td>\n",
       "      <td>...</td>\n",
       "      <td>0</td>\n",
       "      <td>NaN</td>\n",
       "      <td>NaN</td>\n",
       "      <td>NaN</td>\n",
       "      <td>0</td>\n",
       "      <td>5</td>\n",
       "      <td>2010</td>\n",
       "      <td>WD</td>\n",
       "      <td>Normal</td>\n",
       "      <td>215000</td>\n",
       "    </tr>\n",
       "    <tr>\n",
       "      <th>1</th>\n",
       "      <td>2</td>\n",
       "      <td>526350040</td>\n",
       "      <td>20</td>\n",
       "      <td>RH</td>\n",
       "      <td>80.0</td>\n",
       "      <td>11622</td>\n",
       "      <td>Pave</td>\n",
       "      <td>NaN</td>\n",
       "      <td>Reg</td>\n",
       "      <td>Lvl</td>\n",
       "      <td>...</td>\n",
       "      <td>0</td>\n",
       "      <td>NaN</td>\n",
       "      <td>MnPrv</td>\n",
       "      <td>NaN</td>\n",
       "      <td>0</td>\n",
       "      <td>6</td>\n",
       "      <td>2010</td>\n",
       "      <td>WD</td>\n",
       "      <td>Normal</td>\n",
       "      <td>105000</td>\n",
       "    </tr>\n",
       "    <tr>\n",
       "      <th>2</th>\n",
       "      <td>3</td>\n",
       "      <td>526351010</td>\n",
       "      <td>20</td>\n",
       "      <td>RL</td>\n",
       "      <td>81.0</td>\n",
       "      <td>14267</td>\n",
       "      <td>Pave</td>\n",
       "      <td>NaN</td>\n",
       "      <td>IR1</td>\n",
       "      <td>Lvl</td>\n",
       "      <td>...</td>\n",
       "      <td>0</td>\n",
       "      <td>NaN</td>\n",
       "      <td>NaN</td>\n",
       "      <td>Gar2</td>\n",
       "      <td>12500</td>\n",
       "      <td>6</td>\n",
       "      <td>2010</td>\n",
       "      <td>WD</td>\n",
       "      <td>Normal</td>\n",
       "      <td>172000</td>\n",
       "    </tr>\n",
       "    <tr>\n",
       "      <th>3</th>\n",
       "      <td>4</td>\n",
       "      <td>526353030</td>\n",
       "      <td>20</td>\n",
       "      <td>RL</td>\n",
       "      <td>93.0</td>\n",
       "      <td>11160</td>\n",
       "      <td>Pave</td>\n",
       "      <td>NaN</td>\n",
       "      <td>Reg</td>\n",
       "      <td>Lvl</td>\n",
       "      <td>...</td>\n",
       "      <td>0</td>\n",
       "      <td>NaN</td>\n",
       "      <td>NaN</td>\n",
       "      <td>NaN</td>\n",
       "      <td>0</td>\n",
       "      <td>4</td>\n",
       "      <td>2010</td>\n",
       "      <td>WD</td>\n",
       "      <td>Normal</td>\n",
       "      <td>244000</td>\n",
       "    </tr>\n",
       "    <tr>\n",
       "      <th>4</th>\n",
       "      <td>5</td>\n",
       "      <td>527105010</td>\n",
       "      <td>60</td>\n",
       "      <td>RL</td>\n",
       "      <td>74.0</td>\n",
       "      <td>13830</td>\n",
       "      <td>Pave</td>\n",
       "      <td>NaN</td>\n",
       "      <td>IR1</td>\n",
       "      <td>Lvl</td>\n",
       "      <td>...</td>\n",
       "      <td>0</td>\n",
       "      <td>NaN</td>\n",
       "      <td>MnPrv</td>\n",
       "      <td>NaN</td>\n",
       "      <td>0</td>\n",
       "      <td>3</td>\n",
       "      <td>2010</td>\n",
       "      <td>WD</td>\n",
       "      <td>Normal</td>\n",
       "      <td>189900</td>\n",
       "    </tr>\n",
       "  </tbody>\n",
       "</table>\n",
       "<p>5 rows × 82 columns</p>\n",
       "</div>"
      ],
      "text/plain": [
       "   Order        PID  MS SubClass MS Zoning  Lot Frontage  Lot Area Street  \\\n",
       "0      1  526301100           20        RL         141.0     31770   Pave   \n",
       "1      2  526350040           20        RH          80.0     11622   Pave   \n",
       "2      3  526351010           20        RL          81.0     14267   Pave   \n",
       "3      4  526353030           20        RL          93.0     11160   Pave   \n",
       "4      5  527105010           60        RL          74.0     13830   Pave   \n",
       "\n",
       "  Alley Lot Shape Land Contour    ...     Pool Area Pool QC  Fence  \\\n",
       "0   NaN       IR1          Lvl    ...             0     NaN    NaN   \n",
       "1   NaN       Reg          Lvl    ...             0     NaN  MnPrv   \n",
       "2   NaN       IR1          Lvl    ...             0     NaN    NaN   \n",
       "3   NaN       Reg          Lvl    ...             0     NaN    NaN   \n",
       "4   NaN       IR1          Lvl    ...             0     NaN  MnPrv   \n",
       "\n",
       "  Misc Feature Misc Val Mo Sold Yr Sold Sale Type  Sale Condition  SalePrice  \n",
       "0          NaN        0       5    2010       WD           Normal     215000  \n",
       "1          NaN        0       6    2010       WD           Normal     105000  \n",
       "2         Gar2    12500       6    2010       WD           Normal     172000  \n",
       "3          NaN        0       4    2010       WD           Normal     244000  \n",
       "4          NaN        0       3    2010       WD           Normal     189900  \n",
       "\n",
       "[5 rows x 82 columns]"
      ]
     },
     "execution_count": 8,
     "metadata": {},
     "output_type": "execute_result"
    }
   ],
   "source": [
    "houses.head(5)"
   ]
  },
  {
   "cell_type": "code",
   "execution_count": 9,
   "metadata": {},
   "outputs": [
    {
     "data": {
      "text/plain": [
       "count      2930.000000\n",
       "mean     180796.060068\n",
       "std       79886.692357\n",
       "min       12789.000000\n",
       "25%      129500.000000\n",
       "50%      160000.000000\n",
       "75%      213500.000000\n",
       "max      755000.000000\n",
       "Name: SalePrice, dtype: float64"
      ]
     },
     "execution_count": 9,
     "metadata": {},
     "output_type": "execute_result"
    }
   ],
   "source": [
    "houses['SalePrice'].describe()"
   ]
  },
  {
   "cell_type": "code",
   "execution_count": 11,
   "metadata": {},
   "outputs": [
    {
     "name": "stdout",
     "output_type": "stream",
     "text": [
      "True\n"
     ]
    }
   ],
   "source": [
    "def mean(distribution):\n",
    "    sum_distribution = 0\n",
    "    for value in distribution:\n",
    "        sum_distribution += value\n",
    "        \n",
    "    return sum_distribution / len(distribution)\n",
    "\n",
    "function_mean = mean( houses['SalePrice'])\n",
    "pandas_mean = houses['SalePrice'].mean()\n",
    "\n",
    "if function_mean == pandas_mean:\n",
    "    means_are_equal = True\n",
    "print(means_are_equal)                    "
   ]
  },
  {
   "cell_type": "markdown",
   "metadata": {},
   "source": [
    "\n",
    "\n",
    "Our aim is to reduce the sampling error. Two important factors that influence the sampling error are:\n",
    "\n",
    "    Sample representativity — the more representative a sample is, the closer \n",
    "\n",
    "will be to\n",
    "\n",
    "    .\n",
    "    Sample size — the larger the sample, the more chances we have to get a representative sample. By consequence, this means less sampling error.\n",
    "\n",
    "This emphasizes once more the importance of the sampling process, where we should try our best to get a representative sample.\n",
    "\n",
    "In the exercise below, we'll try to visualize on a scatter plot how the sampling error changes as we increase the sample size. Just to prove a point, we'll assume that our data set describes all the houses sold in Ames, Iowa between 2006 and 2010."
   ]
  },
  {
   "cell_type": "code",
   "execution_count": 13,
   "metadata": {},
   "outputs": [
    {
     "data": {
      "text/plain": [
       "Text(0,0.5,'Sampling error')"
      ]
     },
     "execution_count": 13,
     "metadata": {},
     "output_type": "execute_result"
    },
    {
     "data": {
      "image/png": "[encoded data removed]",
      "text/plain": [
       "<Figure size 432x288 with 1 Axes>"
      ]
     },
     "metadata": {
      "needs_background": "light"
     },
     "output_type": "display_data"
    }
   ],
   "source": [
    "parameter = houses['SalePrice'].mean()\n",
    "sample_size = 5\n",
    "\n",
    "sample_sizes = []\n",
    "sampling_errors = []\n",
    "\n",
    "for i in range(101):\n",
    "    sample = houses['SalePrice'].sample(sample_size , random_state = i)\n",
    "    statistic = sample.mean()\n",
    "    sampling_error = parameter - statistic\n",
    "    sampling_errors.append(sampling_error)\n",
    "    sample_sizes.append(sample_size)\n",
    "    sample_size += 29\n",
    "    \n",
    "import matplotlib.pyplot as plt\n",
    "%matplotlib inline\n",
    "plt.scatter(sample_sizes, sampling_errors)\n",
    "plt.axhline(0)\n",
    "plt.axvline(2930)\n",
    "plt.xlabel('Sample size')\n",
    "plt.ylabel('Sampling error')"
   ]
  },
  {
   "cell_type": "code",
   "execution_count": 6,
   "metadata": {},
   "outputs": [],
   "source": [
    "unique_year= list(houses['Yr Sold'].unique())"
   ]
  },
  {
   "cell_type": "code",
   "execution_count": 7,
   "metadata": {},
   "outputs": [
    {
     "data": {
      "text/plain": [
       "[2010, 2009, 2008, 2007, 2006]"
      ]
     },
     "execution_count": 7,
     "metadata": {},
     "output_type": "execute_result"
    }
   ],
   "source": [
    "unique_year"
   ]
  },
  {
   "cell_type": "code",
   "execution_count": 8,
   "metadata": {},
   "outputs": [],
   "source": [
    "d ={}\n",
    "def recharge(array,i):\n",
    "    max_1= array.max()\n",
    "    min_1 = array.min()\n",
    "    d[i] = ( max_1 - min_1)\n",
    "for i in unique_year:\n",
    "    #find sale price columns for this year\n",
    "    particular_year_sale=houses[houses['Yr Sold']==i]\n",
    "    recharge(particular_year_sale['SalePrice'],i)"
   ]
  },
  {
   "cell_type": "code",
   "execution_count": 9,
   "metadata": {},
   "outputs": [
    {
     "name": "stdout",
     "output_type": "stream",
     "text": [
      "{2008: 601900, 2009: 575100, 2010: 598868, 2006: 590000, 2007: 715700}\n"
     ]
    }
   ],
   "source": [
    "print(d)"
   ]
  },
  {
   "cell_type": "code",
   "execution_count": 10,
   "metadata": {},
   "outputs": [],
   "source": [
    "def find_range(array):\n",
    "    return max(array) - min(array)\n",
    "\n",
    "range_by_year = {}\n",
    "for year in houses['Yr Sold'].unique():\n",
    "    data_by_year = houses[houses['Yr Sold'] == year]\n",
    "    range_by_year[year] = find_range(data_by_year['SalePrice'])"
   ]
  },
  {
   "cell_type": "code",
   "execution_count": 11,
   "metadata": {},
   "outputs": [],
   "source": [
    "C = [1,1,1,1,1,1,1,1,1,21]\n",
    "import numpy as np\n",
    "def find( array):\n",
    "    mean = np.mean(array)\n",
    "    average_distance = []\n",
    "    for i in array:\n",
    "        distances = i - mean\n",
    "        average_distance.append( distances)\n",
    "    return sum(average_distance) / len( average_distance)    \n",
    "avg_distance = find( C )  "
   ]
  },
  {
   "cell_type": "code",
   "execution_count": 12,
   "metadata": {},
   "outputs": [],
   "source": [
    "from math import sqrt\n",
    "def standard_deviation(array):\n",
    "    reference_point = sum(array) / len(array)\n",
    "    \n",
    "    distances = []\n",
    "    for value in array:\n",
    "        squared_distance = (value - reference_point)**2\n",
    "        distances.append(squared_distance)\n",
    "        \n",
    "    variance = sum(distances) / len(distances)\n",
    "    \n",
    "    return sqrt(variance)"
   ]
  },
  {
   "cell_type": "code",
   "execution_count": 13,
   "metadata": {},
   "outputs": [
    {
     "name": "stdout",
     "output_type": "stream",
     "text": [
      "79873.05865192247\n"
     ]
    }
   ],
   "source": [
    "salary_standard_deviation = standard_deviation(houses['SalePrice'])\n",
    "print( salary_standard_deviation )"
   ]
  },
  {
   "cell_type": "code",
   "execution_count": 14,
   "metadata": {},
   "outputs": [
    {
     "name": "stdout",
     "output_type": "stream",
     "text": [
      "180796.0600682594\n"
     ]
    }
   ],
   "source": [
    "mean_salary=houses['SalePrice'].mean()\n",
    "print( mean_salary)"
   ]
  },
  {
   "cell_type": "code",
   "execution_count": 15,
   "metadata": {},
   "outputs": [
    {
     "data": {
      "text/plain": [
       "<matplotlib.legend.Legend at 0x7f61a2041ac8>"
      ]
     },
     "execution_count": 15,
     "metadata": {},
     "output_type": "execute_result"
    },
    {
     "data": {
      "image/png": "[encoded data removed]",
      "text/plain": [
       "<matplotlib.figure.Figure at 0x7f61a2070fd0>"
      ]
     },
     "metadata": {},
     "output_type": "display_data"
    }
   ],
   "source": [
    "import matplotlib.pyplot as plt\n",
    "%matplotlib inline\n",
    "houses['SalePrice'].plot.hist()\n",
    "plt.axvline(x = mean_salary,c = 'Black',label = 'Mean')\n",
    "plt.axvline(x = mean_salary- salary_standard_deviation,c = 'Green',label = 'Below')\n",
    "plt.axvline(x = mean_salary + salary_standard_deviation,c = 'Red',label = 'Above')\n",
    "plt.legend()\n"
   ]
  },
  {
   "cell_type": "code",
   "execution_count": 16,
   "metadata": {},
   "outputs": [],
   "source": [
    "#Before computing the standard deviations, you'll first need to segment your data set by year\n",
    "sd = standard_deviation( houses['SalePrice'])\n",
    "value = abs( houses['SalePrice'] - sd).max()\n"
   ]
  },
  {
   "cell_type": "code",
   "execution_count": 17,
   "metadata": {},
   "outputs": [],
   "source": [
    "years = {}\n",
    "\n",
    "for year in houses['Yr Sold'].unique():\n",
    "    year_segment = houses[houses['Yr Sold'] == year]\n",
    "    st_dev = standard_deviation(year_segment['SalePrice'])\n",
    "    years[year] = st_dev\n",
    "\n",
    "# Get years of max and min variability\n",
    "greatest_variability = max(years, key = years.get) # outputs directly the year with the maximum variability\n",
    "lowest_variability = min(years, key = years.get) # outputs directly the year with the minimum variability"
   ]
  },
  {
   "cell_type": "code",
   "execution_count": 18,
   "metadata": {},
   "outputs": [
    {
     "data": {
      "text/plain": [
       "<matplotlib.lines.Line2D at 0x7f61a1fc7668>"
      ]
     },
     "execution_count": 18,
     "metadata": {},
     "output_type": "execute_result"
    },
    {
     "data": {
      "image/png": "[encoded data removed]",
      "text/plain": [
       "<matplotlib.figure.Figure at 0x7f61a1fcf2b0>"
      ]
     },
     "metadata": {},
     "output_type": "display_data"
    }
   ],
   "source": [
    "st_devs = []\n",
    "\n",
    "for i in range(5000):\n",
    "    sample = houses['SalePrice'].sample(10, random_state = i)\n",
    "    st_dev = standard_deviation(sample)\n",
    "    st_devs.append(st_dev)\n",
    "    \n",
    "plt.hist(st_devs)\n",
    "plt.axvline(standard_deviation(houses['SalePrice']))"
   ]
  },
  {
   "cell_type": "code",
   "execution_count": 19,
   "metadata": {},
   "outputs": [
    {
     "data": {
      "text/plain": [
       "<matplotlib.lines.Line2D at 0x7f61a1486828>"
      ]
     },
     "execution_count": 19,
     "metadata": {},
     "output_type": "execute_result"
    },
    {
     "data": {
      "image/png": "[encoded data removed]",
      "text/plain": [
       "<matplotlib.figure.Figure at 0x7f61a1fcfa20>"
      ]
     },
     "metadata": {},
     "output_type": "display_data"
    }
   ],
   "source": [
    "\n",
    "#plt.hist(st_devs)\n",
    "#plt.axvline(standard_deviation(houses['SalePrice']))\n",
    "def standard_deviation(array):\n",
    "    reference_point = sum(array) / len(array)\n",
    "    \n",
    "    distances = []\n",
    "    for value in array:\n",
    "        squared_distance = (value - reference_point)**2\n",
    "        distances.append(squared_distance)\n",
    "    \n",
    "    variance = sum(distances) / (len(distances) - 1)\n",
    "    \n",
    "    return sqrt(variance)\n",
    "\n",
    "import matplotlib.pyplot as plt\n",
    "st_devs = []\n",
    "\n",
    "for i in range(5000):\n",
    "    sample = houses['SalePrice'].sample(10, random_state = i)\n",
    "    st_dev = standard_deviation(sample)\n",
    "    st_devs.append(st_dev)\n",
    "    \n",
    "plt.hist(st_devs)\n",
    "plt.axvline(standard_deviation(houses['SalePrice']))"
   ]
  },
  {
   "cell_type": "code",
   "execution_count": 20,
   "metadata": {},
   "outputs": [
    {
     "data": {
      "text/html": [
       "<div>\n",
       "<style scoped>\n",
       "    .dataframe tbody tr th:only-of-type {\n",
       "        vertical-align: middle;\n",
       "    }\n",
       "\n",
       "    .dataframe tbody tr th {\n",
       "        vertical-align: top;\n",
       "    }\n",
       "\n",
       "    .dataframe thead th {\n",
       "        text-align: right;\n",
       "    }\n",
       "</style>\n",
       "<table border=\"1\" class=\"dataframe\">\n",
       "  <thead>\n",
       "    <tr style=\"text-align: right;\">\n",
       "      <th></th>\n",
       "      <th>Order</th>\n",
       "      <th>PID</th>\n",
       "      <th>MS SubClass</th>\n",
       "      <th>MS Zoning</th>\n",
       "      <th>Lot Frontage</th>\n",
       "      <th>Lot Area</th>\n",
       "      <th>Street</th>\n",
       "      <th>Alley</th>\n",
       "      <th>Lot Shape</th>\n",
       "      <th>Land Contour</th>\n",
       "      <th>...</th>\n",
       "      <th>Pool Area</th>\n",
       "      <th>Pool QC</th>\n",
       "      <th>Fence</th>\n",
       "      <th>Misc Feature</th>\n",
       "      <th>Misc Val</th>\n",
       "      <th>Mo Sold</th>\n",
       "      <th>Yr Sold</th>\n",
       "      <th>Sale Type</th>\n",
       "      <th>Sale Condition</th>\n",
       "      <th>SalePrice</th>\n",
       "    </tr>\n",
       "  </thead>\n",
       "  <tbody>\n",
       "    <tr>\n",
       "      <th>0</th>\n",
       "      <td>1</td>\n",
       "      <td>526301100</td>\n",
       "      <td>20</td>\n",
       "      <td>RL</td>\n",
       "      <td>141.0</td>\n",
       "      <td>31770</td>\n",
       "      <td>Pave</td>\n",
       "      <td>NaN</td>\n",
       "      <td>IR1</td>\n",
       "      <td>Lvl</td>\n",
       "      <td>...</td>\n",
       "      <td>0</td>\n",
       "      <td>NaN</td>\n",
       "      <td>NaN</td>\n",
       "      <td>NaN</td>\n",
       "      <td>0</td>\n",
       "      <td>5</td>\n",
       "      <td>2010</td>\n",
       "      <td>WD</td>\n",
       "      <td>Normal</td>\n",
       "      <td>215000</td>\n",
       "    </tr>\n",
       "    <tr>\n",
       "      <th>1</th>\n",
       "      <td>2</td>\n",
       "      <td>526350040</td>\n",
       "      <td>20</td>\n",
       "      <td>RH</td>\n",
       "      <td>80.0</td>\n",
       "      <td>11622</td>\n",
       "      <td>Pave</td>\n",
       "      <td>NaN</td>\n",
       "      <td>Reg</td>\n",
       "      <td>Lvl</td>\n",
       "      <td>...</td>\n",
       "      <td>0</td>\n",
       "      <td>NaN</td>\n",
       "      <td>MnPrv</td>\n",
       "      <td>NaN</td>\n",
       "      <td>0</td>\n",
       "      <td>6</td>\n",
       "      <td>2010</td>\n",
       "      <td>WD</td>\n",
       "      <td>Normal</td>\n",
       "      <td>105000</td>\n",
       "    </tr>\n",
       "    <tr>\n",
       "      <th>2</th>\n",
       "      <td>3</td>\n",
       "      <td>526351010</td>\n",
       "      <td>20</td>\n",
       "      <td>RL</td>\n",
       "      <td>81.0</td>\n",
       "      <td>14267</td>\n",
       "      <td>Pave</td>\n",
       "      <td>NaN</td>\n",
       "      <td>IR1</td>\n",
       "      <td>Lvl</td>\n",
       "      <td>...</td>\n",
       "      <td>0</td>\n",
       "      <td>NaN</td>\n",
       "      <td>NaN</td>\n",
       "      <td>Gar2</td>\n",
       "      <td>12500</td>\n",
       "      <td>6</td>\n",
       "      <td>2010</td>\n",
       "      <td>WD</td>\n",
       "      <td>Normal</td>\n",
       "      <td>172000</td>\n",
       "    </tr>\n",
       "    <tr>\n",
       "      <th>3</th>\n",
       "      <td>4</td>\n",
       "      <td>526353030</td>\n",
       "      <td>20</td>\n",
       "      <td>RL</td>\n",
       "      <td>93.0</td>\n",
       "      <td>11160</td>\n",
       "      <td>Pave</td>\n",
       "      <td>NaN</td>\n",
       "      <td>Reg</td>\n",
       "      <td>Lvl</td>\n",
       "      <td>...</td>\n",
       "      <td>0</td>\n",
       "      <td>NaN</td>\n",
       "      <td>NaN</td>\n",
       "      <td>NaN</td>\n",
       "      <td>0</td>\n",
       "      <td>4</td>\n",
       "      <td>2010</td>\n",
       "      <td>WD</td>\n",
       "      <td>Normal</td>\n",
       "      <td>244000</td>\n",
       "    </tr>\n",
       "    <tr>\n",
       "      <th>4</th>\n",
       "      <td>5</td>\n",
       "      <td>527105010</td>\n",
       "      <td>60</td>\n",
       "      <td>RL</td>\n",
       "      <td>74.0</td>\n",
       "      <td>13830</td>\n",
       "      <td>Pave</td>\n",
       "      <td>NaN</td>\n",
       "      <td>IR1</td>\n",
       "      <td>Lvl</td>\n",
       "      <td>...</td>\n",
       "      <td>0</td>\n",
       "      <td>NaN</td>\n",
       "      <td>MnPrv</td>\n",
       "      <td>NaN</td>\n",
       "      <td>0</td>\n",
       "      <td>3</td>\n",
       "      <td>2010</td>\n",
       "      <td>WD</td>\n",
       "      <td>Normal</td>\n",
       "      <td>189900</td>\n",
       "    </tr>\n",
       "  </tbody>\n",
       "</table>\n",
       "<p>5 rows × 82 columns</p>\n",
       "</div>"
      ],
      "text/plain": [
       "   Order        PID  MS SubClass MS Zoning  Lot Frontage  Lot Area Street  \\\n",
       "0      1  526301100           20        RL         141.0     31770   Pave   \n",
       "1      2  526350040           20        RH          80.0     11622   Pave   \n",
       "2      3  526351010           20        RL          81.0     14267   Pave   \n",
       "3      4  526353030           20        RL          93.0     11160   Pave   \n",
       "4      5  527105010           60        RL          74.0     13830   Pave   \n",
       "\n",
       "  Alley Lot Shape Land Contour    ...     Pool Area Pool QC  Fence  \\\n",
       "0   NaN       IR1          Lvl    ...             0     NaN    NaN   \n",
       "1   NaN       Reg          Lvl    ...             0     NaN  MnPrv   \n",
       "2   NaN       IR1          Lvl    ...             0     NaN    NaN   \n",
       "3   NaN       Reg          Lvl    ...             0     NaN    NaN   \n",
       "4   NaN       IR1          Lvl    ...             0     NaN  MnPrv   \n",
       "\n",
       "  Misc Feature Misc Val Mo Sold Yr Sold Sale Type  Sale Condition  SalePrice  \n",
       "0          NaN        0       5    2010       WD           Normal     215000  \n",
       "1          NaN        0       6    2010       WD           Normal     105000  \n",
       "2         Gar2    12500       6    2010       WD           Normal     172000  \n",
       "3          NaN        0       4    2010       WD           Normal     244000  \n",
       "4          NaN        0       3    2010       WD           Normal     189900  \n",
       "\n",
       "[5 rows x 82 columns]"
      ]
     },
     "execution_count": 20,
     "metadata": {},
     "output_type": "execute_result"
    }
   ],
   "source": [
    "houses.head()"
   ]
  },
  {
   "cell_type": "code",
   "execution_count": 23,
   "metadata": {},
   "outputs": [
    {
     "name": "stdout",
     "output_type": "stream",
     "text": [
      "True\n"
     ]
    }
   ],
   "source": [
    "sample = houses.sample(100, random_state = 1)\n",
    "from numpy import std, var\n",
    "pandas_stdev = sample['SalePrice'].std(ddof = 1) # default ddof = 1\n",
    "numpy_stdev = std(sample['SalePrice'], ddof = 1) # default ddof = 0\n",
    "equal_stdevs = pandas_stdev == numpy_stdev\n",
    "\n",
    "pandas_var = sample['SalePrice'].var(ddof = 1) # default ddof = 1\n",
    "numpy_var = var(sample['SalePrice'], ddof = 1) #default ddof = 0\n",
    "equal_vars = pandas_var == numpy_var\n",
    "print(equal_vars)"
   ]
  },
  {
   "cell_type": "markdown",
   "metadata": {},
   "source": [
    "### Z scores"
   ]
  },
  {
   "cell_type": "markdown",
   "metadata": {},
   "source": [
    "instructions\n",
    "\n",
    "    Generate a kernel density plot for the SalePrice variable to find out how far off $220,000 is from the mean.\n",
    "        Generate the plot using Series.plot.kde().\n",
    "            The limits of the x-axis should be the minimum and the maximum value of the SalePrice variable. To set the limits you can use the xlim parameter of Series.plot.kde().\n",
    "        Plot a vertical line to indicate visually the location of the mean using plt.axvline().\n",
    "            The color of the line should be black, and its label should be 'Mean'. You can use the color and label parameters of plt.axvline().\n",
    "        Plot a vertical line to indicate visually the standard deviation distance above the mean — you'll have to generate a vertical line for the sum of the mean and standard deviation.\n",
    "            Assume that the data is a population and compute the standard deviation without using Bessel's correction.\n",
    "            The color of the line should be red and its label should be 'Standard deviation'.\n",
    "        Plot a vertical line for the $220,000 price.\n",
    "            The color of the line should be orange and its label should be '220000'.\n",
    "        Display all the labels using plt.legend().\n",
    "\n",
    "    Examine the graph and figure out whether a price of $220,000 is very expensive. If it's very expensive, assign True to variable named very_expensive, otherwise assign False.\n",
    "\n"
   ]
  },
  {
   "cell_type": "code",
   "execution_count": 62,
   "metadata": {},
   "outputs": [
    {
     "data": {
      "image/png": "[encoded data removed]",
      "text/plain": [
       "<matplotlib.figure.Figure at 0x7fac23e20898>"
      ]
     },
     "metadata": {},
     "output_type": "display_data"
    }
   ],
   "source": [
    "min_1 = houses['SalePrice'].min()\n",
    "max_1 = houses['SalePrice'].max()\n",
    "houses['SalePrice'].plot.kde(xlim =[min_1,max_1])\n",
    "\n",
    "plt.axvline(x =houses['SalePrice'].mean(), c = 'Black', label = 'Mean'  )\n",
    "plt.axvline(x =houses['SalePrice'].std() + houses['SalePrice'].mean(), c = 'Red', label = 'Standard deviation' )\n",
    "plt.axvline( x = 220000, c = 'Orange', label = '220000')\n",
    "plt.legend()\n",
    "\n",
    "very_expensive = False"
   ]
  },
  {
   "cell_type": "markdown",
   "metadata": {},
   "source": [
    "### Calcuating Z score\n",
    "The value representing the number of standard deviations away from the mean is commonly known as the standard score, or the z-score. We'll use the term \"z-score\" throughout our courses."
   ]
  },
  {
   "cell_type": "code",
   "execution_count": 24,
   "metadata": {},
   "outputs": [],
   "source": [
    "#example showing just the calculation of mean values from the data sets\n",
    "min_val = houses['SalePrice'].min()\n",
    "mean_val = houses['SalePrice'].mean()\n",
    "max_val = houses['SalePrice'].max()\n",
    "def z_score(value, array, bessel = 0):\n",
    "    mean = sum(array) / len(array)\n",
    "    \n",
    "    from numpy import std\n",
    "    st_dev = std(array, ddof = bessel)\n",
    "    \n",
    "    distance = value - mean\n",
    "    z = distance / st_dev\n",
    "    \n",
    "    return z\n",
    "\n",
    "min_z = z_score(min_val, houses['SalePrice'])\n",
    "mean_z = z_score(mean_val, houses['SalePrice'])\n",
    "max_z = z_score(max_val, houses['SalePrice'])"
   ]
  },
  {
   "cell_type": "markdown",
   "metadata": {},
   "source": [
    "instructions\n",
    "\n",
    "    Find out the location for which $200,000 has the z-score closest to 0. Code-wise, there are several ways to complete this task, and we encourage you to think of a way yourself. Below we describe one way to complete this task:\n",
    "        Isolate the data for each of the five neighborhoods. The neigborhoods are described in the Neighborhood column. These are the abbreviations for our neighborhoods of interest:\n",
    "            'NAmes' for North Ames.\n",
    "            'CollgCr' for College Creek.\n",
    "            'OldTown' for Old Town.\n",
    "            'Edwards' for Edwards.\n",
    "            'Somerst' for Somerset.\n",
    "        For example, to isolate the data for North Ames you can do houses[houses['Neighborhood'] == 'NAmes'] and save the data to a variable.\n",
    "        Find the z-score of a $200,000 price for each of the five data sets you isolated. Assume that each data set is a population.\n",
    "        Examine the z-scores to find the best location to invest in. Assign your answer as a string to the variable best_investment. Choose between the following strings: 'North Ames', 'College Creek', 'Old Town', 'Edwards', and 'Somerset'.\n"
   ]
  },
  {
   "cell_type": "code",
   "execution_count": 29,
   "metadata": {},
   "outputs": [
    {
     "name": "stdout",
     "output_type": "stream",
     "text": [
      "NAmes\n",
      "CollgCr\n",
      "OldTown\n",
      "Edwards\n",
      "Somerst\n",
      "{'OldTown': 1.7183080926865524, 'Somerst': -0.5186390646965723, 'Edwards': 1.4435761938489418, 'CollgCr': -0.03334366282705464, 'NAmes': 1.7239665910370232}\n"
     ]
    }
   ],
   "source": [
    "list1 = ['NAmes','CollgCr','OldTown','Edwards','Somerst']\n",
    "z_by_location= {}\n",
    "for l in list1:\n",
    "    #calculae the mean for the distribution\n",
    "    print(l)\n",
    "    sample = houses[houses['Neighborhood']== l ]\n",
    "    z_value = z_score( 200000, sample['SalePrice'])\n",
    "    z_by_location[l] = z_value\n",
    "#years, key = years.get)    \n",
    "#best_investment = min( z_by_location, key =z_by_location.get )  \n",
    "print(z_by_location)"
   ]
  },
  {
   "cell_type": "code",
   "execution_count": 30,
   "metadata": {},
   "outputs": [],
   "source": [
    "# Find the location with the z-score closest to 0    \n",
    "#best_investment = min( z_by_location, key= z_by_location .get)    \n",
    "best_investment ='College Creek'"
   ]
  },
  {
   "cell_type": "markdown",
   "metadata": {},
   "source": [
    "### Transformation\n",
    "\n",
    "\n",
    "A distribution of z-scores is often called a standard distribution (remember that z-scores are also called standard scores). When we convert a distribution to z-scores, we'd say in statistical jargon that we standardized the distribution."
   ]
  },
  {
   "cell_type": "code",
   "execution_count": 33,
   "metadata": {},
   "outputs": [
    {
     "data": {
      "image/png": "[encoded data removed]",
      "text/plain": [
       "<matplotlib.figure.Figure at 0x7f61a1bc8438>"
      ]
     },
     "metadata": {},
     "output_type": "display_data"
    }
   ],
   "source": [
    "mean = houses['SalePrice'].mean()\n",
    "st_dev = houses['SalePrice'].std(ddof = 0)\n",
    "\n",
    "houses['z_prices'] = houses['SalePrice'].apply(\n",
    "       lambda x: ((x - mean) / st_dev)\n",
    "       )\n",
    "\n",
    "plt.figure(figsize = (11,3.5))\n",
    "plt.subplot(1,2,1)\n",
    "houses['z_prices'].plot.kde(xlim = (houses['z_prices'].min(),\n",
    "                                   houses['z_prices'].max()\n",
    "                                   )\n",
    "                           )\n",
    "plt.subplot(1,2,2)\n",
    "houses['SalePrice'].plot.kde(xlim = (houses['SalePrice'].min(),\n",
    "                                       houses['SalePrice'].max()\n",
    "                                       )\n",
    "                               )\n",
    "plt.tight_layout() # otherwise the plots will overlay partially"
   ]
  },
  {
   "cell_type": "code",
   "execution_count": 42,
   "metadata": {},
   "outputs": [
    {
     "name": "stdout",
     "output_type": "stream",
     "text": [
      "mean_z of standard population = 0.0\n",
      "std_z of standard population = 1.0\n"
     ]
    }
   ],
   "source": [
    "#example\n",
    "from numpy import std, mean\n",
    "population = [0,8,0,8]\n",
    "#use list comprehension\n",
    "p_mean = mean(population)\n",
    "p_std = std(population)\n",
    "population_z = [ ((x - p_mean)/p_std) for x in population ]\n",
    "\n",
    "mean_z = mean( population_z)\n",
    "stdev_z = std( population_z)\n",
    "\n",
    "print( 'mean_z of standard population = ' + str(mean_z) )\n",
    "\n",
    "print( 'std_z of standard population = ' + str(stdev_z) )"
   ]
  },
  {
   "cell_type": "code",
   "execution_count": 51,
   "metadata": {},
   "outputs": [
    {
     "name": "stdout",
     "output_type": "stream",
     "text": [
      "1.0\n"
     ]
    }
   ],
   "source": [
    "# Notice for this example we have used ddof 1, go back to study it later.\n",
    "from numpy import std, mean\n",
    "sample = [0,8,0,8]\n",
    "\n",
    "x_bar = mean(sample)\n",
    "s = std(sample, ddof = 1)\n",
    "\n",
    "standardized_sample = []\n",
    "for value in sample:\n",
    "    z = (value - x_bar) / s\n",
    "    standardized_sample.append(z)\n",
    "    \n",
    "stdev_sample = std( standardized_sample,ddof = 1)\n",
    "print(stdev_sample)"
   ]
  },
  {
   "cell_type": "code",
   "execution_count": 34,
   "metadata": {},
   "outputs": [],
   "source": [
    "# Creating transformation for Sale price attribute\n",
    "mean = houses['SalePrice'].mean()\n",
    "st_dev = houses['SalePrice'].std(ddof = 0)\n",
    "#next line creates Z transform\n",
    "houses['z_prices'] = houses['SalePrice'].apply(lambda x: ((x - mean) / st_dev))\n",
    "                                                     \n",
    "#creting mean and standard  of z transform \n",
    "z_mean_price = houses['z_prices'].mean()\n",
    "z_stdev_price = houses['z_prices'].std(ddof = 0)\n",
    "\n",
    "# Creating transformation for Lot area attribute\n",
    "area_mean = houses['Lot Area'].mean()\n",
    "area_std = houses['Lot Area'].std()\n",
    "houses['z_mean_area'] = houses['Lot Area'].apply( lambda x: ((x - area_mean)/area_std ) )\n",
    "z_mean_area = houses['z_mean_area'].mean()\n",
    "z_stdev_area = houses['z_mean_area'].std()"
   ]
  },
  {
   "cell_type": "code",
   "execution_count": null,
   "metadata": {},
   "outputs": [],
   "source": []
  }
 ],
 "metadata": {
  "kernelspec": {
   "display_name": "Python 3",
   "language": "python",
   "name": "python3"
  },
  "language_info": {
   "codemirror_mode": {
    "name": "ipython",
    "version": 3
   },
   "file_extension": ".py",
   "mimetype": "text/x-python",
   "name": "python",
   "nbconvert_exporter": "python",
   "pygments_lexer": "ipython3",
   "version": "3.5.6"
  }
 },
 "nbformat": 4,
 "nbformat_minor": 2
}
